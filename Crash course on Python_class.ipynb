{
 "cells": [
  {
   "cell_type": "markdown",
   "metadata": {
    "slideshow": {
     "slide_type": "slide"
    }
   },
   "source": [
    "# A crash course on Python for Data Analysis\n",
    "\n",
    "1.\tPython basic programming.\n",
    "2.\tAdvanced programming for data analysis: NumPy.\n",
    "3.  Advanced programming for data analysis: pandas.\n",
    "4.  Advanced topics: parallel processing, etc.\n",
    "\n",
    "<center><img src=\"files/images/python.jpg\"></center>\n"
   ]
  },
  {
   "cell_type": "markdown",
   "metadata": {
    "slideshow": {
     "slide_type": "slide"
    }
   },
   "source": [
    "<center><img src=\"files/images/monty.jpg\"></center>"
   ]
  },
  {
   "cell_type": "markdown",
   "metadata": {
    "slideshow": {
     "slide_type": "slide"
    }
   },
   "source": [
    "## Python\n",
    "\n",
    "The software program that you use to invoke operators is called an **interpreter**. You enter your commands as a ‘dialog’ between you and the interpreter. Commands can be entered as part of a script (a text file with a list of commands to perform) or directly at the *cell*. \n",
    "\n",
    "In order to ask to the interpreter what to do, you must **invoke** an operator:"
   ]
  },
  {
   "cell_type": "code",
   "execution_count": 1,
   "metadata": {
    "slideshow": {
     "slide_type": "subslide"
    }
   },
   "outputs": [
    {
     "data": {
      "text/plain": [
       "16"
      ]
     },
     "execution_count": 1,
     "metadata": {},
     "output_type": "execute_result"
    }
   ],
   "source": [
    "3 + 4 + 9"
   ]
  },
  {
   "cell_type": "code",
   "execution_count": 2,
   "metadata": {
    "slideshow": {
     "slide_type": "slide"
    }
   },
   "outputs": [
    {
     "data": {
      "text/plain": [
       "[0, 1, 2, 3, 4, 5, 6, 7, 8, 9]"
      ]
     },
     "execution_count": 2,
     "metadata": {},
     "output_type": "execute_result"
    }
   ],
   "source": [
    "range(10)"
   ]
  },
  {
   "cell_type": "markdown",
   "metadata": {
    "slideshow": {
     "slide_type": "slide"
    }
   },
   "source": [
    "It’s helpful to think of the computation carried out by an operator as involving four parts:\n",
    "\n",
    "+ The name of the operator\n",
    "+ The input arguments\n",
    "+ The output value\n",
    "+ Side effects\n",
    "\n",
    "A typical operation takes one or more input arguments and uses the information in these to produce an output value. Along the way, the computer might take some action: display a graph, store a file, make a sound, etc. These actions are called side effects."
   ]
  },
  {
   "cell_type": "markdown",
   "metadata": {},
   "source": [
    "Python is a general-purpose programming language, so when we want to use more specific commands (such as statistical operators or string processing operators) we usually need to import them before we can use them. <br>"
   ]
  },
  {
   "cell_type": "markdown",
   "metadata": {},
   "source": [
    "\n",
    "<div class=\"alert alert-error\"> For Scientific Python, one of the most important libraries that we need is **numpy** (Numerical Python), which can be loaded like this: ``import numpy as np``</div>"
   ]
  },
  {
   "cell_type": "code",
   "execution_count": 3,
   "metadata": {},
   "outputs": [
    {
     "data": {
      "text/plain": [
       "5.0"
      ]
     },
     "execution_count": 3,
     "metadata": {},
     "output_type": "execute_result"
    }
   ],
   "source": [
    "import numpy as np\n",
    "np.sqrt(25)"
   ]
  },
  {
   "cell_type": "code",
   "execution_count": 4,
   "metadata": {},
   "outputs": [
    {
     "data": {
      "text/plain": [
       "array([0, 1, 2, 3, 4, 5, 6, 7, 8, 9])"
      ]
     },
     "execution_count": 4,
     "metadata": {},
     "output_type": "execute_result"
    }
   ],
   "source": [
    "np.arange(10)"
   ]
  },
  {
   "cell_type": "markdown",
   "metadata": {},
   "source": [
    "Access to the functions, variables and classes of a module depends on the way the module was imported:"
   ]
  },
  {
   "cell_type": "code",
   "execution_count": 5,
   "metadata": {},
   "outputs": [
    {
     "data": {
      "text/plain": [
       "-1.0"
      ]
     },
     "execution_count": 5,
     "metadata": {},
     "output_type": "execute_result"
    }
   ],
   "source": [
    "import math\n",
    "math.cos(math.pi)"
   ]
  },
  {
   "cell_type": "code",
   "execution_count": 6,
   "metadata": {},
   "outputs": [
    {
     "data": {
      "text/plain": [
       "-1.0"
      ]
     },
     "execution_count": 6,
     "metadata": {},
     "output_type": "execute_result"
    }
   ],
   "source": [
    "import math as m  # import using an alias\n",
    "m.cos(m.pi)"
   ]
  },
  {
   "cell_type": "code",
   "execution_count": 7,
   "metadata": {},
   "outputs": [
    {
     "data": {
      "text/plain": [
       "-1.0"
      ]
     },
     "execution_count": 7,
     "metadata": {},
     "output_type": "execute_result"
    }
   ],
   "source": [
    "from math import cos,pi # import only some functions\n",
    "cos(pi)"
   ]
  },
  {
   "cell_type": "code",
   "execution_count": 8,
   "metadata": {},
   "outputs": [
    {
     "data": {
      "text/plain": [
       "-1.0"
      ]
     },
     "execution_count": 8,
     "metadata": {},
     "output_type": "execute_result"
    }
   ],
   "source": [
    "from math import *   # global import\n",
    "cos(pi)"
   ]
  },
  {
   "cell_type": "markdown",
   "metadata": {},
   "source": [
    "Often the value returned by an operation will be used later on. Values can be stored for later use with the **assignment operator**:"
   ]
  },
  {
   "cell_type": "code",
   "execution_count": 9,
   "metadata": {},
   "outputs": [],
   "source": [
    "a = 101"
   ]
  },
  {
   "cell_type": "markdown",
   "metadata": {},
   "source": [
    "The command has stored the value 101 under the name <code>a</code>. Such stored values are called **objects**. \n",
    "\n",
    "Making an assignment to an object defines the object. Once an object has been defined, it can be referred to and used in later computations. \n",
    "\n",
    "To refer to the value stored in the object, just use the object’s name itself. For instance:"
   ]
  },
  {
   "cell_type": "code",
   "execution_count": 10,
   "metadata": {},
   "outputs": [
    {
     "data": {
      "text/plain": [
       "10.04987562112089"
      ]
     },
     "execution_count": 10,
     "metadata": {},
     "output_type": "execute_result"
    }
   ],
   "source": [
    "b = np.sqrt(a)\n",
    "b"
   ]
  },
  {
   "cell_type": "markdown",
   "metadata": {},
   "source": [
    "There are some general rules for object names:\n",
    "\n",
    "+ Use only letters and numbers and ‘underscores’ (_)\n",
    "+ Do NOT use spaces anywhere in the name\n",
    "+ A number cannot be the first character in the name\n",
    "+ Capital letters are treated as distinct from lower-case letters (i.e., Python is case-sensitive)"
   ]
  },
  {
   "cell_type": "code",
   "execution_count": 11,
   "metadata": {},
   "outputs": [
    {
     "ename": "SyntaxError",
     "evalue": "invalid syntax (<ipython-input-11-276e317fa324>, line 1)",
     "output_type": "error",
     "traceback": [
      "\u001b[1;36m  File \u001b[1;32m\"<ipython-input-11-276e317fa324>\"\u001b[1;36m, line \u001b[1;32m1\u001b[0m\n\u001b[1;33m    3a = 10\u001b[0m\n\u001b[1;37m     ^\u001b[0m\n\u001b[1;31mSyntaxError\u001b[0m\u001b[1;31m:\u001b[0m invalid syntax\n"
     ]
    }
   ],
   "source": [
    "3a = 10"
   ]
  },
  {
   "cell_type": "markdown",
   "metadata": {},
   "source": [
    "When you assign a new value to an existing object (*dynamic typing*), the former values of that object is erased from the computer memory. The former value of b was 10.0498756211, but after a new assignment:"
   ]
  },
  {
   "cell_type": "code",
   "execution_count": 12,
   "metadata": {},
   "outputs": [
    {
     "name": "stdout",
     "output_type": "stream",
     "text": [
      "a\n"
     ]
    }
   ],
   "source": [
    "b = 'a'\n",
    "print b"
   ]
  },
  {
   "cell_type": "markdown",
   "metadata": {},
   "source": [
    "The value of an object is changed only via the assignment operator. Using an object in a computation does not change the value. "
   ]
  },
  {
   "cell_type": "markdown",
   "metadata": {},
   "source": [
    "The brilliant thing about organizing operators in terms of input arguments and output values is that the output of one operator can be used as an input to another. This lets complicated computations be built out of simpler ones.\n",
    "\n",
    "One way to connect the computations is by using objects to store the intermediate outputs:"
   ]
  },
  {
   "cell_type": "code",
   "execution_count": 13,
   "metadata": {},
   "outputs": [
    {
     "data": {
      "text/plain": [
       "array([ 0.        ,  1.        ,  1.41421356,  1.73205081,  2.        ])"
      ]
     },
     "execution_count": 13,
     "metadata": {},
     "output_type": "execute_result"
    }
   ],
   "source": [
    "a = np.arange(5)\n",
    "np.sqrt(a)"
   ]
  },
  {
   "cell_type": "markdown",
   "metadata": {},
   "source": [
    "You can also pass the output of an operator directly as an argument to another operator:"
   ]
  },
  {
   "cell_type": "code",
   "execution_count": 14,
   "metadata": {},
   "outputs": [
    {
     "data": {
      "text/plain": [
       "array([ 0.        ,  1.        ,  1.41421356,  1.73205081,  2.        ])"
      ]
     },
     "execution_count": 14,
     "metadata": {},
     "output_type": "execute_result"
    }
   ],
   "source": [
    "np.sqrt(np.arange(5))"
   ]
  },
  {
   "cell_type": "markdown",
   "metadata": {},
   "source": [
    "### Data Types\n",
    "\n",
    "Most of the examples used so far have dealt with numbers. But computers work with other kinds of information as well: text, photographs, sounds, sets of data, and so on. The word *type* is used to refer to the kind of information. \n",
    "\n",
    "It’s important to know about the types of data because operators expect their input arguments to be of specific types. When you use the wrong type of input, the computer might not be able to process your command."
   ]
  },
  {
   "cell_type": "markdown",
   "metadata": {},
   "source": [
    "For our purposes, it’s important to distinguish among several basic types:\n",
    "\n",
    "+ Numeric (positive and negative) data: \n",
    "    + decimal and fractional numbers (**floats**), <code>a = 3.5</code>\n",
    "    + whole numbers (**integers**), <code> b = -12560</code>, and \n",
    "    + arbitrary length whole numbers (**longs**):  <code>c=1809109863596239561236235625629561L</code>\n",
    "+ **Strings** of textual data - you indicate string data to the computer by enclosing the text in quotation marks (e.g., <code>name = \"python\"</code>).\n",
    "+ **Boolean** data: <code>a = True</code> or <code>a = False</code>.\n",
    "+ **Complex** numbers: <code>a = 2+3j</code>\n",
    "+ Sequence types: **tuples, lists, sets, dictionaries** and **files**."
   ]
  },
  {
   "cell_type": "code",
   "execution_count": 15,
   "metadata": {},
   "outputs": [],
   "source": [
    "a = 10"
   ]
  },
  {
   "cell_type": "code",
   "execution_count": 16,
   "metadata": {},
   "outputs": [
    {
     "name": "stdout",
     "output_type": "stream",
     "text": [
      "a\n"
     ]
    }
   ],
   "source": [
    "a = 'a'\n",
    "print a"
   ]
  },
  {
   "cell_type": "markdown",
   "metadata": {},
   "source": [
    "### Operators\n",
    "\n",
    "+ Addition (also string, tuple and list concatenation) <code>a + b</code>\n",
    "+ Subtraction (also set difference): <code>a - b</code>\n",
    "+ Multiplication (also string, tuple and list replication): <code>a * b</code>\n",
    "+ Division: <code>a / b</code>\n",
    "+ Truncated integer division (rounded towards minus infinity): <code>a // b</code>\n",
    "+ Modulus or remainder: <code>a % b</code>\n",
    "+ Exponentiation: <code>a ** b</code>\n",
    "+ Assignment: <code>=</code>, <code>-=</code>, <code>+=</code>,<code>/=</code>,<code>*=</code>, <code>%=</code>, <code>//=</code>, <code>**=</code>\n",
    "+ Boolean comparisons: <code>==</code>, <code>!=</code>, <code><</code>,<code>></code>,<code><=</code>, <code>>=</code>\n",
    "+ Boolean operators: <code>and</code>, <code>or</code>, <code>not</code>\n",
    "+ Membership test operators: <code>in</code>, <code>not in</code>\n",
    "+ Object identity operators: <code>is</code>, <code>is not</code>\n",
    "+ Bitwise operators (or, xor, and, complement): <code>|</code>, <code>^</code>, <code>&</code>, <code>~</code>\n",
    "+ Left and right bit shift: <code><<</code>, <code>>></code>"
   ]
  },
  {
   "cell_type": "markdown",
   "metadata": {},
   "source": [
    "### Python as a calculator\n",
    "\n",
    "The Python language has a concise notation for arithmetic that looks very much like the traditional one."
   ]
  },
  {
   "cell_type": "code",
   "execution_count": null,
   "metadata": {},
   "outputs": [],
   "source": [
    "a = 3+2\n",
    "b= 3.5 * -8\n",
    "c = 10/6\n",
    "print a, b, c, 10./6."
   ]
  },
  {
   "cell_type": "markdown",
   "metadata": {},
   "source": [
    "Some math functions are not available in the basic Python module, and they need to be imported from a specific module:"
   ]
  },
  {
   "cell_type": "code",
   "execution_count": null,
   "metadata": {},
   "outputs": [],
   "source": [
    "import math   # this instruction is not executed if the module has already been imported\n",
    "print math.pi + math.sin(100) + math.ceil(2.3)"
   ]
  },
  {
   "cell_type": "markdown",
   "metadata": {},
   "source": [
    "### A program in Python\n",
    "\n",
    "General Rules:\n",
    "\n",
    "+ All text from a <code>#</code> simbol to the end of a line are considered as comments.\n",
    "+ Code must be **indented** and sometimes delineated by colons. The Python standard for indentation is four spaces. Never use tabs: it can produce hard to find errors. Set you editor to convert tabs to spaces.\n",
    "+ Typically, a statement must be on a line. You can use a backslash <code>\\</code> at the end of a line to continue a statement on to the next line.\n"
   ]
  },
  {
   "cell_type": "code",
   "execution_count": 17,
   "metadata": {},
   "outputs": [
    {
     "name": "stdout",
     "output_type": "stream",
     "text": [
      "93326215443944152681699238856266700490715968264381621468592963895217599993229915608941463976156518286253697920827223758251185210916864000000000000000000000000\n"
     ]
    }
   ],
   "source": [
    "# This program computes the factorial of 100.\n",
    "\n",
    "fact = 1L\n",
    "n= 100\n",
    "for factor in range(n,0,-1):\n",
    "    fact = fact * factor \n",
    "print fact    "
   ]
  },
  {
   "cell_type": "code",
   "execution_count": 18,
   "metadata": {},
   "outputs": [
    {
     "data": {
      "text/plain": [
       "[10, 9, 8, 7, 6, 5, 4, 3, 2, 1]"
      ]
     },
     "execution_count": 18,
     "metadata": {},
     "output_type": "execute_result"
    }
   ],
   "source": [
    "range(10,0,-1)"
   ]
  },
  {
   "cell_type": "markdown",
   "metadata": {},
   "source": [
    "<div class=\"alert alert-error\"> When we write a colon at the end of an iteration, all lines indented at the next level are considered *part* of the iteration. \n",
    "\n",
    "When we write a line at the same indentation as the iteration, we are closing the iteration.</div>"
   ]
  },
  {
   "cell_type": "markdown",
   "metadata": {},
   "source": [
    "### A function in Python\n",
    "\n"
   ]
  },
  {
   "cell_type": "markdown",
   "metadata": {},
   "source": [
    "#### Factorial\n",
    "\n",
    "The factorial of a non-negative integer $n$, denoted by $n!$, is the product of all positive integers less than or equal to $n$.  "
   ]
  },
  {
   "cell_type": "code",
   "execution_count": 19,
   "metadata": {},
   "outputs": [],
   "source": [
    "def factorial(n):\n",
    "    fact = 1L\n",
    "    for factor in range(n,0,-1):\n",
    "        fact = fact * factor\n",
    "    return fact"
   ]
  },
  {
   "cell_type": "code",
   "execution_count": null,
   "metadata": {},
   "outputs": [],
   "source": [
    "factorial(n)"
   ]
  },
  {
   "cell_type": "markdown",
   "metadata": {},
   "source": [
    "#### Fibonacci\n",
    "\n",
    "The Fibonacci Sequence is the series of numbers: 0, 1, 1, 2, 3, 5, 8, 13, 21, 34, ...\n",
    "\n",
    "The general rule to compute the sequence is very simple: The next number is found by adding up the two numbers before it."
   ]
  },
  {
   "cell_type": "code",
   "execution_count": 28,
   "metadata": {},
   "outputs": [
    {
     "data": {
      "text/plain": [
       "0"
      ]
     },
     "execution_count": 28,
     "metadata": {},
     "output_type": "execute_result"
    }
   ],
   "source": [
    "def fib2(n):\n",
    "    a, b = 0, 1\n",
    "    for i in range(1,n+1):\n",
    "        a, b = b, a + b\n",
    "    return a\n",
    "\n",
    "n = 1000\n",
    "    \n",
    "fib2(0)\n"
   ]
  },
  {
   "cell_type": "markdown",
   "metadata": {},
   "source": [
    "### String processing with Python\n",
    "\n",
    "Strings are list of characters:"
   ]
  },
  {
   "cell_type": "code",
   "execution_count": 30,
   "metadata": {},
   "outputs": [
    {
     "data": {
      "text/plain": [
       "str"
      ]
     },
     "execution_count": 30,
     "metadata": {},
     "output_type": "execute_result"
    }
   ],
   "source": [
    "a = 'python'\n",
    "type(a)"
   ]
  },
  {
   "cell_type": "code",
   "execution_count": 31,
   "metadata": {},
   "outputs": [
    {
     "name": "stdout",
     "output_type": "stream",
     "text": [
      "Hello\n"
     ]
    }
   ],
   "source": [
    "print \"Hello\""
   ]
  },
  {
   "cell_type": "code",
   "execution_count": 32,
   "metadata": {},
   "outputs": [
    {
     "name": "stdout",
     "output_type": "stream",
     "text": [
      "This is 'an example' of the use of quotes and double quotes\n",
      "This is \"another example\" of the use of quotes and double quotes\n"
     ]
    }
   ],
   "source": [
    "print \"This is 'an example' of the use of quotes and double quotes\"\n",
    "print 'This is \"another example\" of the use of quotes and double quotes'"
   ]
  },
  {
   "cell_type": "markdown",
   "metadata": {},
   "source": [
    "We can use the operator ``+`` to concatenate strings:"
   ]
  },
  {
   "cell_type": "code",
   "execution_count": 33,
   "metadata": {},
   "outputs": [
    {
     "name": "stdout",
     "output_type": "stream",
     "text": [
      "Hello!\n"
     ]
    }
   ],
   "source": [
    "a = 'He'\n",
    "b = 'llo'\n",
    "c = a+b+'!'\n",
    "print c"
   ]
  },
  {
   "cell_type": "markdown",
   "metadata": {},
   "source": [
    "Substrings within a string can be accessed using **slicing**. Slicing uses ``[]`` to contain the indices of the characters in a string, where the first index is $0$, and the last is $n - 1$ (assuming the string has $n$ characters). "
   ]
  },
  {
   "cell_type": "code",
   "execution_count": 34,
   "metadata": {},
   "outputs": [
    {
     "name": "stdout",
     "output_type": "stream",
     "text": [
      "Python y thon Pyt th Pto yhn\n"
     ]
    }
   ],
   "source": [
    "a = 'Python'\n",
    "print a[:], a[1], a[2:], a[:3], a[2:4], a[::2], a[1::2]"
   ]
  },
  {
   "cell_type": "markdown",
   "metadata": {},
   "source": [
    "The most advanced string functiona are stored in an external module called ``string``"
   ]
  },
  {
   "cell_type": "code",
   "execution_count": 35,
   "metadata": {},
   "outputs": [
    {
     "name": "stdout",
     "output_type": "stream",
     "text": [
      "Help on module string:\n",
      "\n",
      "NAME\n",
      "    string - A collection of string operations (most are no longer used).\n",
      "\n",
      "FILE\n",
      "    /home/javier/anaconda/lib/python2.7/string.py\n",
      "\n",
      "MODULE DOCS\n",
      "    http://docs.python.org/library/string\n",
      "\n",
      "DESCRIPTION\n",
      "    Warning: most of the code you see here isn't normally used nowadays.\n",
      "    Beginning with Python 1.6, many of these functions are implemented as\n",
      "    methods on the standard string object. They used to be implemented by\n",
      "    a built-in module called strop, but strop is now obsolete itself.\n",
      "    \n",
      "    Public module variables:\n",
      "    \n",
      "    whitespace -- a string containing all characters considered whitespace\n",
      "    lowercase -- a string containing all characters considered lowercase letters\n",
      "    uppercase -- a string containing all characters considered uppercase letters\n",
      "    letters -- a string containing all characters considered letters\n",
      "    digits -- a string containing all characters considered decimal digits\n",
      "    hexdigits -- a string containing all characters considered hexadecimal digits\n",
      "    octdigits -- a string containing all characters considered octal digits\n",
      "    punctuation -- a string containing all characters considered punctuation\n",
      "    printable -- a string containing all characters considered printable\n",
      "\n",
      "CLASSES\n",
      "    __builtin__.object\n",
      "        Formatter\n",
      "        Template\n",
      "    \n",
      "    class Formatter(__builtin__.object)\n",
      "     |  Methods defined here:\n",
      "     |  \n",
      "     |  check_unused_args(self, used_args, args, kwargs)\n",
      "     |  \n",
      "     |  convert_field(self, value, conversion)\n",
      "     |  \n",
      "     |  format(*args, **kwargs)\n",
      "     |  \n",
      "     |  format_field(self, value, format_spec)\n",
      "     |  \n",
      "     |  get_field(self, field_name, args, kwargs)\n",
      "     |      # given a field_name, find the object it references.\n",
      "     |      #  field_name:   the field being looked up, e.g. \"0.name\"\n",
      "     |      #                 or \"lookup[3]\"\n",
      "     |      #  used_args:    a set of which args have been used\n",
      "     |      #  args, kwargs: as passed in to vformat\n",
      "     |  \n",
      "     |  get_value(self, key, args, kwargs)\n",
      "     |  \n",
      "     |  parse(self, format_string)\n",
      "     |      # returns an iterable that contains tuples of the form:\n",
      "     |      # (literal_text, field_name, format_spec, conversion)\n",
      "     |      # literal_text can be zero length\n",
      "     |      # field_name can be None, in which case there's no\n",
      "     |      #  object to format and output\n",
      "     |      # if field_name is not None, it is looked up, formatted\n",
      "     |      #  with format_spec and conversion and then used\n",
      "     |  \n",
      "     |  vformat(self, format_string, args, kwargs)\n",
      "     |  \n",
      "     |  ----------------------------------------------------------------------\n",
      "     |  Data descriptors defined here:\n",
      "     |  \n",
      "     |  __dict__\n",
      "     |      dictionary for instance variables (if defined)\n",
      "     |  \n",
      "     |  __weakref__\n",
      "     |      list of weak references to the object (if defined)\n",
      "    \n",
      "    class Template(__builtin__.object)\n",
      "     |  A string class for supporting $-substitutions.\n",
      "     |  \n",
      "     |  Methods defined here:\n",
      "     |  \n",
      "     |  __init__(self, template)\n",
      "     |  \n",
      "     |  safe_substitute(*args, **kws)\n",
      "     |  \n",
      "     |  substitute(*args, **kws)\n",
      "     |  \n",
      "     |  ----------------------------------------------------------------------\n",
      "     |  Data descriptors defined here:\n",
      "     |  \n",
      "     |  __dict__\n",
      "     |      dictionary for instance variables (if defined)\n",
      "     |  \n",
      "     |  __weakref__\n",
      "     |      list of weak references to the object (if defined)\n",
      "     |  \n",
      "     |  ----------------------------------------------------------------------\n",
      "     |  Data and other attributes defined here:\n",
      "     |  \n",
      "     |  __metaclass__ = <class 'string._TemplateMetaclass'>\n",
      "     |  \n",
      "     |  \n",
      "     |  delimiter = '$'\n",
      "     |  \n",
      "     |  idpattern = '[_a-z][_a-z0-9]*'\n",
      "     |  \n",
      "     |  pattern = <_sre.SRE_Pattern object>\n",
      "\n",
      "FUNCTIONS\n",
      "    atof(s)\n",
      "        atof(s) -> float\n",
      "        \n",
      "        Return the floating point number represented by the string s.\n",
      "    \n",
      "    atoi(s, base=10)\n",
      "        atoi(s [,base]) -> int\n",
      "        \n",
      "        Return the integer represented by the string s in the given\n",
      "        base, which defaults to 10.  The string s must consist of one\n",
      "        or more digits, possibly preceded by a sign.  If base is 0, it\n",
      "        is chosen from the leading characters of s, 0 for octal, 0x or\n",
      "        0X for hexadecimal.  If base is 16, a preceding 0x or 0X is\n",
      "        accepted.\n",
      "    \n",
      "    atol(s, base=10)\n",
      "        atol(s [,base]) -> long\n",
      "        \n",
      "        Return the long integer represented by the string s in the\n",
      "        given base, which defaults to 10.  The string s must consist\n",
      "        of one or more digits, possibly preceded by a sign.  If base\n",
      "        is 0, it is chosen from the leading characters of s, 0 for\n",
      "        octal, 0x or 0X for hexadecimal.  If base is 16, a preceding\n",
      "        0x or 0X is accepted.  A trailing L or l is not accepted,\n",
      "        unless base is 0.\n",
      "    \n",
      "    capitalize(s)\n",
      "        capitalize(s) -> string\n",
      "        \n",
      "        Return a copy of the string s with only its first character\n",
      "        capitalized.\n",
      "    \n",
      "    capwords(s, sep=None)\n",
      "        capwords(s [,sep]) -> string\n",
      "        \n",
      "        Split the argument into words using split, capitalize each\n",
      "        word using capitalize, and join the capitalized words using\n",
      "        join.  If the optional second argument sep is absent or None,\n",
      "        runs of whitespace characters are replaced by a single space\n",
      "        and leading and trailing whitespace are removed, otherwise\n",
      "        sep is used to split and join the words.\n",
      "    \n",
      "    center(s, width, *args)\n",
      "        center(s, width[, fillchar]) -> string\n",
      "        \n",
      "        Return a center version of s, in a field of the specified\n",
      "        width. padded with spaces as needed.  The string is never\n",
      "        truncated.  If specified the fillchar is used instead of spaces.\n",
      "    \n",
      "    count(s, *args)\n",
      "        count(s, sub[, start[,end]]) -> int\n",
      "        \n",
      "        Return the number of occurrences of substring sub in string\n",
      "        s[start:end].  Optional arguments start and end are\n",
      "        interpreted as in slice notation.\n",
      "    \n",
      "    expandtabs(s, tabsize=8)\n",
      "        expandtabs(s [,tabsize]) -> string\n",
      "        \n",
      "        Return a copy of the string s with all tab characters replaced\n",
      "        by the appropriate number of spaces, depending on the current\n",
      "        column, and the tabsize (default 8).\n",
      "    \n",
      "    find(s, *args)\n",
      "        find(s, sub [,start [,end]]) -> in\n",
      "        \n",
      "        Return the lowest index in s where substring sub is found,\n",
      "        such that sub is contained within s[start,end].  Optional\n",
      "        arguments start and end are interpreted as in slice notation.\n",
      "        \n",
      "        Return -1 on failure.\n",
      "    \n",
      "    index(s, *args)\n",
      "        index(s, sub [,start [,end]]) -> int\n",
      "        \n",
      "        Like find but raises ValueError when the substring is not found.\n",
      "    \n",
      "    join(words, sep=' ')\n",
      "        join(list [,sep]) -> string\n",
      "        \n",
      "        Return a string composed of the words in list, with\n",
      "        intervening occurrences of sep.  The default separator is a\n",
      "        single space.\n",
      "        \n",
      "        (joinfields and join are synonymous)\n",
      "    \n",
      "    joinfields = join(words, sep=' ')\n",
      "        join(list [,sep]) -> string\n",
      "        \n",
      "        Return a string composed of the words in list, with\n",
      "        intervening occurrences of sep.  The default separator is a\n",
      "        single space.\n",
      "        \n",
      "        (joinfields and join are synonymous)\n",
      "    \n",
      "    ljust(s, width, *args)\n",
      "        ljust(s, width[, fillchar]) -> string\n",
      "        \n",
      "        Return a left-justified version of s, in a field of the\n",
      "        specified width, padded with spaces as needed.  The string is\n",
      "        never truncated.  If specified the fillchar is used instead of spaces.\n",
      "    \n",
      "    lower(s)\n",
      "        lower(s) -> string\n",
      "        \n",
      "        Return a copy of the string s converted to lowercase.\n",
      "    \n",
      "    lstrip(s, chars=None)\n",
      "        lstrip(s [,chars]) -> string\n",
      "        \n",
      "        Return a copy of the string s with leading whitespace removed.\n",
      "        If chars is given and not None, remove characters in chars instead.\n",
      "    \n",
      "    maketrans(...)\n",
      "        maketrans(frm, to) -> string\n",
      "        \n",
      "        Return a translation table (a string of 256 bytes long)\n",
      "        suitable for use in string.translate.  The strings frm and to\n",
      "        must be of the same length.\n",
      "    \n",
      "    replace(s, old, new, maxreplace=-1)\n",
      "        replace (str, old, new[, maxreplace]) -> string\n",
      "        \n",
      "        Return a copy of string str with all occurrences of substring\n",
      "        old replaced by new. If the optional argument maxreplace is\n",
      "        given, only the first maxreplace occurrences are replaced.\n",
      "    \n",
      "    rfind(s, *args)\n",
      "        rfind(s, sub [,start [,end]]) -> int\n",
      "        \n",
      "        Return the highest index in s where substring sub is found,\n",
      "        such that sub is contained within s[start,end].  Optional\n",
      "        arguments start and end are interpreted as in slice notation.\n",
      "        \n",
      "        Return -1 on failure.\n",
      "    \n",
      "    rindex(s, *args)\n",
      "        rindex(s, sub [,start [,end]]) -> int\n",
      "        \n",
      "        Like rfind but raises ValueError when the substring is not found.\n",
      "    \n",
      "    rjust(s, width, *args)\n",
      "        rjust(s, width[, fillchar]) -> string\n",
      "        \n",
      "        Return a right-justified version of s, in a field of the\n",
      "        specified width, padded with spaces as needed.  The string is\n",
      "        never truncated.  If specified the fillchar is used instead of spaces.\n",
      "    \n",
      "    rsplit(s, sep=None, maxsplit=-1)\n",
      "        rsplit(s [,sep [,maxsplit]]) -> list of strings\n",
      "        \n",
      "        Return a list of the words in the string s, using sep as the\n",
      "        delimiter string, starting at the end of the string and working\n",
      "        to the front.  If maxsplit is given, at most maxsplit splits are\n",
      "        done. If sep is not specified or is None, any whitespace string\n",
      "        is a separator.\n",
      "    \n",
      "    rstrip(s, chars=None)\n",
      "        rstrip(s [,chars]) -> string\n",
      "        \n",
      "        Return a copy of the string s with trailing whitespace removed.\n",
      "        If chars is given and not None, remove characters in chars instead.\n",
      "    \n",
      "    split(s, sep=None, maxsplit=-1)\n",
      "        split(s [,sep [,maxsplit]]) -> list of strings\n",
      "        \n",
      "        Return a list of the words in the string s, using sep as the\n",
      "        delimiter string.  If maxsplit is given, splits at no more than\n",
      "        maxsplit places (resulting in at most maxsplit+1 words).  If sep\n",
      "        is not specified or is None, any whitespace string is a separator.\n",
      "        \n",
      "        (split and splitfields are synonymous)\n",
      "    \n",
      "    splitfields = split(s, sep=None, maxsplit=-1)\n",
      "        split(s [,sep [,maxsplit]]) -> list of strings\n",
      "        \n",
      "        Return a list of the words in the string s, using sep as the\n",
      "        delimiter string.  If maxsplit is given, splits at no more than\n",
      "        maxsplit places (resulting in at most maxsplit+1 words).  If sep\n",
      "        is not specified or is None, any whitespace string is a separator.\n",
      "        \n",
      "        (split and splitfields are synonymous)\n",
      "    \n",
      "    strip(s, chars=None)\n",
      "        strip(s [,chars]) -> string\n",
      "        \n",
      "        Return a copy of the string s with leading and trailing\n",
      "        whitespace removed.\n",
      "        If chars is given and not None, remove characters in chars instead.\n",
      "        If chars is unicode, S will be converted to unicode before stripping.\n",
      "    \n",
      "    swapcase(s)\n",
      "        swapcase(s) -> string\n",
      "        \n",
      "        Return a copy of the string s with upper case characters\n",
      "        converted to lowercase and vice versa.\n",
      "    \n",
      "    translate(s, table, deletions='')\n",
      "        translate(s,table [,deletions]) -> string\n",
      "        \n",
      "        Return a copy of the string s, where all characters occurring\n",
      "        in the optional argument deletions are removed, and the\n",
      "        remaining characters have been mapped through the given\n",
      "        translation table, which must be a string of length 256.  The\n",
      "        deletions argument is not allowed for Unicode strings.\n",
      "    \n",
      "    upper(s)\n",
      "        upper(s) -> string\n",
      "        \n",
      "        Return a copy of the string s converted to uppercase.\n",
      "    \n",
      "    zfill(x, width)\n",
      "        zfill(x, width) -> string\n",
      "        \n",
      "        Pad a numeric string x with zeros on the left, to fill a field\n",
      "        of the specified width.  The string x is never truncated.\n",
      "\n",
      "DATA\n",
      "    ascii_letters = 'abcdefghijklmnopqrstuvwxyzABCDEFGHIJKLMNOPQRSTUVWXYZ'\n",
      "    ascii_lowercase = 'abcdefghijklmnopqrstuvwxyz'\n",
      "    ascii_uppercase = 'ABCDEFGHIJKLMNOPQRSTUVWXYZ'\n",
      "    digits = '0123456789'\n",
      "    hexdigits = '0123456789abcdefABCDEF'\n",
      "    letters = 'ABCDEFGHIJKLMNOPQRSTUVWXYZabcdefghijklmnopqrstuvwxyz'\n",
      "    lowercase = 'abcdefghijklmnopqrstuvwxyz'\n",
      "    octdigits = '01234567'\n",
      "    printable = '0123456789abcdefghijklmnopqrstuvwxyzABCDEFGHIJKLMNOPQRSTU...\n",
      "    punctuation = '!\"#$%&\\'()*+,-./:;<=>?@[\\\\]^_`{|}~'\n",
      "    uppercase = 'ABCDEFGHIJKLMNOPQRSTUVWXYZ'\n",
      "    whitespace = '\\t\\n\\x0b\\x0c\\r '\n",
      "\n",
      "\n"
     ]
    }
   ],
   "source": [
    "import string as st\n",
    "help(st)"
   ]
  },
  {
   "cell_type": "code",
   "execution_count": 36,
   "metadata": {},
   "outputs": [
    {
     "data": {
      "text/plain": [
       "float"
      ]
     },
     "execution_count": 36,
     "metadata": {},
     "output_type": "execute_result"
    }
   ],
   "source": [
    "type(st.atof('10.3'))"
   ]
  },
  {
   "cell_type": "code",
   "execution_count": 37,
   "metadata": {},
   "outputs": [],
   "source": [
    "a = 'a'"
   ]
  },
  {
   "cell_type": "code",
   "execution_count": 38,
   "metadata": {},
   "outputs": [
    {
     "ename": "SyntaxError",
     "evalue": "invalid syntax (<ipython-input-38-d2c7454e690d>, line 2)",
     "output_type": "error",
     "traceback": [
      "\u001b[1;36m  File \u001b[1;32m\"<ipython-input-38-d2c7454e690d>\"\u001b[1;36m, line \u001b[1;32m2\u001b[0m\n\u001b[1;33m    a.\u001b[0m\n\u001b[1;37m      ^\u001b[0m\n\u001b[1;31mSyntaxError\u001b[0m\u001b[1;31m:\u001b[0m invalid syntax\n"
     ]
    }
   ],
   "source": [
    "# press tab\n",
    "a."
   ]
  },
  {
   "cell_type": "code",
   "execution_count": 39,
   "metadata": {},
   "outputs": [
    {
     "name": "stdout",
     "output_type": "stream",
     "text": [
      "hello\n"
     ]
    }
   ],
   "source": [
    "a='Hello'\n",
    "b = a.lower()\n",
    "print b"
   ]
  },
  {
   "cell_type": "markdown",
   "metadata": {},
   "source": [
    "### Lists\n",
    "\n",
    "Lists are a built-in data type which require other data types to be useful. A list is a collection of other objects – floats, integers, complex numbers, strings or even other lists.\n",
    "\n",
    "Lists also support slicing to retrieve one or more elements. Basic lists are constructed using square braces, ``[]``, and values are separated using\n",
    "commas."
   ]
  },
  {
   "cell_type": "code",
   "execution_count": 41,
   "metadata": {},
   "outputs": [
    {
     "data": {
      "text/plain": [
       "list"
      ]
     },
     "execution_count": 41,
     "metadata": {},
     "output_type": "execute_result"
    }
   ],
   "source": [
    "l=[]\n",
    "type(l)"
   ]
  },
  {
   "cell_type": "code",
   "execution_count": 43,
   "metadata": {},
   "outputs": [
    {
     "name": "stdout",
     "output_type": "stream",
     "text": [
      "[[1, 2, 3, 4], 'javi'] 1 javi\n"
     ]
    }
   ],
   "source": [
    "x=[1,2,3,4,[1,2,3,4],'javi']\n",
    "print x[4:], x[0], x[5]"
   ]
  },
  {
   "cell_type": "code",
   "execution_count": 44,
   "metadata": {},
   "outputs": [
    {
     "data": {
      "text/plain": [
       "[[1, 2, 3, 4], 'javi']"
      ]
     },
     "execution_count": 44,
     "metadata": {},
     "output_type": "execute_result"
    }
   ],
   "source": [
    "x[-2:]  # The stride can also be negative which can be used to select the\n",
    "        # elements of a list in reverse order."
   ]
  },
  {
   "cell_type": "markdown",
   "metadata": {},
   "source": [
    "Lists can be multidimensional and slicing can be done directly in higher dimensions:"
   ]
  },
  {
   "cell_type": "code",
   "execution_count": 45,
   "metadata": {},
   "outputs": [
    {
     "name": "stdout",
     "output_type": "stream",
     "text": [
      "[1, 2, 3, 4] 1\n"
     ]
    }
   ],
   "source": [
    "x = [[1,2,3,4], [5,6,7,8]]\n",
    "print x[0], x[0][0]"
   ]
  },
  {
   "cell_type": "markdown",
   "metadata": {},
   "source": [
    "**Ejercicio**\n",
    "Crear una lista multidimensional de 3x3 e imprimir los elementos de la diagonal"
   ]
  },
  {
   "cell_type": "code",
   "execution_count": 49,
   "metadata": {},
   "outputs": [],
   "source": [
    "###Exercise"
   ]
  },
  {
   "cell_type": "markdown",
   "metadata": {},
   "source": [
    "###Lists: Append,insert, update,remove"
   ]
  },
  {
   "cell_type": "code",
   "execution_count": 65,
   "metadata": {},
   "outputs": [
    {
     "name": "stdout",
     "output_type": "stream",
     "text": [
      "[5, 3]\n",
      "[1, 5, 3]\n"
     ]
    },
    {
     "data": {
      "text/plain": [
       "[1, 9, 3]"
      ]
     },
     "execution_count": 65,
     "metadata": {},
     "output_type": "execute_result"
    }
   ],
   "source": [
    "#create list\n",
    "a=[]\n",
    "#append at the end\n",
    "a.append(5)\n",
    "a.append(3)\n",
    "print a\n",
    "#insert ingiven position\n",
    "a.insert(0,1)\n",
    "print a\n",
    "#replace number\n",
    "a[1]=9\n",
    "a"
   ]
  },
  {
   "cell_type": "code",
   "execution_count": 66,
   "metadata": {},
   "outputs": [
    {
     "name": "stdout",
     "output_type": "stream",
     "text": [
      "[9, 3, 1]\n"
     ]
    },
    {
     "data": {
      "text/plain": [
       "[3, 1]"
      ]
     },
     "execution_count": 66,
     "metadata": {},
     "output_type": "execute_result"
    }
   ],
   "source": [
    "a.append(1)\n",
    "a.remove(1)\n",
    "print a\n",
    "del a[0]\n",
    "a"
   ]
  },
  {
   "cell_type": "markdown",
   "metadata": {},
   "source": [
    "### Help: Python Tutorial"
   ]
  },
  {
   "cell_type": "code",
   "execution_count": 1,
   "metadata": {},
   "outputs": [
    {
     "data": {
      "text/html": [
       "<iframe src=https://docs.python.org/2.7/tutorial/index.html?useformat=mobile width=780 height=350></iframe>"
      ],
      "text/plain": [
       "<IPython.core.display.HTML object>"
      ]
     },
     "execution_count": 1,
     "metadata": {},
     "output_type": "execute_result"
    }
   ],
   "source": [
    "from IPython.display import HTML\n",
    "HTML('<iframe src=https://docs.python.org/2.7/tutorial/index.html?useformat=mobile width=780 height=350></iframe>')"
   ]
  },
  {
   "cell_type": "markdown",
   "metadata": {},
   "source": [
    "### Conditionals\n",
    "\n",
    "The conditional structure in Python is <code>If</code>. It is usally combined with \n",
    "relational operators: <code> <, <=, ==, >=, >, != </code>."
   ]
  },
  {
   "cell_type": "code",
   "execution_count": 67,
   "metadata": {},
   "outputs": [
    {
     "name": "stdout",
     "output_type": "stream",
     "text": [
      "The temperature in Fahrenheit is 95.0\n",
      "It's really hot out there.\n"
     ]
    }
   ],
   "source": [
    "def main(celsius):\n",
    "    fahrenheit = 9.0 /5.0 * celsius + 32\n",
    "    print \"The temperature in Fahrenheit is\", fahrenheit\n",
    "    if fahrenheit > 90:\n",
    "        print \"It's really hot out there.\"\n",
    "    elif fahrenheit < 30:\n",
    "        print \"It's really cold out there.\"\n",
    "    else: pass\n",
    "        \n",
    "main(35)"
   ]
  },
  {
   "cell_type": "markdown",
   "metadata": {},
   "source": [
    "``If`` statesments can be combined with loops (``for``, ``while``):"
   ]
  },
  {
   "cell_type": "code",
   "execution_count": 68,
   "metadata": {},
   "outputs": [
    {
     "name": "stdout",
     "output_type": "stream",
     "text": [
      "20\n"
     ]
    }
   ],
   "source": [
    "numbers = [-5, 3,2,-1,9,6]\n",
    "total = 0\n",
    "for n in numbers:\n",
    "    if n >= 0:\n",
    "        total += n\n",
    "print total"
   ]
  },
  {
   "cell_type": "code",
   "execution_count": 69,
   "metadata": {},
   "outputs": [
    {
     "data": {
      "text/plain": [
       "2.5"
      ]
     },
     "execution_count": 69,
     "metadata": {},
     "output_type": "execute_result"
    }
   ],
   "source": [
    "def average(a):\n",
    "    sum = 0.0\n",
    "    for i in a:\n",
    "        sum = sum + i\n",
    "    return sum/len(a)\n",
    "\n",
    "average([1,2,3,4])"
   ]
  },
  {
   "cell_type": "code",
   "execution_count": 70,
   "metadata": {},
   "outputs": [
    {
     "name": "stdout",
     "output_type": "stream",
     "text": [
      "4 0\n"
     ]
    }
   ],
   "source": [
    "def sumdif(x,y):\n",
    "    sum, dif = x+y, x-y\n",
    "    return sum, dif\n",
    "\n",
    "a, b = sumdif(2,2)\n",
    "print a, b"
   ]
  },
  {
   "cell_type": "code",
   "execution_count": 71,
   "metadata": {},
   "outputs": [
    {
     "data": {
      "text/plain": [
       "3"
      ]
     },
     "execution_count": 71,
     "metadata": {},
     "output_type": "execute_result"
    }
   ],
   "source": [
    "def main(n):\n",
    "    cont = 0\n",
    "    while (int(n) > 0):\n",
    "        cont += 1\n",
    "        n = n/2\n",
    "#        print n\n",
    "    return cont-1\n",
    "\n",
    "main(10)\n",
    "# main(10.3)"
   ]
  },
  {
   "cell_type": "markdown",
   "metadata": {},
   "source": [
    "### Boolean operators."
   ]
  },
  {
   "cell_type": "code",
   "execution_count": 72,
   "metadata": {},
   "outputs": [
    {
     "data": {
      "text/plain": [
       "True"
      ]
     },
     "execution_count": 72,
     "metadata": {},
     "output_type": "execute_result"
    }
   ],
   "source": [
    "a = 4\n",
    "b = 40\n",
    "(a>2) and (b>30)"
   ]
  },
  {
   "cell_type": "code",
   "execution_count": 73,
   "metadata": {},
   "outputs": [
    {
     "data": {
      "text/plain": [
       "True"
      ]
     },
     "execution_count": 73,
     "metadata": {},
     "output_type": "execute_result"
    }
   ],
   "source": [
    "(a>2) or (b>100)"
   ]
  },
  {
   "cell_type": "code",
   "execution_count": 74,
   "metadata": {},
   "outputs": [
    {
     "data": {
      "text/plain": [
       "False"
      ]
     },
     "execution_count": 74,
     "metadata": {},
     "output_type": "execute_result"
    }
   ],
   "source": [
    "not(a>2)"
   ]
  },
  {
   "cell_type": "markdown",
   "metadata": {},
   "source": [
    "### Data Collections\n",
    "\n",
    "We need to represent data collections: words in a text, students in a course, experimental data, etc., or to store intermediate results. The most simple data collection is the <code>list</code> (an ordered sequence of objects):"
   ]
  },
  {
   "cell_type": "code",
   "execution_count": 75,
   "metadata": {},
   "outputs": [
    {
     "data": {
      "text/plain": [
       "[0, 1, 2, 3, 4, 5, 6, 7, 8, 9]"
      ]
     },
     "execution_count": 75,
     "metadata": {},
     "output_type": "execute_result"
    }
   ],
   "source": [
    "range(10)"
   ]
  },
  {
   "cell_type": "code",
   "execution_count": 76,
   "metadata": {},
   "outputs": [
    {
     "name": "stdout",
     "output_type": "stream",
     "text": [
      "['This', 'is', 'an', 'example']\n"
     ]
    }
   ],
   "source": [
    "import string\n",
    "b = string.split(\"This is an example\")\n",
    "print b"
   ]
  },
  {
   "cell_type": "markdown",
   "metadata": {},
   "source": [
    "Lists are *mutable, dynamic and non-homogeneous* objects:"
   ]
  },
  {
   "cell_type": "code",
   "execution_count": 77,
   "metadata": {},
   "outputs": [
    {
     "name": "stdout",
     "output_type": "stream",
     "text": [
      "[1, 1, 3, 4]\n"
     ]
    }
   ],
   "source": [
    "a = [1,2,3,4]\n",
    "a[1] = 1\n",
    "print a"
   ]
  },
  {
   "cell_type": "code",
   "execution_count": 78,
   "metadata": {},
   "outputs": [
    {
     "name": "stdout",
     "output_type": "stream",
     "text": [
      "[1, 1, 3, 4, 'This', 'is', 'an', 'example']\n"
     ]
    }
   ],
   "source": [
    "c = a + b\n",
    "print c"
   ]
  },
  {
   "cell_type": "code",
   "execution_count": 79,
   "metadata": {},
   "outputs": [
    {
     "name": "stdout",
     "output_type": "stream",
     "text": [
      "[0, 0, 0, 0, 0]\n"
     ]
    }
   ],
   "source": [
    "zeroes = [0] * 10\n",
    "del zeroes[5:]\n",
    "print zeroes"
   ]
  },
  {
   "cell_type": "code",
   "execution_count": 80,
   "metadata": {},
   "outputs": [
    {
     "name": "stdout",
     "output_type": "stream",
     "text": [
      "[0, 0, 0, 0, 0, 1]\n"
     ]
    }
   ],
   "source": [
    "zeroes.append(1)\n",
    "print zeroes"
   ]
  },
  {
   "cell_type": "code",
   "execution_count": 81,
   "metadata": {},
   "outputs": [
    {
     "name": "stdout",
     "output_type": "stream",
     "text": [
      "[0, 0, 0, 0, 0]\n"
     ]
    }
   ],
   "source": [
    "zeroes.remove(1)\n",
    "print zeroes"
   ]
  },
  {
   "cell_type": "code",
   "execution_count": 82,
   "metadata": {},
   "outputs": [
    {
     "name": "stdout",
     "output_type": "stream",
     "text": [
      "True\n"
     ]
    }
   ],
   "source": [
    "if 1 in zeroes:\n",
    "    print False\n",
    "else: \n",
    "    print True"
   ]
  },
  {
   "cell_type": "markdown",
   "metadata": {},
   "source": [
    "#### References\n",
    "\n",
    "We can inspect the reference of an object:"
   ]
  },
  {
   "cell_type": "code",
   "execution_count": 83,
   "metadata": {},
   "outputs": [
    {
     "name": "stdout",
     "output_type": "stream",
     "text": [
      "140044524598640\n"
     ]
    }
   ],
   "source": [
    "a ='hello'\n",
    "print id(a)"
   ]
  },
  {
   "cell_type": "markdown",
   "metadata": {},
   "source": [
    "Two different objects:"
   ]
  },
  {
   "cell_type": "code",
   "execution_count": 84,
   "metadata": {},
   "outputs": [
    {
     "name": "stdout",
     "output_type": "stream",
     "text": [
      "140044525077424 140044524986024\n"
     ]
    }
   ],
   "source": [
    "a = [1,2,3]\n",
    "b = [1,2,3]\n",
    "print id(a), id(b)"
   ]
  },
  {
   "cell_type": "markdown",
   "metadata": {},
   "source": [
    "Object alias:"
   ]
  },
  {
   "cell_type": "code",
   "execution_count": 85,
   "metadata": {},
   "outputs": [
    {
     "name": "stdout",
     "output_type": "stream",
     "text": [
      "140044525134120 140044525134120\n"
     ]
    }
   ],
   "source": [
    "a = [1,2,3]\n",
    "b = a                     # alias\n",
    "print id(a), id(b)"
   ]
  },
  {
   "cell_type": "markdown",
   "metadata": {},
   "source": [
    "Cloning:"
   ]
  },
  {
   "cell_type": "code",
   "execution_count": 86,
   "metadata": {},
   "outputs": [
    {
     "name": "stdout",
     "output_type": "stream",
     "text": [
      "[1, 2, 3] [1, 2, 3] [2, 3] 140044792594944 140044524996296 140044525077568\n"
     ]
    }
   ],
   "source": [
    "a = [1,2,3]\n",
    "b = a[:]                  # cloning with :\n",
    "\n",
    "print a, b, b[1:], id(a), id(b), id(b[1:])"
   ]
  },
  {
   "cell_type": "markdown",
   "metadata": {},
   "source": [
    "When a list is an argument of a function, we are sending the *reference*, not a *copy*"
   ]
  },
  {
   "cell_type": "code",
   "execution_count": 87,
   "metadata": {},
   "outputs": [
    {
     "name": "stdout",
     "output_type": "stream",
     "text": [
      "1 [1, 2, 3, 4]\n"
     ]
    }
   ],
   "source": [
    "def head(list):\n",
    "    return list[0]\n",
    "\n",
    "numbers=[1,2,3,4]\n",
    "print head(numbers), numbers"
   ]
  },
  {
   "cell_type": "code",
   "execution_count": 88,
   "metadata": {},
   "outputs": [
    {
     "name": "stdout",
     "output_type": "stream",
     "text": [
      "[0, 2, 3, 4]\n"
     ]
    }
   ],
   "source": [
    "def change_first_element(list):\n",
    "    list[0]=0\n",
    "    \n",
    "numbers=[1,2,3,4]\n",
    "change_first_element(numbers)\n",
    "print numbers"
   ]
  },
  {
   "cell_type": "markdown",
   "metadata": {},
   "source": [
    "If we return a list we are returning a reference:"
   ]
  },
  {
   "cell_type": "code",
   "execution_count": 89,
   "metadata": {},
   "outputs": [
    {
     "name": "stdout",
     "output_type": "stream",
     "text": [
      "[2, 3, 4] [1, 2, 3, 4]\n",
      "140044525930832 140044524985520\n"
     ]
    }
   ],
   "source": [
    "def tail(list):\n",
    "    return list[1:]     # we are creating a new list\n",
    "\n",
    "numbers=[1,2,3,4]\n",
    "rest = tail(numbers)\n",
    "print rest, numbers\n",
    "print id(rest), id(numbers)"
   ]
  },
  {
   "cell_type": "code",
   "execution_count": 90,
   "metadata": {},
   "outputs": [
    {
     "ename": "SyntaxError",
     "evalue": "invalid syntax (<ipython-input-90-1dba14706474>, line 2)",
     "output_type": "error",
     "traceback": [
      "\u001b[1;36m  File \u001b[1;32m\"<ipython-input-90-1dba14706474>\"\u001b[1;36m, line \u001b[1;32m2\u001b[0m\n\u001b[1;33m    numbers.\u001b[0m\n\u001b[1;37m            ^\u001b[0m\n\u001b[1;31mSyntaxError\u001b[0m\u001b[1;31m:\u001b[0m invalid syntax\n"
     ]
    }
   ],
   "source": [
    "# Press tab\n",
    "numbers."
   ]
  },
  {
   "cell_type": "markdown",
   "metadata": {},
   "source": [
    "Sometimes it is important to perform a *sanity check* about what is doing a pre-defined function:"
   ]
  },
  {
   "cell_type": "code",
   "execution_count": 91,
   "metadata": {},
   "outputs": [
    {
     "name": "stdout",
     "output_type": "stream",
     "text": [
      "[4, 3, 2, 1] None [1, 2, 3, 4]\n"
     ]
    }
   ],
   "source": [
    "numbers=[1,2,3,4]\n",
    "def test(l):\n",
    "    return l.reverse()\n",
    "\n",
    "test(numbers)\n",
    "print numbers, numbers.reverse(), numbers"
   ]
  },
  {
   "cell_type": "code",
   "execution_count": null,
   "metadata": {},
   "outputs": [],
   "source": []
  },
  {
   "cell_type": "markdown",
   "metadata": {},
   "source": [
    "### Dictionaries\n",
    "\n",
    "A dictionary is a collection that allows the access of an *element* by using a *key*:"
   ]
  },
  {
   "cell_type": "code",
   "execution_count": 96,
   "metadata": {},
   "outputs": [
    {
     "data": {
      "text/plain": [
       "'D'"
      ]
     },
     "execution_count": 96,
     "metadata": {},
     "output_type": "execute_result"
    }
   ],
   "source": [
    "dict = {\"d\": \"D\", \"b\":\"B\", \"c\":\"C\"}\n",
    "dict[\"d\"]"
   ]
  },
  {
   "cell_type": "markdown",
   "metadata": {},
   "source": [
    "Dictionaries are **mutable** and **unordered**:"
   ]
  },
  {
   "cell_type": "code",
   "execution_count": 97,
   "metadata": {},
   "outputs": [
    {
     "data": {
      "text/plain": [
       "{'a': 'A', 'b': 'B', 'c': 'C', 'd': 'D'}"
      ]
     },
     "execution_count": 97,
     "metadata": {},
     "output_type": "execute_result"
    }
   ],
   "source": [
    "dict[\"a\"]=\"A\"\n",
    "dict"
   ]
  },
  {
   "cell_type": "code",
   "execution_count": 98,
   "metadata": {},
   "outputs": [
    {
     "data": {
      "text/plain": [
       "True"
      ]
     },
     "execution_count": 98,
     "metadata": {},
     "output_type": "execute_result"
    }
   ],
   "source": [
    "dict.has_key(\"a\")"
   ]
  },
  {
   "cell_type": "code",
   "execution_count": 99,
   "metadata": {},
   "outputs": [
    {
     "name": "stdout",
     "output_type": "stream",
     "text": [
      "{'c': 'C', 'b': 'B', 'd': 'D'}\n"
     ]
    }
   ],
   "source": [
    "del dict[\"a\"]\n",
    "print dict"
   ]
  },
  {
   "cell_type": "code",
   "execution_count": 100,
   "metadata": {},
   "outputs": [
    {
     "data": {
      "text/plain": [
       "[('c', 'C'), ('b', 'B'), ('d', 'D')]"
      ]
     },
     "execution_count": 100,
     "metadata": {},
     "output_type": "execute_result"
    }
   ],
   "source": [
    "dict = {\"d\": \"D\", \"b\":\"B\", \"c\":\"C\"}\n",
    "dict.items()"
   ]
  },
  {
   "cell_type": "code",
   "execution_count": 102,
   "metadata": {},
   "outputs": [
    {
     "name": "stdout",
     "output_type": "stream",
     "text": [
      "['c', 'b', 'd']\n",
      "['C', 'B', 'D']\n"
     ]
    }
   ],
   "source": [
    "print dict.keys()\n",
    "print dict.values()"
   ]
  },
  {
   "cell_type": "markdown",
   "metadata": {},
   "source": [
    "### Tuples\n",
    "\n",
    "Tuples are **non-mutable** lists:"
   ]
  },
  {
   "cell_type": "code",
   "execution_count": 103,
   "metadata": {},
   "outputs": [
    {
     "name": "stdout",
     "output_type": "stream",
     "text": [
      "<type 'tuple'> ('b', 'c')\n"
     ]
    }
   ],
   "source": [
    "tup = ('a', 'b', 'c')\n",
    "print type(tup), tup[1:3]"
   ]
  },
  {
   "cell_type": "code",
   "execution_count": 104,
   "metadata": {},
   "outputs": [
    {
     "ename": "TypeError",
     "evalue": "'tuple' object does not support item assignment",
     "output_type": "error",
     "traceback": [
      "\u001b[1;31m---------------------------------------------------------------------------\u001b[0m",
      "\u001b[1;31mTypeError\u001b[0m                                 Traceback (most recent call last)",
      "\u001b[1;32m<ipython-input-104-fe55ce642cf0>\u001b[0m in \u001b[0;36m<module>\u001b[1;34m()\u001b[0m\n\u001b[1;32m----> 1\u001b[1;33m \u001b[0mtup\u001b[0m\u001b[1;33m[\u001b[0m\u001b[1;36m0\u001b[0m\u001b[1;33m]\u001b[0m\u001b[1;33m=\u001b[0m\u001b[1;34m'd'\u001b[0m\u001b[1;33m\u001b[0m\u001b[0m\n\u001b[0m",
      "\u001b[1;31mTypeError\u001b[0m: 'tuple' object does not support item assignment"
     ]
    }
   ],
   "source": [
    "tup[0]='d'"
   ]
  },
  {
   "cell_type": "markdown",
   "metadata": {},
   "source": [
    "**Example**: How to compute the statistics of words in a document."
   ]
  },
  {
   "cell_type": "code",
   "execution_count": 105,
   "metadata": {},
   "outputs": [
    {
     "name": "stdout",
     "output_type": "stream",
     "text": [
      "BORGES....... El último poema\r\n",
      "\r\n",
      "Si pudiera vivir nuevamente mi vida,\n",
      "en la próxima trataría de cometer más errores.\n",
      "No intentaría ser tan perfecto, me relajaría más.\n",
      "Sería más tonto de lo que he sido, de hecho\n",
      "tomaría muy pocas cosas con seriedad.\n",
      "Sería menos higiénico.\n",
      "Correría más riesgos, haría más viajes,\n",
      "contemplaría más atardeceres, subiría más montañas, nadaría más ríos.\n",
      "Iría a más lugares adonde nunca he ido,\n",
      "Comería más helados y menos habas,\n",
      "tendría más problemas reales\n",
      "y menos imaginarios\n",
      "\n",
      "Yo fui una de esas personas que vivió sensata y prolíficamente cada minuto de su vida;\n",
      "claro que tuve momentos de alegría.\n",
      "Pero si pudiera volver atrás trataría de tener\n",
      "solamente buenos momentos.\n",
      "\n",
      "Por si no lo saben, de eso está hecha la vida, sólo de momentos;\n",
      "no te pierdas el ahora.\n",
      "Yo era uno de esos que nunca iba a ninguna parte sin un termómetro, una bolsa de agua caliente, un paraguas y un paracaídas;\n",
      "Si pudiera volver a vivir comenzaría a andar descalzo a principios de la primavera\n",
      "y seguiría así hasta concluir el otoño.\n",
      "Y jugaría con más niños, si tuviera otra vez la vida por delante.\n",
      "pero ya ven, tengo 85 años y sé que me estoy muriendo\n",
      "\n",
      "Jorge Luis Borge\n"
     ]
    }
   ],
   "source": [
    "# We can read a file in a list of line strings or as a string\n",
    "# -*- coding: latin-1 -*-\n",
    "\n",
    "text = open(\"files/text.txt\",'r').readlines()\n",
    "for l in text:\n",
    "    print l[:-1]  # The last character is a 'new line'"
   ]
  },
  {
   "cell_type": "code",
   "execution_count": 191,
   "metadata": {},
   "outputs": [
    {
     "name": "stdout",
     "output_type": "stream",
     "text": [
      "Si pudiera vivir nuevamente mi vida,\n",
      "\n",
      "Si pudiera volver a vivir comenzaría a andar descalzo a principios de la primavera\n",
      "\n"
     ]
    }
   ],
   "source": [
    "text=''\n",
    "with open(\"files/text.txt\", \"r\") as lines:\n",
    "    for line in lines:\n",
    "        if line.startswith('Si'):\n",
    "            print line\n",
    "            text=text+line\n",
    "            "
   ]
  },
  {
   "cell_type": "code",
   "execution_count": 106,
   "metadata": {},
   "outputs": [
    {
     "name": "stdout",
     "output_type": "stream",
     "text": [
      "termómetro  1 | tener  1 | comería  1 | uno  1 | estoy  1 | sé  1 | relajaría  1 | otra  1 | personas  1 | ven  1 | te  1 | atardeceres  1 | sensata  1 | buenos  1 | ya  1 | agua  1 | helados  1 | perfecto  1 | contemplaría  1 | bolsa  1 | cosas  1 | ninguna  1 | sido  1 | en  1 | ser  1 | cometer  1 | pocas  1 | atrás  1 | está  1 | prolíficamente  1 | último  1 | 85  1 | nuevamente  1 | muy  1 | errores  1 | así  1 | riesgos  1 | eso  1 | higiénico  1 | poema  1 | descalzo  1 | subiría  1 | problemas  1 | luis  1 | pierdas  1 | vivió  1 | años  1 | ahora  1 | otoño  1 | concluir  1 | comenzaría  1 | claro  1 | paracaídas  1 | vez  1 | nadaría  1 | andar  1 | cada  1 | tonto  1 | principios  1 | seguiría  1 | viajes  1 | esos  1 | esas  1 | solamente  1 | lugares  1 | reales  1 | seriedad  1 | saben  1 | intentaría  1 | primavera  1 | iba  1 | mi  1 | tengo  1 | era  1 | habas  1 | tuviera  1 | ríos  1 | fui  1 | tendría  1 | iría  1 | adonde  1 | paraguas  1 | tan  1 | muriendo  1 | alegría  1 | parte  1 | jugaría  1 | hecho  1 | hecha  1 | sin  1 | tuve  1 | correría  1 | imaginarios  1 | jorge  1 | delante  1 | niños  1 | próxima  1 | haría  1 | sólo  1 | su  1 | hasta  1 | caliente  1 | tomaría  1 | minuto  1 | ido  1 | montañas  1 | borges  2 | lo  2 | yo  2 | volver  2 | trataría  2 | nunca  2 | sería  2 | una  2 | con  2 | por  2 | pero  2 | vivir  2 | he  2 | me  2 | menos  3 | el  3 | momentos  3 | pudiera  3 | un  3 | no  3 | la  4 | vida  4 | que  5 | si  5 | a   5 | y   7 | de 12 | más 12 |\n"
     ]
    }
   ],
   "source": [
    "import string\n",
    "\n",
    "    \n",
    "def main():\n",
    "    \n",
    "# We read the file in a string\n",
    "    text = open(\"files/text.txt\",'r').read()\n",
    "    text = string.lower(text)\n",
    "    for ch in '!\"#$%&/()=?¿^*`+¨[]{}-:;,.':\n",
    "        text = string.replace(text, ch, ' ')\n",
    "# We build a list with all words (blank separation)\n",
    "\n",
    "# We use a dictionary for counting words\n",
    "   \n",
    "\n",
    "main()    "
   ]
  },
  {
   "cell_type": "code",
   "execution_count": null,
   "metadata": {
    "collapsed": true
   },
   "outputs": [],
   "source": [
    "def compare((w1,c1),(w2,c2)):\n",
    "# A sorting funtion returns negative if x<y, zero if x==y, positive if x>y.\n",
    "    if c1 < c2:\n",
    "        return -1\n",
    "    elif c1 == c2:\n",
    "        return 0\n",
    "    else:\n",
    "        return 1\n",
    "    \n",
    "items = counts.items()\n",
    "items.sort(compare)\n",
    "    "
   ]
  },
  {
   "cell_type": "code",
   "execution_count": 190,
   "metadata": {},
   "outputs": [
    {
     "data": {
      "text/plain": [
       "(-0.5, 399.5, 199.5, -0.5)"
      ]
     },
     "execution_count": 190,
     "metadata": {},
     "output_type": "execute_result"
    },
    {
     "data": {
      "image/png": "[encoded data removed]",
      "text/plain": [
       "<matplotlib.figure.Figure at 0x7f5ea8264210>"
      ]
     },
     "metadata": {},
     "output_type": "display_data"
    }
   ],
   "source": [
    "from wordcloud import WordCloud\n",
    "%matplotlib inline\n",
    "\n",
    "wordcloud = WordCloud().generate(text)\n",
    "# Display the generated image:\n",
    "# the matplotlib way:\n",
    "import matplotlib.pyplot as pl\n",
    "pl.imshow(wordcloud)\n",
    "pl.axis(\"off\")\n",
    "\n"
   ]
  },
  {
   "cell_type": "markdown",
   "metadata": {},
   "source": [
    "### Lists (and dictionary) comprehensions\n",
    "\n",
    "Lists comprehensions are a way to fit a ``for`` loop, an ``if`` statement, and an assignment all in one line.\n",
    "\n",
    "A list comprehension consists of the following parts:\n",
    "\n",
    "+ An input sequence.\n",
    "+ A variable representing members of the input sequence.\n",
    "+ An optional expression.\n",
    "+ An output expression producing elements of the output list from members of the input sequence that satisfy the predicate."
   ]
  },
  {
   "cell_type": "code",
   "execution_count": 118,
   "metadata": {},
   "outputs": [
    {
     "name": "stdout",
     "output_type": "stream",
     "text": [
      "<type 'list'> [1, 16, 100, 4, 9]\n"
     ]
    }
   ],
   "source": [
    "num = [1, 4, -5, 10, -7, 2, 3, -1]\n",
    "squared = [ x**2 for x in num if x > 0]\n",
    "print type(squared), squared"
   ]
  },
  {
   "cell_type": "markdown",
   "metadata": {},
   "source": [
    "There is a downside to list comprehensions: the entire list has to be stored in memory at once. This isn’t a problem for small lists like the ones in the above examples, or even of lists several orders of magnitude larger. But we can use **<font color=\"red\">generators</font>** to solve this problem.\n",
    "\n",
    "Generator expressions do not load the whole list into memory at once, but instead create a *generator object* so only one list element has to be loaded at any time.\n",
    "\n",
    "Generator expressions have the same syntax as list comprehensions, but with parentheses around the outside instead of brackets:"
   ]
  },
  {
   "cell_type": "code",
   "execution_count": 125,
   "metadata": {},
   "outputs": [
    {
     "name": "stdout",
     "output_type": "stream",
     "text": [
      "<type 'generator'> <generator object <genexpr> at 0x7f5ea82c2870>\n"
     ]
    }
   ],
   "source": [
    "num = [1, 4, -5, 10, -7, 2, 3, -1]\n",
    "squared = ( x**2 for x in num if x > 0 )\n",
    "print type(squared), squared"
   ]
  },
  {
   "cell_type": "markdown",
   "metadata": {},
   "source": [
    "**Trye and set the first value of squared to 9999**"
   ]
  },
  {
   "cell_type": "code",
   "execution_count": 123,
   "metadata": {
    "collapsed": true
   },
   "outputs": [],
   "source": [
    "##Exercise\n",
    "\n",
    "##7"
   ]
  },
  {
   "cell_type": "markdown",
   "metadata": {},
   "source": [
    "The elements of the generator must be accessed by an iterator because they are generated when needed:"
   ]
  },
  {
   "cell_type": "code",
   "execution_count": 126,
   "metadata": {},
   "outputs": [
    {
     "name": "stdout",
     "output_type": "stream",
     "text": [
      "[1, 16, 100, 4, 9]\n"
     ]
    }
   ],
   "source": [
    "lis = []\n",
    "for item in squared:\n",
    "    lis = lis + [item]\n",
    "print lis"
   ]
  },
  {
   "cell_type": "markdown",
   "metadata": {},
   "source": [
    "** Exercise **\n",
    "\n",
    "+ Write a function with two parameters <code>a</code> and <code>b</code>, to compute the final amount we get if we deposite 1000€ during <code>a</code> years in a bank account with an interest rate of <code>b</code> per cent.\n",
    "+ What is the result for ``a``=10, ``b``=10"
   ]
  },
  {
   "cell_type": "code",
   "execution_count": null,
   "metadata": {},
   "outputs": [],
   "source": [
    "# Your solution here"
   ]
  },
  {
   "cell_type": "markdown",
   "metadata": {},
   "source": [
    "**Exercise**\n",
    "\n",
    "+ Write a function with one parameter <code>a</code>, to compute the minimum period we need to double the amount in an account with an interest rate of <code>a</code> per cent.\n",
    "+ What is the result for ``a``=3?"
   ]
  },
  {
   "cell_type": "code",
   "execution_count": null,
   "metadata": {},
   "outputs": [],
   "source": [
    "# Your solution here"
   ]
  },
  {
   "cell_type": "markdown",
   "metadata": {},
   "source": [
    "** Exercise**\n",
    "\n",
    "> (...) In mathematics, the sieve of Eratosthenes, one of a number of prime number sieves, is a simple, ancient algorithm for finding all prime numbers up to any given limit. A prime number is a natural number which has exactly two distinct natural number divisors: 1 and itself. To find all the prime numbers less than or equal to a given integer $n$ by Eratosthenes' method.\n",
    "> (Source: *Wikipedia*)\n",
    "\n",
    "+ Write a program to implement the Eratostenes algorithm. First create a list of consecutive integers from 2 through $n$: (2, 3, 4, ..., n). Then,    \n",
    "    - Initially, let $p$ equal 2, the first prime number.\n",
    "    - Starting from $p$, enumerate its multiples by counting to $n$ in increments of $p$, and mark them in the list (these will be 2p, 3p, 4p, etc.; the $p$ itself should not be marked).\n",
    "    - Find the first number greater than $p$ in the list that is not marked. If there was no such number, stop. Otherwise, let $p$ now equal this new number (which is the next prime), and repeat from step 2.\n",
    "    - When the algorithm terminates, all the numbers in the list that are not marked are prime. (...)"
   ]
  },
  {
   "cell_type": "code",
   "execution_count": null,
   "metadata": {},
   "outputs": [],
   "source": [
    "# Your solution here"
   ]
  },
  {
   "cell_type": "markdown",
   "metadata": {},
   "source": [
    "**Exercise:** \n",
    "\n",
    "+ Compute the set of bigrams of a string. (``'hola'->'ho'+'ol'+'la'``) "
   ]
  },
  {
   "cell_type": "code",
   "execution_count": null,
   "metadata": {},
   "outputs": [],
   "source": [
    "# Your solution here"
   ]
  },
  {
   "cell_type": "markdown",
   "metadata": {},
   "source": [
    "## Advanced programming for data analysis: NumPy.\n"
   ]
  },
  {
   "cell_type": "markdown",
   "metadata": {},
   "source": [
    "<div class=\"alert alert-error\"> **NumPy** is an open-source add-on module to Python that provide common mathematical and numerical routines in pre-compiled, fast functions.</div>"
   ]
  },
  {
   "cell_type": "markdown",
   "metadata": {},
   "source": [
    "There are several ways to import NumPy. The standard approach is: "
   ]
  },
  {
   "cell_type": "code",
   "execution_count": null,
   "metadata": {},
   "outputs": [],
   "source": [
    "import numpy as np"
   ]
  },
  {
   "cell_type": "markdown",
   "metadata": {},
   "source": [
    "The central feature of NumPy is the **array** object class. Arrays are similar to lists in Python, except that every element of an array must be of the same type, typically a numeric type like float or int. \n",
    "\n",
    "Arrays make operations with large amounts of numeric data very fast and are generally much more efficient than lists. "
   ]
  },
  {
   "cell_type": "markdown",
   "metadata": {},
   "source": [
    "### Array creation\n",
    "\n",
    "There are several ways for creating an array:\n",
    "    \n",
    "+ Explicitly from a list of values.\n",
    "+ As a range of values.\n",
    "+ As a random array.\n",
    "+ By specifying the number of elements.\n",
    "+ By creating an unitializated, a zero-initializated or one-initializated array.\n",
    "+ By creating a constant diagonal value array.\n",
    "+ Etc.\n",
    "\n"
   ]
  },
  {
   "cell_type": "code",
   "execution_count": 129,
   "metadata": {},
   "outputs": [
    {
     "name": "stdout",
     "output_type": "stream",
     "text": [
      "[ 1.  2.] 5\n"
     ]
    }
   ],
   "source": [
    "a = np.array([1, 2, 4, 8, 16], float) \n",
    "print a[:2], len(a) "
   ]
  },
  {
   "cell_type": "code",
   "execution_count": 130,
   "metadata": {},
   "outputs": [
    {
     "name": "stdout",
     "output_type": "stream",
     "text": [
      "[ 0.  1.  2.  3.  4.]\n",
      "[[ 1.  1.  1.]\n",
      " [ 1.  1.  1.]]\n",
      "[0 0 0 0 0 0 0]\n",
      "[[ 0.  0.  0.]\n",
      " [ 0.  0.  0.]]\n",
      "[['1' '' '' '']\n",
      " ['' '1' '' '']\n",
      " ['' '' '1' '']\n",
      " ['' '' '' '1']]\n"
     ]
    }
   ],
   "source": [
    "print np.arange(5, dtype=float)  \n",
    "print np.ones((2,3), dtype=float)  \n",
    "print np.zeros(7, dtype=int)\n",
    "a= np.array([[1, 2, 3], [4, 5, 6]], float) \n",
    "print np.zeros_like(a) \n",
    "print np.identity(4, dtype=str) "
   ]
  },
  {
   "cell_type": "code",
   "execution_count": 131,
   "metadata": {},
   "outputs": [
    {
     "name": "stdout",
     "output_type": "stream",
     "text": [
      "[   0.           11.11111111   22.22222222   33.33333333   44.44444444\n",
      "   55.55555556   66.66666667   77.77777778   88.88888889  100.        ]\n"
     ]
    }
   ],
   "source": [
    "a = np.linspace(0,100,10)\n",
    "print a"
   ]
  },
  {
   "cell_type": "code",
   "execution_count": 132,
   "metadata": {},
   "outputs": [
    {
     "name": "stdout",
     "output_type": "stream",
     "text": [
      "[  10.   20.   30.   40.   50.   60.   70.   80.   90.  100.]\n"
     ]
    }
   ],
   "source": [
    "a = np.linspace(10,100,10)\n",
    "print a"
   ]
  },
  {
   "cell_type": "code",
   "execution_count": 133,
   "metadata": {},
   "outputs": [
    {
     "data": {
      "text/plain": [
       "array([[ 0.56210388,  0.88050371,  0.38063063],\n",
       "       [ 0.42219074,  0.30733414,  0.9049975 ]])"
      ]
     },
     "execution_count": 133,
     "metadata": {},
     "output_type": "execute_result"
    }
   ],
   "source": [
    "np.random.rand(2,3) "
   ]
  },
  {
   "cell_type": "code",
   "execution_count": 134,
   "metadata": {},
   "outputs": [
    {
     "name": "stdout",
     "output_type": "stream",
     "text": [
      "[ 1.6923932   0.24882522 -1.70957145 -0.30926633  0.94032597]\n",
      "[ 4.37943052  5.04019225  4.09275476  5.62580048  5.33960333]\n"
     ]
    }
   ],
   "source": [
    "a = np.random.normal(size=5) \n",
    "b = np.random.normal(5, size=5)         # mean = 5\n",
    "print a\n",
    "print b"
   ]
  },
  {
   "cell_type": "code",
   "execution_count": 135,
   "metadata": {},
   "outputs": [],
   "source": [
    "np.random.normal?"
   ]
  },
  {
   "cell_type": "markdown",
   "metadata": {},
   "source": [
    "Arrays can be multidimensional. **Unlike lists**, different axes are accessed using commas inside \n",
    "bracket notation."
   ]
  },
  {
   "cell_type": "code",
   "execution_count": 136,
   "metadata": {},
   "outputs": [
    {
     "name": "stdout",
     "output_type": "stream",
     "text": [
      "1\n",
      "[[5 6]]\n"
     ]
    }
   ],
   "source": [
    "a = np.array([[1, 2, 3], [4, 5, 6]], int)\n",
    "print a[0,0]                # different axes are accessed using commas inside bracket notation\n",
    "print a[-1:,-2:]"
   ]
  },
  {
   "cell_type": "markdown",
   "metadata": {},
   "source": [
    "Object arrays have several properties:"
   ]
  },
  {
   "cell_type": "code",
   "execution_count": 137,
   "metadata": {},
   "outputs": [
    {
     "name": "stdout",
     "output_type": "stream",
     "text": [
      "(2, 3) int64\n"
     ]
    }
   ],
   "source": [
    "print a.shape, a.dtype"
   ]
  },
  {
   "cell_type": "markdown",
   "metadata": {},
   "source": [
    "The ``in`` statement can be used to test if values are present in an array: \n"
   ]
  },
  {
   "cell_type": "code",
   "execution_count": 138,
   "metadata": {},
   "outputs": [
    {
     "data": {
      "text/plain": [
       "True"
      ]
     },
     "execution_count": 138,
     "metadata": {},
     "output_type": "execute_result"
    }
   ],
   "source": [
    "2 in a "
   ]
  },
  {
   "cell_type": "markdown",
   "metadata": {},
   "source": [
    "Arrays can be reshaped using tuples that specify new dimensions. "
   ]
  },
  {
   "cell_type": "code",
   "execution_count": 139,
   "metadata": {},
   "outputs": [
    {
     "name": "stdout",
     "output_type": "stream",
     "text": [
      "[[1 2]\n",
      " [3 4]\n",
      " [5 6]]\n"
     ]
    }
   ],
   "source": [
    "a = a.reshape((3, 2))    # this function creates a new array!\n",
    "print a"
   ]
  },
  {
   "cell_type": "markdown",
   "metadata": {},
   "source": [
    "Lists can also be created from arrays: "
   ]
  },
  {
   "cell_type": "code",
   "execution_count": 140,
   "metadata": {},
   "outputs": [
    {
     "data": {
      "text/plain": [
       "list"
      ]
     },
     "execution_count": 140,
     "metadata": {},
     "output_type": "execute_result"
    }
   ],
   "source": [
    "a = np.array([1, 2, 3], float) \n",
    "type(a.tolist())"
   ]
  },
  {
   "cell_type": "markdown",
   "metadata": {},
   "source": [
    "Other functions and properties:"
   ]
  },
  {
   "cell_type": "code",
   "execution_count": 147,
   "metadata": {},
   "outputs": [
    {
     "name": "stdout",
     "output_type": "stream",
     "text": [
      "[[ 0.  3.]\n",
      " [ 1.  4.]\n",
      " [ 2.  5.]]\n",
      "[[ 0.  1.  2.]\n",
      " [ 3.  4.  5.]]\n"
     ]
    }
   ],
   "source": [
    "a = np.array(range(6), float).reshape((2, 3)) \n",
    "print a.transpose()   # Transposed versions of arrays\n",
    "print a"
   ]
  },
  {
   "cell_type": "code",
   "execution_count": null,
   "metadata": {},
   "outputs": [],
   "source": []
  },
  {
   "cell_type": "code",
   "execution_count": 148,
   "metadata": {},
   "outputs": [
    {
     "data": {
      "text/plain": [
       "array([ 0.,  1.,  2.,  3.,  4.,  5.])"
      ]
     },
     "execution_count": 148,
     "metadata": {},
     "output_type": "execute_result"
    }
   ],
   "source": [
    "a.flatten()    # One-dimensional versions of multi-dimensional arrays"
   ]
  },
  {
   "cell_type": "code",
   "execution_count": 149,
   "metadata": {},
   "outputs": [
    {
     "data": {
      "text/plain": [
       "array([ 1.,  2.,  3.,  4.,  5.,  6.,  7.,  8.,  9.])"
      ]
     },
     "execution_count": 149,
     "metadata": {},
     "output_type": "execute_result"
    }
   ],
   "source": [
    "a = np.array([1,2], float) \n",
    "b = np.array([3,4,5,6], float) \n",
    "c = np.array([7,8,9], float) \n",
    "np.concatenate((a, b, c))          # Concatenation"
   ]
  },
  {
   "cell_type": "code",
   "execution_count": 154,
   "metadata": {},
   "outputs": [
    {
     "data": {
      "text/plain": [
       "array([[ 1.,  2.],\n",
       "       [ 3.,  4.],\n",
       "       [ 5.,  6.],\n",
       "       [ 7.,  8.]])"
      ]
     },
     "execution_count": 154,
     "metadata": {},
     "output_type": "execute_result"
    }
   ],
   "source": [
    "a = np.array([[1, 2], [3, 4]], float) \n",
    "b = np.array([[5, 6], [7,8]], float) \n",
    "np.concatenate((a,b), axis=0)      # it is possible to specify the axis for concatenation"
   ]
  },
  {
   "cell_type": "code",
   "execution_count": 155,
   "metadata": {},
   "outputs": [
    {
     "data": {
      "text/plain": [
       "array([[ 1.,  2.,  5.,  6.],\n",
       "       [ 3.,  4.,  7.,  8.]])"
      ]
     },
     "execution_count": 155,
     "metadata": {},
     "output_type": "execute_result"
    }
   ],
   "source": [
    "np.concatenate((a,b), axis=1)"
   ]
  },
  {
   "cell_type": "code",
   "execution_count": 156,
   "metadata": {},
   "outputs": [
    {
     "name": "stdout",
     "output_type": "stream",
     "text": [
      "9.0 24.0 3.0 0.666666666667 0.816496580928 2.0 4.0\n",
      "0 1\n"
     ]
    }
   ],
   "source": [
    "a = np.array([2, 4, 3], float) \n",
    "print a.sum(), a.prod(), a.mean(), a.var(), a.std(), a.min(), a.max()\n",
    "print a.argmin(), a.argmax()     # these functions return the array indices "
   ]
  },
  {
   "cell_type": "markdown",
   "metadata": {},
   "source": [
    "One dimensional arrays have a 1-tuple for their shape: <code> (size,)</code>.\n",
    "\n",
    "N-dimensional arrays have a N-tuple for their shape: <code> (size1, ..., sizeN)</code>.\n",
    "\n",
    "For multidimensional arrays, each of the functions thus far described can take an optional \n",
    "argument ``axis`` that will perform an operation along only the specified axis, placing the results in a return array. "
   ]
  },
  {
   "cell_type": "code",
   "execution_count": 157,
   "metadata": {},
   "outputs": [
    {
     "name": "stdout",
     "output_type": "stream",
     "text": [
      "[[ 0.  2.]\n",
      " [ 3. -1.]\n",
      " [ 3.  5.]]\n",
      "[ 2.  2.] [ 1.  1.  4.] [ 0. -1.  3.] [ 3.  5.]\n"
     ]
    }
   ],
   "source": [
    "a = np.array([[0, 2], [3, -1], [3, 5]], float) \n",
    "print a\n",
    "print a.mean(axis=0), a.mean(axis=1), a.min(axis=1), a.max(axis=0) "
   ]
  },
  {
   "cell_type": "markdown",
   "metadata": {},
   "source": [
    "** Exercise **\n",
    "\n",
    "In the following table we have expression values for 5 genes at 4 time points. \n",
    "\n",
    "                        Gene name   4h\t12h\t  24h\t48h\n",
    "                        A2M        0.12\t0.08  0.06\t0.02\n",
    "                        FOS        0.01\t0.07  0.11\t0.09\n",
    "                        BRCA2      0.03\t0.04  0.04\t0.02\n",
    "                        CPOX       0.05\t0.09  0.11\t0.14\n",
    "\n",
    "+ Create a single array for the data (4x4)\n",
    "+ Find the mean expression value per gene\n",
    "+ Find the mean expression value per time point\n",
    "+ Which gene has the maximum mean expression value?"
   ]
  },
  {
   "cell_type": "code",
   "execution_count": 296,
   "metadata": {
    "collapsed": true
   },
   "outputs": [],
   "source": [
    "#####3\n",
    "##\n",
    "###\n",
    "###"
   ]
  },
  {
   "cell_type": "markdown",
   "metadata": {},
   "source": [
    "### Indexing and Slicing\n",
    "\n",
    "Array views contain a pointer to the original data, but may have different\n",
    "shape or stride values."
   ]
  },
  {
   "cell_type": "markdown",
   "metadata": {},
   "source": [
    "<div class=\"alert alert-error\"> **Simple assigments do not make copies of arrays. Slicing operations do not make copies either; they return views on the original array**.</div>"
   ]
  },
  {
   "cell_type": "code",
   "execution_count": 163,
   "metadata": {},
   "outputs": [
    {
     "name": "stdout",
     "output_type": "stream",
     "text": [
      "[[ 0  1  2  3  4  5  6  7]\n",
      " [ 8  9 10 11 12 13 14 15]\n",
      " [16 17 18 19 20 21 22 23]\n",
      " [24 25 26 27 28 29 30 31]\n",
      " [32 33 34 35 36 37 38 39]\n",
      " [40 41 42 43 44 45 46 47]\n",
      " [48 49 50 51 52 53 54 55]\n",
      " [56 57 58 59 60 61 62 63]]\n"
     ]
    }
   ],
   "source": [
    "a = np.array(range(64)).reshape((8,8))\n",
    "print a"
   ]
  },
  {
   "cell_type": "code",
   "execution_count": 164,
   "metadata": {},
   "outputs": [
    {
     "name": "stdout",
     "output_type": "stream",
     "text": [
      "[[ 0  1  2  3  4  5  6  7]\n",
      " [ 8  9 10 11 12 13 14 15]]\n"
     ]
    }
   ],
   "source": [
    "print a[0:2,:] "
   ]
  },
  {
   "cell_type": "code",
   "execution_count": 166,
   "metadata": {},
   "outputs": [
    {
     "name": "stdout",
     "output_type": "stream",
     "text": [
      "[17 18 19 20 21 22 23]\n"
     ]
    }
   ],
   "source": [
    "print a[2,1:]  # This is an element!"
   ]
  },
  {
   "cell_type": "code",
   "execution_count": 167,
   "metadata": {},
   "outputs": [
    {
     "name": "stdout",
     "output_type": "stream",
     "text": [
      "[1 2 3 4 5 6 7]\n"
     ]
    }
   ],
   "source": [
    "print a[0,1:] # This is an element!"
   ]
  },
  {
   "cell_type": "code",
   "execution_count": 168,
   "metadata": {},
   "outputs": [
    {
     "name": "stdout",
     "output_type": "stream",
     "text": [
      "[[ 2]\n",
      " [10]]\n"
     ]
    }
   ],
   "source": [
    "print a[:2,2:3]"
   ]
  },
  {
   "cell_type": "code",
   "execution_count": 169,
   "metadata": {},
   "outputs": [
    {
     "name": "stdout",
     "output_type": "stream",
     "text": [
      "[[ 0  2  4  6]\n",
      " [ 8 10 12 14]\n",
      " [16 18 20 22]\n",
      " [24 26 28 30]\n",
      " [32 34 36 38]\n",
      " [40 42 44 46]\n",
      " [48 50 52 54]\n",
      " [56 58 60 62]]\n"
     ]
    }
   ],
   "source": [
    "print a[:,::2] ## 2 jumps"
   ]
  },
  {
   "cell_type": "code",
   "execution_count": 170,
   "metadata": {},
   "outputs": [
    {
     "name": "stdout",
     "output_type": "stream",
     "text": [
      "[[ 0  3  6]\n",
      " [16 19 22]\n",
      " [32 35 38]\n",
      " [48 51 54]]\n"
     ]
    }
   ],
   "source": [
    "print a[::2,::3]"
   ]
  },
  {
   "cell_type": "markdown",
   "metadata": {},
   "source": [
    "### Array operations\n",
    "\n",
    "Standard mathematical operations are applied on an **element-by-element basis**."
   ]
  },
  {
   "cell_type": "code",
   "execution_count": 171,
   "metadata": {},
   "outputs": [
    {
     "name": "stdout",
     "output_type": "stream",
     "text": [
      "[ 6.  4.  9.] [ 1.  0.  3.] [   1.    4.  729.]\n"
     ]
    }
   ],
   "source": [
    "a = np.array([1,2,3], float) \n",
    "b = np.array([5,2,6], float) \n",
    "print a + b, a % b, a ** b"
   ]
  },
  {
   "cell_type": "markdown",
   "metadata": {},
   "source": [
    "For two-dimensional arrays, multiplication remains elementwise and does not correspond to \n",
    "matrix multiplication. There are special functions for matrix math. "
   ]
  },
  {
   "cell_type": "code",
   "execution_count": null,
   "metadata": {},
   "outputs": [],
   "source": [
    "a = np.array([[1,2], [3,4]], float) \n",
    "b = np.array([[2,0], [1,3]], float) \n",
    "a * b "
   ]
  },
  {
   "cell_type": "markdown",
   "metadata": {},
   "source": [
    "NumPy offers a large library of common mathematical functions that can be applied elementwise to arrays. Among these are the functions: <code> abs,sign, sqrt, log, log10, exp, sin, cos, tan, arcsin, arccos, arctan, sinh, cosh, tanh, arcsinh, arccosh, </code> and <code>arctanh </code>. \n"
   ]
  },
  {
   "cell_type": "code",
   "execution_count": 173,
   "metadata": {},
   "outputs": [
    {
     "data": {
      "text/plain": [
       "array([ 0.84147098, -0.7568025 ,  0.41211849])"
      ]
     },
     "execution_count": 173,
     "metadata": {},
     "output_type": "execute_result"
    }
   ],
   "source": [
    "a = np.array([1, 4, 9], float) \n",
    "np.sin(a)"
   ]
  },
  {
   "cell_type": "markdown",
   "metadata": {},
   "source": [
    "It is possible to iterate over arrays in a manner similar to that of lists: "
   ]
  },
  {
   "cell_type": "code",
   "execution_count": 174,
   "metadata": {},
   "outputs": [
    {
     "name": "stdout",
     "output_type": "stream",
     "text": [
      "[ 1.  2.]\n",
      "[ 3.  4.]\n",
      "[ 5.  6.]\n"
     ]
    }
   ],
   "source": [
    "a = np.array([[1, 2], [3, 4], [5, 6]], float) \n",
    "for x in a: \n",
    "    print x"
   ]
  },
  {
   "cell_type": "code",
   "execution_count": 175,
   "metadata": {},
   "outputs": [
    {
     "name": "stdout",
     "output_type": "stream",
     "text": [
      "2.0\n",
      "12.0\n",
      "30.0\n"
     ]
    }
   ],
   "source": [
    "for [x, y] in a:             # Multiple assignment can also be used with array iteration\n",
    "    print x * y"
   ]
  },
  {
   "cell_type": "code",
   "execution_count": 176,
   "metadata": {},
   "outputs": [
    {
     "name": "stdout",
     "output_type": "stream",
     "text": [
      "[-1.  0.  2.  5.  6.]\n"
     ]
    }
   ],
   "source": [
    "a = np.array([6, 2, 5, -1, 0], float) \n",
    "a.sort() \n",
    "print a"
   ]
  },
  {
   "cell_type": "markdown",
   "metadata": {},
   "source": [
    "### Comparison operators and value testing \n",
    "Boolean comparisons can be used to compare members elementwise on arrays of equal size. \n"
   ]
  },
  {
   "cell_type": "code",
   "execution_count": 178,
   "metadata": {},
   "outputs": [
    {
     "name": "stdout",
     "output_type": "stream",
     "text": [
      "[ True False False]\n",
      "[False  True False]\n",
      "[False  True  True]\n",
      "[ True False  True]\n"
     ]
    }
   ],
   "source": [
    "a = np.array([1, 3, 0], float) \n",
    "b = np.array([0, 3, 2], float) \n",
    "print a > b \n",
    "print a == b \n",
    "print a <= b \n",
    "print a != b\n"
   ]
  },
  {
   "cell_type": "markdown",
   "metadata": {},
   "source": [
    "Arrays can be compared to single values using broadcasting: "
   ]
  },
  {
   "cell_type": "code",
   "execution_count": 179,
   "metadata": {},
   "outputs": [
    {
     "data": {
      "text/plain": [
       "array([False,  True, False], dtype=bool)"
      ]
     },
     "execution_count": 179,
     "metadata": {},
     "output_type": "execute_result"
    }
   ],
   "source": [
    "a = np.array([1, 3, 0], float) \n",
    "a > 2"
   ]
  },
  {
   "cell_type": "markdown",
   "metadata": {},
   "source": [
    "The <code>any</code> and <code>all</code> operators can be used to determine whether or not any or all elements of a \n",
    "Boolean array are true: "
   ]
  },
  {
   "cell_type": "code",
   "execution_count": 180,
   "metadata": {},
   "outputs": [
    {
     "name": "stdout",
     "output_type": "stream",
     "text": [
      "True False\n"
     ]
    }
   ],
   "source": [
    "c = np.array([ True, False, False], bool) \n",
    "print any(c), all(c)"
   ]
  },
  {
   "cell_type": "markdown",
   "metadata": {},
   "source": [
    "Compound Boolean expressions can be applied to arrays on an element-by-element basis using \n",
    "special functions ``logical_and``, ``logical_or``, and ``logical_not``. "
   ]
  },
  {
   "cell_type": "code",
   "execution_count": null,
   "metadata": {},
   "outputs": [],
   "source": [
    "a = np.array([1, 3, 0], float) \n",
    "print np.logical_and(a > 0, a < 3) \n",
    "b = np.array([True, False, True], bool) \n",
    "print np.logical_not(b) \n",
    "c = np.array([False, True, False], bool) \n",
    "print np.logical_or(b, c) \n"
   ]
  },
  {
   "cell_type": "markdown",
   "metadata": {},
   "source": [
    "The ``where`` function forms a new array from two arrays of equivalent size using a Boolean filter  to choose between elements of the two. Its basic syntax is: <br>\n",
    "<code>where(boolarray, truearray, falsearray)</code>"
   ]
  },
  {
   "cell_type": "code",
   "execution_count": null,
   "metadata": {},
   "outputs": [],
   "source": [
    "a = np.array([1, 3, 0], float) \n",
    "b = np.where(a != 0, 1 / a, a) \n",
    "print b\n"
   ]
  },
  {
   "cell_type": "markdown",
   "metadata": {},
   "source": [
    "### Array item selection and manipulation \n",
    "We can use array selectors to **filter** for specific subsets of elements of other arrays. "
   ]
  },
  {
   "cell_type": "code",
   "execution_count": 192,
   "metadata": {},
   "outputs": [
    {
     "data": {
      "text/plain": [
       "array([[ True, False],\n",
       "       [False,  True]], dtype=bool)"
      ]
     },
     "execution_count": 192,
     "metadata": {},
     "output_type": "execute_result"
    }
   ],
   "source": [
    "a = np.array([[6, 4], [5, 9]], float) \n",
    "a >= 6"
   ]
  },
  {
   "cell_type": "code",
   "execution_count": 193,
   "metadata": {},
   "outputs": [
    {
     "data": {
      "text/plain": [
       "array([ 6.,  9.])"
      ]
     },
     "execution_count": 193,
     "metadata": {},
     "output_type": "execute_result"
    }
   ],
   "source": [
    "a[a >= 6] "
   ]
  },
  {
   "cell_type": "code",
   "execution_count": 194,
   "metadata": {},
   "outputs": [
    {
     "data": {
      "text/plain": [
       "array([ 6.,  9.])"
      ]
     },
     "execution_count": 194,
     "metadata": {},
     "output_type": "execute_result"
    }
   ],
   "source": [
    "a = np.array([[6, 4], [5, 9]], float) \n",
    "sel = (a >= 6) \n",
    "a[sel] \n"
   ]
  },
  {
   "cell_type": "markdown",
   "metadata": {},
   "source": [
    "It is also possible to select using integer arrays that represent indexes."
   ]
  },
  {
   "cell_type": "code",
   "execution_count": 195,
   "metadata": {},
   "outputs": [
    {
     "data": {
      "text/plain": [
       "array([ 2.,  2.,  4.,  8.,  6.,  4.])"
      ]
     },
     "execution_count": 195,
     "metadata": {},
     "output_type": "execute_result"
    }
   ],
   "source": [
    "a = np.array([2, 4, 6, 8], float) \n",
    "b = np.array([0, 0, 1, 3, 2, 1], int)  # the 0th, 0th, 1st, 3rd, 2nd, and 1st elements of a\n",
    "a[b] "
   ]
  },
  {
   "cell_type": "markdown",
   "metadata": {},
   "source": [
    "### Vector and matrix mathematics"
   ]
  },
  {
   "cell_type": "code",
   "execution_count": 197,
   "metadata": {},
   "outputs": [
    {
     "data": {
      "text/plain": [
       "5.0"
      ]
     },
     "execution_count": 197,
     "metadata": {},
     "output_type": "execute_result"
    }
   ],
   "source": [
    "a = np.array([1, 2, 3], float) \n",
    "b = np.array([0, 1, 1], float) \n",
    "np.dot(a, b) \n"
   ]
  },
  {
   "cell_type": "code",
   "execution_count": 198,
   "metadata": {},
   "outputs": [
    {
     "name": "stdout",
     "output_type": "stream",
     "text": [
      "[  6.  11.]\n",
      "[[  4.   0.]\n",
      " [ 14.   2.]]\n"
     ]
    }
   ],
   "source": [
    "a = np.array([[0, 1], [2, 3]], float) \n",
    "b = np.array([2, 3], float) \n",
    "c = np.array([[1, 1], [4, 0]], float) \n",
    "print np.dot(b, a)\n",
    "print np.dot(a, c) "
   ]
  },
  {
   "cell_type": "markdown",
   "metadata": {},
   "source": [
    "It is also possible to generate inner, outer, and cross products of matrices and vectors."
   ]
  },
  {
   "cell_type": "markdown",
   "metadata": {},
   "source": [
    "## Advanced programming for data analysis: pandas.\n",
    "\n",
    "pandas is a fundamental high-level building block for doing practical, real world data analysis in Python.\n",
    "\n",
    "pandas is well suited for:\n",
    "\n",
    "+ Tabular data with heterogeneously-typed columns, as in an SQL table or Excel spreadsheet\n",
    "+ Ordered and unordered (not necessarily fixed-frequency) time series data.\n",
    "+ Arbitrary matrix data (homogeneously typed or heterogeneous) with row and column labels.\n"
   ]
  },
  {
   "cell_type": "markdown",
   "metadata": {},
   "source": [
    "<div class=\"alert alert-error\"> **pandas is a Python package providing fast, flexible, and expressive data structures designed to work with both relational or labeled data. **.</div>\n"
   ]
  },
  {
   "cell_type": "markdown",
   "metadata": {},
   "source": [
    "Key features:\n",
    "\n",
    "+ Easy handling of missing data\n",
    "+ Size mutability: columns can be inserted and deleted from DataFrame\n",
    "+ Powerful, flexible ``group by`` functionality to perform split-apply-combine operations on data sets\n",
    "+ Intelligent label-based slicing, fancy indexing, and subsetting of large data sets\n",
    "+ Intuitive merging and joining data sets\n",
    "+ Flexible reshaping and pivoting of data sets\n",
    "+ Hierarchical labeling of axes\n",
    "+ Robust IO tools for loading data from flat files, Excel files, databases, and HDF5\n",
    "+ Time series functionality: date range generation and frequency conversion, moving window statistics, moving window linear regressions, date shifting and lagging, etc."
   ]
  },
  {
   "cell_type": "markdown",
   "metadata": {},
   "source": [
    "Pandas has a lot of functionality, so we'll only be able to cover a **small** fraction of what you can do. Check out the (very readable) pandas docs if you want to learn more:\n",
    "\n",
    "http://pandas.pydata.org/pandas-docs/stable/"
   ]
  },
  {
   "cell_type": "markdown",
   "metadata": {},
   "source": [
    "### Series and DataFrames\n",
    "\n",
    "A Series is a single vector of data with an index that labels every element in the vector. \n",
    "\n",
    "If we do not specify the index, a sequence of integers is assigned as index."
   ]
  },
  {
   "cell_type": "code",
   "execution_count": 218,
   "metadata": {},
   "outputs": [
    {
     "data": {
      "text/plain": [
       "0    1956\n",
       "1    1967\n",
       "2    1989\n",
       "3    2000\n",
       "dtype: int64"
      ]
     },
     "execution_count": 218,
     "metadata": {},
     "output_type": "execute_result"
    }
   ],
   "source": [
    "import pandas as pd                            # convention, alias 'pd'\n",
    "c = pd.Series([1956, 1967, 1989, 2000])\n",
    "c"
   ]
  },
  {
   "cell_type": "markdown",
   "metadata": {},
   "source": [
    "Its values are stores in a NumPy array (``values``) and the index in a pandas ``Index`` object:"
   ]
  },
  {
   "cell_type": "code",
   "execution_count": 219,
   "metadata": {},
   "outputs": [
    {
     "data": {
      "text/plain": [
       "array([1956, 1967, 1989, 2000])"
      ]
     },
     "execution_count": 219,
     "metadata": {},
     "output_type": "execute_result"
    }
   ],
   "source": [
    "c.values"
   ]
  },
  {
   "cell_type": "code",
   "execution_count": 220,
   "metadata": {},
   "outputs": [
    {
     "data": {
      "text/plain": [
       "Int64Index([0, 1, 2, 3], dtype='int64')"
      ]
     },
     "execution_count": 220,
     "metadata": {},
     "output_type": "execute_result"
    }
   ],
   "source": [
    "c.index"
   ]
  },
  {
   "cell_type": "code",
   "execution_count": 221,
   "metadata": {},
   "outputs": [
    {
     "data": {
      "text/plain": [
       "a    1956\n",
       "b    1967\n",
       "c    1989\n",
       "d    2000\n",
       "dtype: int64"
      ]
     },
     "execution_count": 221,
     "metadata": {},
     "output_type": "execute_result"
    }
   ],
   "source": [
    "c = pd.Series([1956, 1967, 1989, 2000], index = ['a','b','c','d'])\n",
    "c"
   ]
  },
  {
   "cell_type": "code",
   "execution_count": 222,
   "metadata": {},
   "outputs": [
    {
     "name": "stdout",
     "output_type": "stream",
     "text": [
      "2000 2000\n"
     ]
    }
   ],
   "source": [
    "print c['d'], c[3]"
   ]
  },
  {
   "cell_type": "markdown",
   "metadata": {},
   "source": [
    "DataFrames are designed to store heterogeneous multivariate data."
   ]
  },
  {
   "cell_type": "code",
   "execution_count": 223,
   "metadata": {},
   "outputs": [
    {
     "data": {
      "text/html": [
       "<div>\n",
       "<table border=\"1\" class=\"dataframe\">\n",
       "  <thead>\n",
       "    <tr style=\"text-align: right;\">\n",
       "      <th></th>\n",
       "      <th>VarA</th>\n",
       "      <th>VarB</th>\n",
       "    </tr>\n",
       "  </thead>\n",
       "  <tbody>\n",
       "    <tr>\n",
       "      <th>Case1</th>\n",
       "      <td>aa</td>\n",
       "      <td>22.2</td>\n",
       "    </tr>\n",
       "    <tr>\n",
       "      <th>Case2</th>\n",
       "      <td>bb</td>\n",
       "      <td>33.3</td>\n",
       "    </tr>\n",
       "  </tbody>\n",
       "</table>\n",
       "</div>"
      ],
      "text/plain": [
       "      VarA  VarB\n",
       "Case1   aa  22.2\n",
       "Case2   bb  33.3"
      ]
     },
     "execution_count": 223,
     "metadata": {},
     "output_type": "execute_result"
    }
   ],
   "source": [
    "c = pd.DataFrame({'VarA':['aa','bb'], 'VarB':[22.2,33.3]}, index = ['Case1','Case2'])\n",
    "c"
   ]
  },
  {
   "cell_type": "markdown",
   "metadata": {},
   "source": [
    "A DataFrame has a second index representing columns:"
   ]
  },
  {
   "cell_type": "code",
   "execution_count": 224,
   "metadata": {},
   "outputs": [
    {
     "data": {
      "text/plain": [
       "Index([u'VarA', u'VarB'], dtype='object')"
      ]
     },
     "execution_count": 224,
     "metadata": {},
     "output_type": "execute_result"
    }
   ],
   "source": [
    "c.columns"
   ]
  },
  {
   "cell_type": "markdown",
   "metadata": {},
   "source": [
    "We can access **columns** as in a dictionary or with the ``.`` notation:"
   ]
  },
  {
   "cell_type": "code",
   "execution_count": 225,
   "metadata": {},
   "outputs": [
    {
     "data": {
      "text/plain": [
       "Case1    aa\n",
       "Case2    bb\n",
       "Name: VarA, dtype: object"
      ]
     },
     "execution_count": 225,
     "metadata": {},
     "output_type": "execute_result"
    }
   ],
   "source": [
    "c.VarA"
   ]
  },
  {
   "cell_type": "code",
   "execution_count": 226,
   "metadata": {},
   "outputs": [
    {
     "data": {
      "text/plain": [
       "Case1    aa\n",
       "Case2    bb\n",
       "Name: VarA, dtype: object"
      ]
     },
     "execution_count": 226,
     "metadata": {},
     "output_type": "execute_result"
    }
   ],
   "source": [
    "c['VarA']"
   ]
  },
  {
   "cell_type": "markdown",
   "metadata": {},
   "source": [
    "These two methods return a ``Series`` object:"
   ]
  },
  {
   "cell_type": "code",
   "execution_count": 227,
   "metadata": {},
   "outputs": [
    {
     "data": {
      "text/plain": [
       "(pandas.core.series.Series, pandas.core.series.Series)"
      ]
     },
     "execution_count": 227,
     "metadata": {},
     "output_type": "execute_result"
    }
   ],
   "source": [
    "type(c.VarA), type(c['VarA'])"
   ]
  },
  {
   "cell_type": "markdown",
   "metadata": {},
   "source": [
    "If we want to access a **row** in a DataFrame we can index its ``ix`` attribute:"
   ]
  },
  {
   "cell_type": "code",
   "execution_count": 228,
   "metadata": {},
   "outputs": [
    {
     "name": "stdout",
     "output_type": "stream",
     "text": [
      "VarA      aa\n",
      "VarB    22.2\n",
      "Name: Case1, dtype: object\n",
      "VarA      aa\n",
      "VarB    22.2\n",
      "Name: Case1, dtype: object\n"
     ]
    }
   ],
   "source": [
    "print c.ix[0]\n",
    "print c.ix['Case1']"
   ]
  },
  {
   "cell_type": "markdown",
   "metadata": {},
   "source": [
    "Or to use the ``irow`` *function*, that let's you grab the ith row from a DataFrame:"
   ]
  },
  {
   "cell_type": "code",
   "execution_count": 229,
   "metadata": {},
   "outputs": [
    {
     "name": "stdout",
     "output_type": "stream",
     "text": [
      "VarA      aa\n",
      "VarB    22.2\n",
      "Name: Case1, dtype: object\n"
     ]
    }
   ],
   "source": [
    "print c.irow(0)"
   ]
  },
  {
   "cell_type": "markdown",
   "metadata": {},
   "source": [
    "### Reading tabular data from a file\n",
    "\n",
    "The ‘pandas’ Python library provides several operators, <code>read_csv(), read_tab(), ...</code> that allows you to access data ﬁles in tabular format on your computer as well as data stored in web repositories.\n",
    "\n",
    "Reading in a data table is simply a matter of knowing the name (and location) of the data set."
   ]
  },
  {
   "cell_type": "code",
   "execution_count": 232,
   "metadata": {},
   "outputs": [],
   "source": [
    "import pandas as pd\n",
    "import numpy as np\n",
    "\n",
    "# Set some Pandas options\n",
    "pd.set_option('max_columns', 30)\n",
    "pd.set_option('max_rows', 20)"
   ]
  },
  {
   "cell_type": "code",
   "execution_count": 233,
   "metadata": {},
   "outputs": [
    {
     "data": {
      "text/plain": [
       "(62, 3)"
      ]
     },
     "execution_count": 233,
     "metadata": {},
     "output_type": "execute_result"
    }
   ],
   "source": [
    "import pandas as pd\n",
    "data = pd.read_csv(\"http://www.mosaic-web.org/go/datasets/swim100m.csv\")\n",
    "data.shape   # an attribute to see how many cases and variables there are in a data frame"
   ]
  },
  {
   "cell_type": "code",
   "execution_count": 234,
   "metadata": {},
   "outputs": [
    {
     "data": {
      "text/plain": [
       "pandas.core.frame.DataFrame"
      ]
     },
     "execution_count": 234,
     "metadata": {},
     "output_type": "execute_result"
    }
   ],
   "source": [
    "type(data)"
   ]
  },
  {
   "cell_type": "code",
   "execution_count": 235,
   "metadata": {},
   "outputs": [
    {
     "data": {
      "text/plain": [
       "   year  time sex\n",
       "0  1905  65.8   M\n",
       "1  1908  65.6   M\n",
       "2  1910  62.8   M\n",
       "3  1912  61.6   M\n",
       "4  1918  61.4   M"
      ]
     },
     "execution_count": 235,
     "metadata": {},
     "output_type": "execute_result"
    }
   ],
   "source": [
    "data.head()  # display of the firsts rows"
   ]
  },
  {
   "cell_type": "code",
   "execution_count": 236,
   "metadata": {},
   "outputs": [
    {
     "data": {
      "text/html": [
       "<div>\n",
       "<table border=\"1\" class=\"dataframe\">\n",
       "  <thead>\n",
       "    <tr style=\"text-align: right;\">\n",
       "      <th></th>\n",
       "      <th>mpg</th>\n",
       "      <th>cylinders</th>\n",
       "      <th>displacement</th>\n",
       "      <th>horsepower</th>\n",
       "      <th>weight</th>\n",
       "      <th>acceleration</th>\n",
       "      <th>year</th>\n",
       "      <th>origin</th>\n",
       "      <th>name</th>\n",
       "    </tr>\n",
       "  </thead>\n",
       "  <tbody>\n",
       "    <tr>\n",
       "      <th>392</th>\n",
       "      <td>27</td>\n",
       "      <td>4</td>\n",
       "      <td>140</td>\n",
       "      <td>86</td>\n",
       "      <td>2790</td>\n",
       "      <td>15.6</td>\n",
       "      <td>82</td>\n",
       "      <td>1</td>\n",
       "      <td>ford mustang gl</td>\n",
       "    </tr>\n",
       "    <tr>\n",
       "      <th>393</th>\n",
       "      <td>44</td>\n",
       "      <td>4</td>\n",
       "      <td>97</td>\n",
       "      <td>52</td>\n",
       "      <td>2130</td>\n",
       "      <td>24.6</td>\n",
       "      <td>82</td>\n",
       "      <td>2</td>\n",
       "      <td>vw pickup</td>\n",
       "    </tr>\n",
       "    <tr>\n",
       "      <th>394</th>\n",
       "      <td>32</td>\n",
       "      <td>4</td>\n",
       "      <td>135</td>\n",
       "      <td>84</td>\n",
       "      <td>2295</td>\n",
       "      <td>11.6</td>\n",
       "      <td>82</td>\n",
       "      <td>1</td>\n",
       "      <td>dodge rampage</td>\n",
       "    </tr>\n",
       "    <tr>\n",
       "      <th>395</th>\n",
       "      <td>28</td>\n",
       "      <td>4</td>\n",
       "      <td>120</td>\n",
       "      <td>79</td>\n",
       "      <td>2625</td>\n",
       "      <td>18.6</td>\n",
       "      <td>82</td>\n",
       "      <td>1</td>\n",
       "      <td>ford ranger</td>\n",
       "    </tr>\n",
       "    <tr>\n",
       "      <th>396</th>\n",
       "      <td>31</td>\n",
       "      <td>4</td>\n",
       "      <td>119</td>\n",
       "      <td>82</td>\n",
       "      <td>2720</td>\n",
       "      <td>19.4</td>\n",
       "      <td>82</td>\n",
       "      <td>1</td>\n",
       "      <td>chevy s-10</td>\n",
       "    </tr>\n",
       "  </tbody>\n",
       "</table>\n",
       "</div>"
      ],
      "text/plain": [
       "     mpg  cylinders  displacement horsepower  weight  acceleration  year  \\\n",
       "392   27          4           140         86    2790          15.6    82   \n",
       "393   44          4            97         52    2130          24.6    82   \n",
       "394   32          4           135         84    2295          11.6    82   \n",
       "395   28          4           120         79    2625          18.6    82   \n",
       "396   31          4           119         82    2720          19.4    82   \n",
       "\n",
       "     origin             name  \n",
       "392       1  ford mustang gl  \n",
       "393       2        vw pickup  \n",
       "394       1    dodge rampage  \n",
       "395       1      ford ranger  \n",
       "396       1       chevy s-10  "
      ]
     },
     "execution_count": 236,
     "metadata": {},
     "output_type": "execute_result"
    }
   ],
   "source": [
    "# Load car dataset\n",
    "pd.set_option('html', True)\n",
    "auto = pd.read_csv(\"http://www-bcf.usc.edu/~gareth/ISL/Auto.csv\")\n",
    "auto.tail()  # print the last lines"
   ]
  },
  {
   "cell_type": "markdown",
   "metadata": {},
   "source": [
    "Tabular data generally, involve variables and cases. \n",
    "\n",
    "In ‘pandas’ data frames, each of the variables is given a name. You can refer to the variable by name in a couple of diﬀerent ways:\n",
    "\n",
    "+ We can see the variable names in a data frame by using the columns attribute of the data frame object:"
   ]
  },
  {
   "cell_type": "code",
   "execution_count": 237,
   "metadata": {},
   "outputs": [
    {
     "data": {
      "text/plain": [
       "Index([u'year', u'time', u'sex'], dtype='object')"
      ]
     },
     "execution_count": 237,
     "metadata": {},
     "output_type": "execute_result"
    }
   ],
   "source": [
    "data.columns  # This is not a function; it is an attribute of the data frame."
   ]
  },
  {
   "cell_type": "markdown",
   "metadata": {},
   "source": [
    "+ Another way to get quick information about the variables in a data frame is with the function <code>describe()</code>:"
   ]
  },
  {
   "cell_type": "code",
   "execution_count": 238,
   "metadata": {},
   "outputs": [
    {
     "data": {
      "text/html": [
       "<div>\n",
       "<table border=\"1\" class=\"dataframe\">\n",
       "  <thead>\n",
       "    <tr style=\"text-align: right;\">\n",
       "      <th></th>\n",
       "      <th>year</th>\n",
       "      <th>time</th>\n",
       "    </tr>\n",
       "  </thead>\n",
       "  <tbody>\n",
       "    <tr>\n",
       "      <th>count</th>\n",
       "      <td>62.000000</td>\n",
       "      <td>62.000000</td>\n",
       "    </tr>\n",
       "    <tr>\n",
       "      <th>mean</th>\n",
       "      <td>1952.145161</td>\n",
       "      <td>59.924194</td>\n",
       "    </tr>\n",
       "    <tr>\n",
       "      <th>std</th>\n",
       "      <td>29.472881</td>\n",
       "      <td>9.916588</td>\n",
       "    </tr>\n",
       "    <tr>\n",
       "      <th>min</th>\n",
       "      <td>1905.000000</td>\n",
       "      <td>47.840000</td>\n",
       "    </tr>\n",
       "    <tr>\n",
       "      <th>25%</th>\n",
       "      <td>1924.500000</td>\n",
       "      <td>53.642500</td>\n",
       "    </tr>\n",
       "    <tr>\n",
       "      <th>50%</th>\n",
       "      <td>1956.500000</td>\n",
       "      <td>56.880000</td>\n",
       "    </tr>\n",
       "    <tr>\n",
       "      <th>75%</th>\n",
       "      <td>1975.750000</td>\n",
       "      <td>65.200000</td>\n",
       "    </tr>\n",
       "    <tr>\n",
       "      <th>max</th>\n",
       "      <td>2004.000000</td>\n",
       "      <td>95.000000</td>\n",
       "    </tr>\n",
       "  </tbody>\n",
       "</table>\n",
       "</div>"
      ],
      "text/plain": [
       "              year       time\n",
       "count    62.000000  62.000000\n",
       "mean   1952.145161  59.924194\n",
       "std      29.472881   9.916588\n",
       "min    1905.000000  47.840000\n",
       "25%    1924.500000  53.642500\n",
       "50%    1956.500000  56.880000\n",
       "75%    1975.750000  65.200000\n",
       "max    2004.000000  95.000000"
      ]
     },
     "execution_count": 238,
     "metadata": {},
     "output_type": "execute_result"
    }
   ],
   "source": [
    "data.describe()  # the output from describe() is itself a data frame."
   ]
  },
  {
   "cell_type": "markdown",
   "metadata": {},
   "source": [
    "### Reading from the clipboard\n",
    "\n",
    "We can also read data directly from the clipboard."
   ]
  },
  {
   "cell_type": "code",
   "execution_count": 3,
   "metadata": {},
   "outputs": [
    {
     "data": {
      "text/plain": [
       "(7, 3)"
      ]
     },
     "execution_count": 3,
     "metadata": {},
     "output_type": "execute_result"
    }
   ],
   "source": [
    "# we can select a part of a DataFrame of this page to build a new one.\n",
    "\n",
    "import pandas as pd\n",
    "import numpy as np\n",
    "import matplotlib.pyplot as plt\n",
    "bedford = pd.read_clipboard()\n",
    "bedford.head()\n",
    "bedford.shape"
   ]
  },
  {
   "cell_type": "markdown",
   "metadata": {},
   "source": [
    "### Reading from APIs\n",
    "\n",
    "We can read online data from public API's such as http://www.citybik.es/"
   ]
  },
  {
   "cell_type": "code",
   "execution_count": 240,
   "metadata": {},
   "outputs": [
    {
     "name": "stdout",
     "output_type": "stream",
     "text": [
      "<class 'pandas.core.frame.DataFrame'>\n",
      "Int64Index: 466 entries, 0 to 465\n",
      "Data columns (total 9 columns):\n",
      "bikes        466 non-null int64\n",
      "free         466 non-null int64\n",
      "id           466 non-null int64\n",
      "idx          466 non-null int64\n",
      "lat          466 non-null int64\n",
      "lng          466 non-null int64\n",
      "name         466 non-null object\n",
      "number       466 non-null int64\n",
      "timestamp    466 non-null object\n",
      "dtypes: int64(7), object(2)\n",
      "memory usage: 36.4+ KB\n"
     ]
    }
   ],
   "source": [
    "import pandas as pd\n",
    "import seaborn as sn\n",
    "d = pd.read_json('http://api.citybik.es/bicing.json')   \n",
    "d.info()"
   ]
  },
  {
   "cell_type": "code",
   "execution_count": 241,
   "metadata": {},
   "outputs": [
    {
     "data": {
      "text/html": [
       "<div>\n",
       "<table border=\"1\" class=\"dataframe\">\n",
       "  <thead>\n",
       "    <tr style=\"text-align: right;\">\n",
       "      <th></th>\n",
       "      <th>bikes</th>\n",
       "      <th>free</th>\n",
       "      <th>id</th>\n",
       "      <th>idx</th>\n",
       "      <th>lat</th>\n",
       "      <th>lng</th>\n",
       "      <th>name</th>\n",
       "      <th>number</th>\n",
       "      <th>timestamp</th>\n",
       "    </tr>\n",
       "  </thead>\n",
       "  <tbody>\n",
       "    <tr>\n",
       "      <th>461</th>\n",
       "      <td>0</td>\n",
       "      <td>24</td>\n",
       "      <td>461</td>\n",
       "      <td>461</td>\n",
       "      <td>41394232</td>\n",
       "      <td>2175278</td>\n",
       "      <td>492 - PL. TETUAN</td>\n",
       "      <td>492</td>\n",
       "      <td>2015-09-07T00:37:18.095Z</td>\n",
       "    </tr>\n",
       "    <tr>\n",
       "      <th>462</th>\n",
       "      <td>0</td>\n",
       "      <td>24</td>\n",
       "      <td>462</td>\n",
       "      <td>462</td>\n",
       "      <td>41381860</td>\n",
       "      <td>2177086</td>\n",
       "      <td>493 - PL. SANT MIQUEL, 4</td>\n",
       "      <td>493</td>\n",
       "      <td>2015-09-07T00:37:18.115Z</td>\n",
       "    </tr>\n",
       "    <tr>\n",
       "      <th>463</th>\n",
       "      <td>0</td>\n",
       "      <td>24</td>\n",
       "      <td>463</td>\n",
       "      <td>463</td>\n",
       "      <td>41389481</td>\n",
       "      <td>2165357</td>\n",
       "      <td>494 - RAMBLA CATALUNYA/DIPUTACIO</td>\n",
       "      <td>494</td>\n",
       "      <td>2015-09-07T00:37:18.136Z</td>\n",
       "    </tr>\n",
       "    <tr>\n",
       "      <th>464</th>\n",
       "      <td>0</td>\n",
       "      <td>24</td>\n",
       "      <td>464</td>\n",
       "      <td>464</td>\n",
       "      <td>41377191</td>\n",
       "      <td>2149283</td>\n",
       "      <td>495 - C/ DIPUTACIÓ - TARRAGONA</td>\n",
       "      <td>495</td>\n",
       "      <td>2015-09-07T00:37:18.157Z</td>\n",
       "    </tr>\n",
       "    <tr>\n",
       "      <th>465</th>\n",
       "      <td>4</td>\n",
       "      <td>20</td>\n",
       "      <td>465</td>\n",
       "      <td>465</td>\n",
       "      <td>41404871</td>\n",
       "      <td>2175141</td>\n",
       "      <td>496 - C/ DE PROVENÇA, 445</td>\n",
       "      <td>496</td>\n",
       "      <td>2015-09-07T00:37:18.178Z</td>\n",
       "    </tr>\n",
       "  </tbody>\n",
       "</table>\n",
       "</div>"
      ],
      "text/plain": [
       "     bikes  free   id  idx       lat      lng  \\\n",
       "461      0    24  461  461  41394232  2175278   \n",
       "462      0    24  462  462  41381860  2177086   \n",
       "463      0    24  463  463  41389481  2165357   \n",
       "464      0    24  464  464  41377191  2149283   \n",
       "465      4    20  465  465  41404871  2175141   \n",
       "\n",
       "                                 name  number                 timestamp  \n",
       "461                  492 - PL. TETUAN     492  2015-09-07T00:37:18.095Z  \n",
       "462         493 - PL. SANT MIQUEL, 4      493  2015-09-07T00:37:18.115Z  \n",
       "463  494 - RAMBLA CATALUNYA/DIPUTACIO     494  2015-09-07T00:37:18.136Z  \n",
       "464    495 - C/ DIPUTACIÓ - TARRAGONA     495  2015-09-07T00:37:18.157Z  \n",
       "465        496 - C/ DE PROVENÇA, 445      496  2015-09-07T00:37:18.178Z  "
      ]
     },
     "execution_count": 241,
     "metadata": {},
     "output_type": "execute_result"
    }
   ],
   "source": [
    "d.tail()"
   ]
  },
  {
   "cell_type": "code",
   "execution_count": 242,
   "metadata": {},
   "outputs": [
    {
     "data": {
      "image/png": "[encoded data removed]",
      "text/plain": [
       "<matplotlib.figure.Figure at 0x7f5e7b5cb5d0>"
      ]
     },
     "metadata": {},
     "output_type": "display_data"
    }
   ],
   "source": [
    "%matplotlib inline\n",
    "import matplotlib.pylab as plt\n",
    "a = plt.hist(d.bikes, bins=10)"
   ]
  },
  {
   "cell_type": "markdown",
   "metadata": {},
   "source": [
    "### ‘pandas’ methods and ‘numpy’ operators and other functions.\n",
    "\n",
    "There are a lot of methods that can be applied to data:"
   ]
  },
  {
   "cell_type": "code",
   "execution_count": 243,
   "metadata": {},
   "outputs": [
    {
     "data": {
      "text/plain": [
       "0     1905\n",
       "1     1908\n",
       "2     1910\n",
       "3     1912\n",
       "4     1918\n",
       "5     1920\n",
       "6     1922\n",
       "7     1924\n",
       "8     1934\n",
       "9     1935\n",
       "      ... \n",
       "52    1973\n",
       "53    1974\n",
       "54    1976\n",
       "55    1978\n",
       "56    1980\n",
       "57    1986\n",
       "58    1992\n",
       "59    1994\n",
       "60    2000\n",
       "61    2004\n",
       "Name: year, dtype: int64"
      ]
     },
     "execution_count": 243,
     "metadata": {},
     "output_type": "execute_result"
    }
   ],
   "source": [
    "data['year']"
   ]
  },
  {
   "cell_type": "code",
   "execution_count": 244,
   "metadata": {},
   "outputs": [
    {
     "name": "stdout",
     "output_type": "stream",
     "text": [
      "62\n",
      "1952.14516129\n",
      "0\n",
      "1905\n",
      "121033\n"
     ]
    }
   ],
   "source": [
    "print data.year.count()    # number of non-NaN values\n",
    "print data.year.mean()     # mean value \n",
    "print data.year.argmin()   # index location at which min is obtained\n",
    "print data.year.min()      # min value\n",
    "print data.year.sum()   # sum of values"
   ]
  },
  {
   "cell_type": "markdown",
   "metadata": {},
   "source": [
    "It is also possible to combine ‘numpy’ operators with ‘pandas’ variables:"
   ]
  },
  {
   "cell_type": "code",
   "execution_count": 245,
   "metadata": {},
   "outputs": [
    {
     "data": {
      "text/plain": [
       "1905"
      ]
     },
     "execution_count": 245,
     "metadata": {},
     "output_type": "execute_result"
    }
   ],
   "source": [
    "np.min(data[\"year\"])"
   ]
  },
  {
   "cell_type": "markdown",
   "metadata": {},
   "source": [
    "When you encounter a function that isn’t supported by data frames, you can use ‘numpy’ functions or the special <code>apply</code> function built-into data frames.\n",
    "\n",
    "Using the ``apply()``method, which takes an anonymous function, we can apply any function to each value in a column."
   ]
  },
  {
   "cell_type": "code",
   "execution_count": 246,
   "metadata": {},
   "outputs": [
    {
     "data": {
      "text/html": [
       "<div>\n",
       "<table border=\"1\" class=\"dataframe\">\n",
       "  <thead>\n",
       "    <tr style=\"text-align: right;\">\n",
       "      <th></th>\n",
       "      <th>VarA</th>\n",
       "      <th>VarB</th>\n",
       "    </tr>\n",
       "  </thead>\n",
       "  <tbody>\n",
       "    <tr>\n",
       "      <th>Case1</th>\n",
       "      <td>aa</td>\n",
       "      <td>400</td>\n",
       "    </tr>\n",
       "    <tr>\n",
       "      <th>Case2</th>\n",
       "      <td>bb</td>\n",
       "      <td>900</td>\n",
       "    </tr>\n",
       "  </tbody>\n",
       "</table>\n",
       "</div>"
      ],
      "text/plain": [
       "      VarA  VarB\n",
       "Case1   aa   400\n",
       "Case2   bb   900"
      ]
     },
     "execution_count": 246,
     "metadata": {},
     "output_type": "execute_result"
    }
   ],
   "source": [
    "c = pd.DataFrame({'VarA':['aa','bb'], 'VarB':[20,30]}, index = ['Case1','Case2'])\n",
    "\n",
    "def f(a):\n",
    "    return a**2\n",
    "\n",
    "c.VarB = c.VarB.apply(lambda d: f(d))\n",
    "c"
   ]
  },
  {
   "cell_type": "code",
   "execution_count": 247,
   "metadata": {},
   "outputs": [
    {
     "data": {
      "text/plain": [
       "0    43.646306\n",
       "1    43.680659\n",
       "2    43.703547\n",
       "3    43.726422\n",
       "4    43.794977\n",
       "5    43.817805\n",
       "6    43.840620\n",
       "7    43.863424\n",
       "8    43.977267\n",
       "9    43.988635\n",
       "Name: year, dtype: float64"
      ]
     },
     "execution_count": 247,
     "metadata": {},
     "output_type": "execute_result"
    }
   ],
   "source": [
    "data.year.apply(np.sqrt).head(10) "
   ]
  },
  {
   "cell_type": "markdown",
   "metadata": {},
   "source": [
    "Alternatively, since columns are basically just arrays, we can use built-in numpy functions directly on the columns:"
   ]
  },
  {
   "cell_type": "code",
   "execution_count": 248,
   "metadata": {},
   "outputs": [
    {
     "data": {
      "text/plain": [
       "0    43.646306\n",
       "1    43.680659\n",
       "2    43.703547\n",
       "3    43.726422\n",
       "4    43.794977\n",
       "Name: year, dtype: float64"
      ]
     },
     "execution_count": 248,
     "metadata": {},
     "output_type": "execute_result"
    }
   ],
   "source": [
    "np.sqrt(data.year).head()"
   ]
  },
  {
   "cell_type": "markdown",
   "metadata": {},
   "source": [
    "### Aggregating\n",
    "\n",
    "<code>groupby</code> is the ‘pandas’ way of grouping or aggregating data frames by columns.\n",
    "\n",
    "You can construct statements that involve more than one column within a data frame. \n",
    "\n",
    "For instance, here’s a calculation of the mean year, separately for (grouping by) the different sexes:"
   ]
  },
  {
   "cell_type": "code",
   "execution_count": 249,
   "metadata": {},
   "outputs": [
    {
     "data": {
      "text/plain": [
       "sex\n",
       "F    1950.677419\n",
       "M    1953.612903\n",
       "Name: year, dtype: float64"
      ]
     },
     "execution_count": 249,
     "metadata": {},
     "output_type": "execute_result"
    }
   ],
   "source": [
    "data.groupby('sex')['year'].mean()"
   ]
  },
  {
   "cell_type": "code",
   "execution_count": 250,
   "metadata": {},
   "outputs": [
    {
     "data": {
      "text/plain": [
       "sex  year\n",
       "M    1936    56.40\n",
       "     1944    55.90\n",
       "     1947    55.80\n",
       "     1948    55.40\n",
       "     1955    54.80\n",
       "     1957    54.60\n",
       "     1961    53.60\n",
       "     1964    52.90\n",
       "     1967    52.60\n",
       "     1968    52.20\n",
       "     1970    51.90\n",
       "     1972    51.22\n",
       "     1975    50.59\n",
       "     1976    49.44\n",
       "     1981    49.36\n",
       "     1985    49.24\n",
       "     1986    48.74\n",
       "     1988    48.42\n",
       "     1994    48.21\n",
       "     2000    48.01\n",
       "Name: time, dtype: float64"
      ]
     },
     "execution_count": 250,
     "metadata": {},
     "output_type": "execute_result"
    }
   ],
   "source": [
    "res = data.groupby(['sex','year'])['time'].mean()\n",
    "res.tail(20)"
   ]
  },
  {
   "cell_type": "markdown",
   "metadata": {},
   "source": [
    "You can iterate through the result of a ``groupby`` (that returns a tuple). The first item is the column values and the second is a filtered dataframe. "
   ]
  },
  {
   "cell_type": "code",
   "execution_count": 251,
   "metadata": {},
   "outputs": [
    {
     "data": {
      "text/html": [
       "<div>\n",
       "<table border=\"1\" class=\"dataframe\">\n",
       "  <thead>\n",
       "    <tr style=\"text-align: right;\">\n",
       "      <th></th>\n",
       "      <th>year</th>\n",
       "      <th>time</th>\n",
       "      <th>sex</th>\n",
       "    </tr>\n",
       "  </thead>\n",
       "  <tbody>\n",
       "    <tr>\n",
       "      <th>0</th>\n",
       "      <td>1905</td>\n",
       "      <td>65.8</td>\n",
       "      <td>M</td>\n",
       "    </tr>\n",
       "    <tr>\n",
       "      <th>1</th>\n",
       "      <td>1908</td>\n",
       "      <td>65.6</td>\n",
       "      <td>M</td>\n",
       "    </tr>\n",
       "    <tr>\n",
       "      <th>2</th>\n",
       "      <td>1910</td>\n",
       "      <td>62.8</td>\n",
       "      <td>M</td>\n",
       "    </tr>\n",
       "    <tr>\n",
       "      <th>3</th>\n",
       "      <td>1912</td>\n",
       "      <td>61.6</td>\n",
       "      <td>M</td>\n",
       "    </tr>\n",
       "    <tr>\n",
       "      <th>4</th>\n",
       "      <td>1918</td>\n",
       "      <td>61.4</td>\n",
       "      <td>M</td>\n",
       "    </tr>\n",
       "  </tbody>\n",
       "</table>\n",
       "</div>"
      ],
      "text/plain": [
       "   year  time sex\n",
       "0  1905  65.8   M\n",
       "1  1908  65.6   M\n",
       "2  1910  62.8   M\n",
       "3  1912  61.6   M\n",
       "4  1918  61.4   M"
      ]
     },
     "execution_count": 251,
     "metadata": {},
     "output_type": "execute_result"
    }
   ],
   "source": [
    "data.head()"
   ]
  },
  {
   "cell_type": "code",
   "execution_count": 252,
   "metadata": {},
   "outputs": [
    {
     "name": "stdout",
     "output_type": "stream",
     "text": [
      "{'M': year    1953.612903\n",
      "time      54.656129\n",
      "dtype: float64, 'F': year    1950.677419\n",
      "time      65.192258\n",
      "dtype: float64}\n"
     ]
    }
   ],
   "source": [
    "dic = {}\n",
    "for i,j in data.groupby('sex'):\n",
    "    dic[i] = j.mean()\n",
    "    \n",
    "print dic,"
   ]
  },
  {
   "cell_type": "markdown",
   "metadata": {},
   "source": [
    "You can group by more than one column as well: the first tuple item will itself be a tuple with the value of each column."
   ]
  },
  {
   "cell_type": "code",
   "execution_count": 253,
   "metadata": {},
   "outputs": [
    {
     "data": {
      "text/html": [
       "<div>\n",
       "<table border=\"1\" class=\"dataframe\">\n",
       "  <thead>\n",
       "    <tr style=\"text-align: right;\">\n",
       "      <th></th>\n",
       "      <th>mpg</th>\n",
       "      <th>cylinders</th>\n",
       "      <th>displacement</th>\n",
       "      <th>horsepower</th>\n",
       "      <th>weight</th>\n",
       "      <th>acceleration</th>\n",
       "      <th>year</th>\n",
       "      <th>origin</th>\n",
       "      <th>name</th>\n",
       "    </tr>\n",
       "  </thead>\n",
       "  <tbody>\n",
       "    <tr>\n",
       "      <th>0</th>\n",
       "      <td>18</td>\n",
       "      <td>8</td>\n",
       "      <td>307</td>\n",
       "      <td>130</td>\n",
       "      <td>3504</td>\n",
       "      <td>12.0</td>\n",
       "      <td>70</td>\n",
       "      <td>1</td>\n",
       "      <td>chevrolet chevelle malibu</td>\n",
       "    </tr>\n",
       "    <tr>\n",
       "      <th>1</th>\n",
       "      <td>15</td>\n",
       "      <td>8</td>\n",
       "      <td>350</td>\n",
       "      <td>165</td>\n",
       "      <td>3693</td>\n",
       "      <td>11.5</td>\n",
       "      <td>70</td>\n",
       "      <td>1</td>\n",
       "      <td>buick skylark 320</td>\n",
       "    </tr>\n",
       "    <tr>\n",
       "      <th>2</th>\n",
       "      <td>18</td>\n",
       "      <td>8</td>\n",
       "      <td>318</td>\n",
       "      <td>150</td>\n",
       "      <td>3436</td>\n",
       "      <td>11.0</td>\n",
       "      <td>70</td>\n",
       "      <td>1</td>\n",
       "      <td>plymouth satellite</td>\n",
       "    </tr>\n",
       "    <tr>\n",
       "      <th>3</th>\n",
       "      <td>16</td>\n",
       "      <td>8</td>\n",
       "      <td>304</td>\n",
       "      <td>150</td>\n",
       "      <td>3433</td>\n",
       "      <td>12.0</td>\n",
       "      <td>70</td>\n",
       "      <td>1</td>\n",
       "      <td>amc rebel sst</td>\n",
       "    </tr>\n",
       "    <tr>\n",
       "      <th>4</th>\n",
       "      <td>17</td>\n",
       "      <td>8</td>\n",
       "      <td>302</td>\n",
       "      <td>140</td>\n",
       "      <td>3449</td>\n",
       "      <td>10.5</td>\n",
       "      <td>70</td>\n",
       "      <td>1</td>\n",
       "      <td>ford torino</td>\n",
       "    </tr>\n",
       "  </tbody>\n",
       "</table>\n",
       "</div>"
      ],
      "text/plain": [
       "   mpg  cylinders  displacement horsepower  weight  acceleration  year  \\\n",
       "0   18          8           307        130    3504          12.0    70   \n",
       "1   15          8           350        165    3693          11.5    70   \n",
       "2   18          8           318        150    3436          11.0    70   \n",
       "3   16          8           304        150    3433          12.0    70   \n",
       "4   17          8           302        140    3449          10.5    70   \n",
       "\n",
       "   origin                       name  \n",
       "0       1  chevrolet chevelle malibu  \n",
       "1       1          buick skylark 320  \n",
       "2       1         plymouth satellite  \n",
       "3       1              amc rebel sst  \n",
       "4       1                ford torino  "
      ]
     },
     "execution_count": 253,
     "metadata": {},
     "output_type": "execute_result"
    }
   ],
   "source": [
    "auto.head()"
   ]
  },
  {
   "cell_type": "code",
   "execution_count": 254,
   "metadata": {},
   "outputs": [
    {
     "data": {
      "text/plain": [
       "{('100', 3): mpg               23.7\n",
       " cylinders          3.0\n",
       " displacement      70.0\n",
       " weight          2420.0\n",
       " acceleration      12.5\n",
       " year              80.0\n",
       " origin             3.0\n",
       " dtype: float64, ('100', 4): mpg               32.9\n",
       " cylinders          4.0\n",
       " displacement     119.0\n",
       " weight          2615.0\n",
       " acceleration      14.8\n",
       " year              81.0\n",
       " origin             3.0\n",
       " dtype: float64, ('100', 6): mpg               18.433333\n",
       " cylinders          6.000000\n",
       " displacement     236.133333\n",
       " weight          3228.066667\n",
       " acceleration      16.133333\n",
       " year              73.800000\n",
       " origin             1.000000\n",
       " dtype: float64, ('102', 4): mpg               20.0\n",
       " cylinders          4.0\n",
       " displacement     130.0\n",
       " weight          3150.0\n",
       " acceleration      15.7\n",
       " year              76.0\n",
       " origin             2.0\n",
       " dtype: float64, ('103', 5): mpg               20.3\n",
       " cylinders          5.0\n",
       " displacement     131.0\n",
       " weight          2830.0\n",
       " acceleration      15.9\n",
       " year              78.0\n",
       " origin             2.0\n",
       " dtype: float64, ('105', 4): mpg               25.55\n",
       " cylinders          4.00\n",
       " displacement     156.00\n",
       " weight          2772.50\n",
       " acceleration      15.55\n",
       " year              79.00\n",
       " origin             1.00\n",
       " dtype: float64, ('105', 6): mpg               18.700000\n",
       " cylinders          6.000000\n",
       " displacement     235.333333\n",
       " weight          3469.111111\n",
       " acceleration      16.600000\n",
       " year              75.222222\n",
       " origin             1.000000\n",
       " dtype: float64, ('105', 8): mpg               26.6\n",
       " cylinders          8.0\n",
       " displacement     350.0\n",
       " weight          3725.0\n",
       " acceleration      19.0\n",
       " year              81.0\n",
       " origin             1.0\n",
       " dtype: float64, ('107', 6): mpg               21\n",
       " cylinders          6\n",
       " displacement     155\n",
       " weight          2472\n",
       " acceleration      14\n",
       " year              73\n",
       " origin             1\n",
       " dtype: float64, ('108', 6): mpg               19.0\n",
       " cylinders          6.0\n",
       " displacement     156.0\n",
       " weight          2930.0\n",
       " acceleration      15.5\n",
       " year              76.0\n",
       " origin             3.0\n",
       " dtype: float64, ('110', 3): mpg               21.5\n",
       " cylinders          3.0\n",
       " displacement      80.0\n",
       " weight          2720.0\n",
       " acceleration      13.5\n",
       " year              77.0\n",
       " origin             3.0\n",
       " dtype: float64, ('110', 4): mpg               22.75\n",
       " cylinders          4.00\n",
       " displacement     121.00\n",
       " weight          2630.00\n",
       " acceleration      13.40\n",
       " year              75.00\n",
       " origin             2.00\n",
       " dtype: float64, ('110', 6): mpg               19.425000\n",
       " cylinders          6.000000\n",
       " displacement     230.916667\n",
       " weight          3375.000000\n",
       " acceleration      16.600000\n",
       " year              77.000000\n",
       " origin             1.000000\n",
       " dtype: float64, ('110', 8): mpg               18.966667\n",
       " cylinders          8.000000\n",
       " displacement     260.666667\n",
       " weight          3548.666667\n",
       " acceleration      16.000000\n",
       " year              76.666667\n",
       " origin             1.000000\n",
       " dtype: float64, ('112', 4): mpg               18.5\n",
       " cylinders          4.0\n",
       " displacement     121.0\n",
       " weight          2900.5\n",
       " acceleration      15.0\n",
       " year              72.5\n",
       " origin             2.0\n",
       " dtype: float64, ('112', 6): mpg               22.0\n",
       " cylinders          6.0\n",
       " displacement     232.0\n",
       " weight          2835.0\n",
       " acceleration      14.7\n",
       " year              82.0\n",
       " origin             1.0\n",
       " dtype: float64, ('113', 4): mpg               26.0\n",
       " cylinders          4.0\n",
       " displacement     121.0\n",
       " weight          2234.0\n",
       " acceleration      12.5\n",
       " year              70.0\n",
       " origin             2.0\n",
       " dtype: float64, ('115', 4): mpg               23.3\n",
       " cylinders          4.0\n",
       " displacement     121.0\n",
       " weight          2733.0\n",
       " acceleration      14.6\n",
       " year              76.5\n",
       " origin             2.0\n",
       " dtype: float64, ('115', 6): mpg               25.700000\n",
       " cylinders          6.000000\n",
       " displacement     192.333333\n",
       " weight          2846.666667\n",
       " acceleration      13.200000\n",
       " year              79.000000\n",
       " origin             1.000000\n",
       " dtype: float64, ('116', 6): mpg               25.4\n",
       " cylinders          6.0\n",
       " displacement     168.0\n",
       " weight          2900.0\n",
       " acceleration      12.6\n",
       " year              81.0\n",
       " origin             3.0\n",
       " dtype: float64, ('120', 6): mpg               19.600000\n",
       " cylinders          6.000000\n",
       " displacement     190.666667\n",
       " weight          3386.666667\n",
       " acceleration      15.200000\n",
       " year              78.333333\n",
       " origin             2.000000\n",
       " dtype: float64, ('120', 8): mpg               15.5\n",
       " cylinders          8.0\n",
       " displacement     304.0\n",
       " weight          3962.0\n",
       " acceleration      13.9\n",
       " year              76.0\n",
       " origin             1.0\n",
       " dtype: float64, ('122', 6): mpg               20.0\n",
       " cylinders          6.0\n",
       " displacement     156.0\n",
       " weight          2807.0\n",
       " acceleration      13.5\n",
       " year              73.0\n",
       " origin             3.0\n",
       " dtype: float64, ('125', 6): mpg               17.0\n",
       " cylinders          6.0\n",
       " displacement     163.0\n",
       " weight          3140.0\n",
       " acceleration      13.6\n",
       " year              78.0\n",
       " origin             2.0\n",
       " dtype: float64, ('125', 8): mpg               21.1\n",
       " cylinders          8.0\n",
       " displacement     308.5\n",
       " weight          3752.5\n",
       " acceleration      16.2\n",
       " year              79.0\n",
       " origin             1.0\n",
       " dtype: float64, ('129', 8): mpg               15.3\n",
       " cylinders          8.0\n",
       " displacement     302.0\n",
       " weight          3447.0\n",
       " acceleration      12.7\n",
       " year              77.0\n",
       " origin             1.0\n",
       " dtype: float64, ('130', 8): mpg               15.20\n",
       " cylinders          8.00\n",
       " displacement     304.60\n",
       " weight          3921.40\n",
       " acceleration      14.26\n",
       " year              74.80\n",
       " origin             1.00\n",
       " dtype: float64, ('132', 6): mpg               32.7\n",
       " cylinders          6.0\n",
       " displacement     168.0\n",
       " weight          2910.0\n",
       " acceleration      11.4\n",
       " year              80.0\n",
       " origin             3.0\n",
       " dtype: float64, ('133', 6): mpg               16.2\n",
       " cylinders          6.0\n",
       " displacement     163.0\n",
       " weight          3410.0\n",
       " acceleration      15.8\n",
       " year              78.0\n",
       " origin             2.0\n",
       " dtype: float64, ('135', 8): mpg               18.2\n",
       " cylinders          8.0\n",
       " displacement     318.0\n",
       " weight          3830.0\n",
       " acceleration      15.2\n",
       " year              79.0\n",
       " origin             1.0\n",
       " dtype: float64, ('137', 8): mpg               14.0\n",
       " cylinders          8.0\n",
       " displacement     302.0\n",
       " weight          4042.0\n",
       " acceleration      14.5\n",
       " year              73.0\n",
       " origin             1.0\n",
       " dtype: float64, ('138', 8): mpg               16.5\n",
       " cylinders          8.0\n",
       " displacement     351.0\n",
       " weight          3955.0\n",
       " acceleration      13.2\n",
       " year              79.0\n",
       " origin             1.0\n",
       " dtype: float64, ('139', 8): mpg               19.15\n",
       " cylinders          8.00\n",
       " displacement     302.00\n",
       " weight          3387.50\n",
       " acceleration      12.00\n",
       " year              78.00\n",
       " origin             1.00\n",
       " dtype: float64, ('140', 8): mpg               16.342857\n",
       " cylinders          8.000000\n",
       " displacement     307.000000\n",
       " weight          4078.857143\n",
       " acceleration      13.771429\n",
       " year              74.571429\n",
       " origin             1.000000\n",
       " dtype: float64, ('142', 8): mpg               15.5\n",
       " cylinders          8.0\n",
       " displacement     351.0\n",
       " weight          4054.0\n",
       " acceleration      14.3\n",
       " year              79.0\n",
       " origin             1.0\n",
       " dtype: float64, ('145', 8): mpg               15.457143\n",
       " cylinders          8.000000\n",
       " displacement     332.571429\n",
       " weight          4001.428571\n",
       " acceleration      13.057143\n",
       " year              75.571429\n",
       " origin             1.000000\n",
       " dtype: float64, ('148', 8): mpg               14.0\n",
       " cylinders          8.0\n",
       " displacement     351.0\n",
       " weight          4657.0\n",
       " acceleration      13.5\n",
       " year              75.0\n",
       " origin             1.0\n",
       " dtype: float64, ('149', 8): mpg               16.0\n",
       " cylinders          8.0\n",
       " displacement     351.0\n",
       " weight          4335.0\n",
       " acceleration      14.5\n",
       " year              77.0\n",
       " origin             1.0\n",
       " dtype: float64, ('150', 8): mpg               14.704545\n",
       " cylinders          8.000000\n",
       " displacement     329.363636\n",
       " weight          4035.636364\n",
       " acceleration      12.895455\n",
       " year              73.227273\n",
       " origin             1.000000\n",
       " dtype: float64, ('152', 8): mpg               14.5\n",
       " cylinders          8.0\n",
       " displacement     351.0\n",
       " weight          4215.0\n",
       " acceleration      12.8\n",
       " year              76.0\n",
       " origin             1.0\n",
       " dtype: float64, ('153', 8): mpg               14.00\n",
       " cylinders          8.00\n",
       " displacement     351.00\n",
       " weight          4141.50\n",
       " acceleration      13.25\n",
       " year              71.50\n",
       " origin             1.00\n",
       " dtype: float64, ('155', 8): mpg               14.95\n",
       " cylinders          8.00\n",
       " displacement     350.00\n",
       " weight          4431.00\n",
       " acceleration      14.20\n",
       " year              75.50\n",
       " origin             1.00\n",
       " dtype: float64, ('158', 8): mpg               13\n",
       " cylinders          8\n",
       " displacement     351\n",
       " weight          4363\n",
       " acceleration      13\n",
       " year              73\n",
       " origin             1\n",
       " dtype: float64, ('160', 8): mpg               13.00\n",
       " cylinders          8.00\n",
       " displacement     345.00\n",
       " weight          4032.50\n",
       " acceleration      10.75\n",
       " year              71.00\n",
       " origin             1.00\n",
       " dtype: float64, ('165', 6): mpg               17.7\n",
       " cylinders          6.0\n",
       " displacement     231.0\n",
       " weight          3445.0\n",
       " acceleration      13.4\n",
       " year              78.0\n",
       " origin             1.0\n",
       " dtype: float64, ('165', 8): mpg               14.000000\n",
       " cylinders          8.000000\n",
       " displacement     350.000000\n",
       " weight          4058.666667\n",
       " acceleration      11.833333\n",
       " year              71.000000\n",
       " origin             1.000000\n",
       " dtype: float64, ('167', 8): mpg               12.0\n",
       " cylinders          8.0\n",
       " displacement     400.0\n",
       " weight          4906.0\n",
       " acceleration      12.5\n",
       " year              73.0\n",
       " origin             1.0\n",
       " dtype: float64, ('170', 8): mpg               14.50\n",
       " cylinders          8.00\n",
       " displacement     378.60\n",
       " weight          4359.20\n",
       " acceleration      11.58\n",
       " year              73.20\n",
       " origin             1.00\n",
       " dtype: float64, ('175', 8): mpg               13.4\n",
       " cylinders          8.0\n",
       " displacement     382.0\n",
       " weight          4382.0\n",
       " acceleration      11.9\n",
       " year              72.0\n",
       " origin             1.0\n",
       " dtype: float64, ('180', 8): mpg               13.50\n",
       " cylinders          8.00\n",
       " displacement     366.60\n",
       " weight          4343.60\n",
       " acceleration      11.64\n",
       " year              74.00\n",
       " origin             1.00\n",
       " dtype: float64, ('190', 8): mpg               14.500000\n",
       " cylinders          8.000000\n",
       " displacement     396.666667\n",
       " weight          4199.000000\n",
       " acceleration      11.066667\n",
       " year              73.000000\n",
       " origin             1.000000\n",
       " dtype: float64, ('193', 8): mpg                9.0\n",
       " cylinders          8.0\n",
       " displacement     304.0\n",
       " weight          4732.0\n",
       " acceleration      18.5\n",
       " year              70.0\n",
       " origin             1.0\n",
       " dtype: float64, ('198', 8): mpg               13.50\n",
       " cylinders          8.00\n",
       " displacement     429.00\n",
       " weight          4646.50\n",
       " acceleration      10.75\n",
       " year              71.50\n",
       " origin             1.00\n",
       " dtype: float64, ('200', 8): mpg               10\n",
       " cylinders          8\n",
       " displacement     307\n",
       " weight          4376\n",
       " acceleration      15\n",
       " year              70\n",
       " origin             1\n",
       " dtype: float64, ('208', 8): mpg               11\n",
       " cylinders          8\n",
       " displacement     429\n",
       " weight          4633\n",
       " acceleration      11\n",
       " year              72\n",
       " origin             1\n",
       " dtype: float64, ('210', 8): mpg               11.0\n",
       " cylinders          8.0\n",
       " displacement     318.0\n",
       " weight          4382.0\n",
       " acceleration      13.5\n",
       " year              70.0\n",
       " origin             1.0\n",
       " dtype: float64, ('215', 8): mpg               12.333333\n",
       " cylinders          8.000000\n",
       " displacement     413.333333\n",
       " weight          4554.000000\n",
       " acceleration      11.166667\n",
       " year              71.000000\n",
       " origin             1.000000\n",
       " dtype: float64, ('220', 8): mpg               14\n",
       " cylinders          8\n",
       " displacement     454\n",
       " weight          4354\n",
       " acceleration       9\n",
       " year              70\n",
       " origin             1\n",
       " dtype: float64, ('225', 8): mpg               13.333333\n",
       " cylinders          8.000000\n",
       " displacement     455.000000\n",
       " weight          4154.000000\n",
       " acceleration      10.333333\n",
       " year              71.000000\n",
       " origin             1.000000\n",
       " dtype: float64, ('230', 8): mpg               16.0\n",
       " cylinders          8.0\n",
       " displacement     400.0\n",
       " weight          4278.0\n",
       " acceleration       9.5\n",
       " year              73.0\n",
       " origin             1.0\n",
       " dtype: float64, ('46', 4): mpg               26.00\n",
       " cylinders          4.00\n",
       " displacement      97.00\n",
       " weight          1892.50\n",
       " acceleration      20.75\n",
       " year              71.50\n",
       " origin             2.00\n",
       " dtype: float64, ('48', 4): mpg               43.600000\n",
       " cylinders          4.000000\n",
       " displacement      90.000000\n",
       " weight          2135.000000\n",
       " acceleration      22.300000\n",
       " year              79.333333\n",
       " origin             2.000000\n",
       " dtype: float64, ('49', 4): mpg               29.0\n",
       " cylinders          4.0\n",
       " displacement      68.0\n",
       " weight          1867.0\n",
       " acceleration      19.5\n",
       " year              73.0\n",
       " origin             2.0\n",
       " dtype: float64, ('52', 4): mpg               34.200\n",
       " cylinders          4.000\n",
       " displacement      84.000\n",
       " weight          1949.750\n",
       " acceleration      20.675\n",
       " year              77.500\n",
       " origin             2.250\n",
       " dtype: float64, ('53', 4): mpg               33.00\n",
       " cylinders          4.00\n",
       " displacement      91.00\n",
       " weight          1795.00\n",
       " acceleration      17.45\n",
       " year              75.50\n",
       " origin             3.00\n",
       " dtype: float64, ('54', 4): mpg               23.0\n",
       " cylinders          4.0\n",
       " displacement      97.0\n",
       " weight          2254.0\n",
       " acceleration      23.5\n",
       " year              72.0\n",
       " origin             2.0\n",
       " dtype: float64, ('58', 4): mpg               37.55\n",
       " cylinders          4.00\n",
       " displacement      79.00\n",
       " weight          1790.00\n",
       " acceleration      17.75\n",
       " year              79.00\n",
       " origin             2.50\n",
       " dtype: float64, ('60', 4): mpg               32.16\n",
       " cylinders          4.00\n",
       " displacement      91.20\n",
       " weight          1905.20\n",
       " acceleration      18.48\n",
       " year              77.20\n",
       " origin             2.40\n",
       " dtype: float64, ('61', 4): mpg               32\n",
       " cylinders          4\n",
       " displacement      83\n",
       " weight          2003\n",
       " acceleration      19\n",
       " year              74\n",
       " origin             3\n",
       " dtype: float64, ('62', 4): mpg               33.75\n",
       " cylinders          4.00\n",
       " displacement      89.00\n",
       " weight          1947.50\n",
       " acceleration      16.30\n",
       " year              80.50\n",
       " origin             2.50\n",
       " dtype: float64, ('63', 4): mpg               34.400000\n",
       " cylinders          4.000000\n",
       " displacement     102.666667\n",
       " weight          2130.333333\n",
       " acceleration      15.533333\n",
       " year              80.000000\n",
       " origin             1.000000\n",
       " dtype: float64, ('64', 4): mpg               39.0\n",
       " cylinders          4.0\n",
       " displacement      86.0\n",
       " weight          1875.0\n",
       " acceleration      16.4\n",
       " year              81.0\n",
       " origin             1.0\n",
       " dtype: float64, ('65', 4): mpg               35.48\n",
       " cylinders          4.00\n",
       " displacement      85.10\n",
       " weight          2024.30\n",
       " acceleration      18.42\n",
       " year              78.60\n",
       " origin             2.60\n",
       " dtype: float64, ('66', 4): mpg               36.1\n",
       " cylinders          4.0\n",
       " displacement      98.0\n",
       " weight          1800.0\n",
       " acceleration      14.4\n",
       " year              78.0\n",
       " origin             1.0\n",
       " dtype: float64, ('67', 4): mpg               33.336364\n",
       " cylinders          4.000000\n",
       " displacement      94.363636\n",
       " weight          2103.000000\n",
       " acceleration      16.836364\n",
       " year              78.727273\n",
       " origin             2.727273\n",
       " dtype: float64, ('67', 5): mpg               36.4\n",
       " cylinders          5.0\n",
       " displacement     121.0\n",
       " weight          2950.0\n",
       " acceleration      19.9\n",
       " year              80.0\n",
       " origin             2.0\n",
       " dtype: float64, ('68', 4): mpg               32.183333\n",
       " cylinders          4.000000\n",
       " displacement      94.500000\n",
       " weight          2052.500000\n",
       " acceleration      17.233333\n",
       " year              79.666667\n",
       " origin             2.666667\n",
       " dtype: float64, ('69', 4): mpg               32.766667\n",
       " cylinders          4.000000\n",
       " displacement      86.333333\n",
       " weight          1977.333333\n",
       " acceleration      16.900000\n",
       " year              74.000000\n",
       " origin             2.333333\n",
       " dtype: float64, ('70', 4): mpg               32.475000\n",
       " cylinders          4.000000\n",
       " displacement      93.250000\n",
       " weight          2062.333333\n",
       " acceleration      16.533333\n",
       " year              77.166667\n",
       " origin             1.916667\n",
       " dtype: float64, ('71', 4): mpg               29.02\n",
       " cylinders          4.00\n",
       " displacement     101.20\n",
       " weight          2230.60\n",
       " acceleration      16.48\n",
       " year              77.40\n",
       " origin             2.00\n",
       " dtype: float64, ('72', 4): mpg               25.475\n",
       " cylinders          4.000\n",
       " displacement     131.750\n",
       " weight          2416.000\n",
       " acceleration      17.275\n",
       " year              75.000\n",
       " origin             1.500\n",
       " dtype: float64, ('72', 6): mpg               15.00\n",
       " cylinders          6.00\n",
       " displacement     250.00\n",
       " weight          3295.00\n",
       " acceleration      20.25\n",
       " year              75.00\n",
       " origin             1.00\n",
       " dtype: float64, ('74', 4): mpg               33.533333\n",
       " cylinders          4.000000\n",
       " displacement     110.000000\n",
       " weight          2268.333333\n",
       " acceleration      15.933333\n",
       " year              81.333333\n",
       " origin             2.333333\n",
       " dtype: float64, ('75', 4): mpg               29.035714\n",
       " cylinders          4.000000\n",
       " displacement     107.000000\n",
       " weight          2255.142857\n",
       " acceleration      15.714286\n",
       " year              77.071429\n",
       " origin             2.357143\n",
       " dtype: float64, ('76', 4): mpg               31.166667\n",
       " cylinders          4.000000\n",
       " displacement     102.333333\n",
       " weight          2240.000000\n",
       " acceleration      15.733333\n",
       " year              74.333333\n",
       " origin             2.000000\n",
       " dtype: float64, ('76', 6): mpg               30.7\n",
       " cylinders          6.0\n",
       " displacement     145.0\n",
       " weight          3160.0\n",
       " acceleration      19.6\n",
       " year              81.0\n",
       " origin             2.0\n",
       " dtype: float64, ('77', 5): mpg               25.4\n",
       " cylinders          5.0\n",
       " displacement     183.0\n",
       " weight          3530.0\n",
       " acceleration      20.1\n",
       " year              79.0\n",
       " origin             2.0\n",
       " dtype: float64, ('78', 4): mpg               28.56\n",
       " cylinders          4.00\n",
       " displacement     105.60\n",
       " weight          2242.00\n",
       " acceleration      15.48\n",
       " year              76.60\n",
       " origin             1.80\n",
       " dtype: float64, ('78', 6): mpg               18\n",
       " cylinders          6\n",
       " displacement     250\n",
       " weight          3574\n",
       " acceleration      21\n",
       " year              76\n",
       " origin             1\n",
       " dtype: float64, ('79', 4): mpg               27.00\n",
       " cylinders          4.00\n",
       " displacement     109.00\n",
       " weight          2440.00\n",
       " acceleration      18.15\n",
       " year              79.00\n",
       " origin             1.00\n",
       " dtype: float64, ('80', 4): mpg               28.600000\n",
       " cylinders          4.000000\n",
       " displacement     112.642857\n",
       " weight          2387.285714\n",
       " acceleration      16.157143\n",
       " year              76.285714\n",
       " origin             1.142857\n",
       " dtype: float64, ('81', 4): mpg               25.0\n",
       " cylinders          4.0\n",
       " displacement     116.0\n",
       " weight          2220.0\n",
       " acceleration      16.9\n",
       " year              76.0\n",
       " origin             2.0\n",
       " dtype: float64, ('81', 6): mpg               24.0\n",
       " cylinders          6.0\n",
       " displacement     200.0\n",
       " weight          3012.0\n",
       " acceleration      17.6\n",
       " year              76.0\n",
       " origin             1.0\n",
       " dtype: float64, ('82', 4): mpg               31.0\n",
       " cylinders          4.0\n",
       " displacement     119.0\n",
       " weight          2720.0\n",
       " acceleration      19.4\n",
       " year              82.0\n",
       " origin             1.0\n",
       " dtype: float64, ('83', 4): mpg               28.125\n",
       " cylinders          4.000\n",
       " displacement     109.250\n",
       " weight          2283.750\n",
       " acceleration      16.175\n",
       " year              75.500\n",
       " origin             1.500\n",
       " dtype: float64, ('84', 4): mpg               30.133333\n",
       " cylinders          4.000000\n",
       " displacement     137.666667\n",
       " weight          2450.000000\n",
       " acceleration      14.266667\n",
       " year              81.500000\n",
       " origin             1.000000\n",
       " dtype: float64, ('85', 4): mpg               24.600000\n",
       " cylinders          4.000000\n",
       " displacement     128.333333\n",
       " weight          2580.000000\n",
       " acceleration      17.433333\n",
       " year              77.666667\n",
       " origin             1.000000\n",
       " dtype: float64, ('85', 6): mpg               22.900000\n",
       " cylinders          6.000000\n",
       " displacement     214.500000\n",
       " weight          3015.333333\n",
       " acceleration      16.716667\n",
       " year              78.000000\n",
       " origin             1.000000\n",
       " dtype: float64, ('86', 4): mpg               24.20\n",
       " cylinders          4.00\n",
       " displacement     122.60\n",
       " weight          2419.00\n",
       " acceleration      15.52\n",
       " year              74.60\n",
       " origin             1.20\n",
       " dtype: float64, ('87', 4): mpg               23.0\n",
       " cylinders          4.0\n",
       " displacement     115.0\n",
       " weight          2825.5\n",
       " acceleration      18.5\n",
       " year              71.0\n",
       " origin             2.0\n",
       " dtype: float64, ('88', 4): mpg               26.753333\n",
       " cylinders          4.000000\n",
       " displacement     118.466667\n",
       " weight          2559.066667\n",
       " acceleration      17.066667\n",
       " year              77.266667\n",
       " origin             1.866667\n",
       " dtype: float64, ('88', 6): mpg               18.8\n",
       " cylinders          6.0\n",
       " displacement     237.5\n",
       " weight          3130.5\n",
       " acceleration      15.9\n",
       " year              74.0\n",
       " origin             1.0\n",
       " dtype: float64, ('89', 4): mpg               25.5\n",
       " cylinders          4.0\n",
       " displacement     140.0\n",
       " weight          2755.0\n",
       " acceleration      15.8\n",
       " year              77.0\n",
       " origin             1.0\n",
       " dtype: float64, ('90', 3): mpg               18.0\n",
       " cylinders          3.0\n",
       " displacement      70.0\n",
       " weight          2124.0\n",
       " acceleration      13.5\n",
       " year              73.0\n",
       " origin             3.0\n",
       " dtype: float64, ('90', 4): mpg               27.000000\n",
       " cylinders          4.000000\n",
       " displacement     136.750000\n",
       " weight          2566.083333\n",
       " acceleration      16.300000\n",
       " year              76.583333\n",
       " origin             1.416667\n",
       " dtype: float64, ('90', 6): mpg               20.200000\n",
       " cylinders          6.000000\n",
       " displacement     225.333333\n",
       " weight          3133.333333\n",
       " acceleration      17.283333\n",
       " year              76.333333\n",
       " origin             1.000000\n",
       " dtype: float64, ('90', 8): mpg               23.9\n",
       " cylinders          8.0\n",
       " displacement     260.0\n",
       " weight          3420.0\n",
       " acceleration      22.2\n",
       " year              79.0\n",
       " origin             1.0\n",
       " dtype: float64, ('91', 4): mpg               20\n",
       " cylinders          4\n",
       " displacement     114\n",
       " weight          2582\n",
       " acceleration      14\n",
       " year              73\n",
       " origin             2\n",
       " dtype: float64, ('92', 4): mpg               27.633333\n",
       " cylinders          4.000000\n",
       " displacement     134.666667\n",
       " weight          2560.666667\n",
       " acceleration      15.366667\n",
       " year              78.833333\n",
       " origin             1.666667\n",
       " dtype: float64, ('93', 4): mpg               26.0\n",
       " cylinders          4.0\n",
       " displacement     108.0\n",
       " weight          2391.0\n",
       " acceleration      15.5\n",
       " year              74.0\n",
       " origin             3.0\n",
       " dtype: float64, ('94', 4): mpg               22.0\n",
       " cylinders          4.0\n",
       " displacement     108.0\n",
       " weight          2379.0\n",
       " acceleration      16.5\n",
       " year              73.0\n",
       " origin             3.0\n",
       " dtype: float64, ('95', 4): mpg               24.228571\n",
       " cylinders          4.000000\n",
       " displacement     118.000000\n",
       " weight          2431.714286\n",
       " acceleration      15.142857\n",
       " year              73.428571\n",
       " origin             2.714286\n",
       " dtype: float64, ('95', 6): mpg               20.000000\n",
       " cylinders          6.000000\n",
       " displacement     214.571429\n",
       " weight          3176.571429\n",
       " acceleration      17.000000\n",
       " year              74.428571\n",
       " origin             1.000000\n",
       " dtype: float64, ('96', 4): mpg               27.166667\n",
       " cylinders          4.000000\n",
       " displacement     133.333333\n",
       " weight          2555.666667\n",
       " acceleration      14.300000\n",
       " year              78.000000\n",
       " origin             2.333333\n",
       " dtype: float64, ('97', 3): mpg               19.0\n",
       " cylinders          3.0\n",
       " displacement      70.0\n",
       " weight          2330.0\n",
       " acceleration      13.5\n",
       " year              72.0\n",
       " origin             3.0\n",
       " dtype: float64, ('97', 4): mpg               24.42\n",
       " cylinders          4.00\n",
       " displacement     119.40\n",
       " weight          2449.00\n",
       " acceleration      15.22\n",
       " year              75.40\n",
       " origin             3.00\n",
       " dtype: float64, ('97', 6): mpg               19.333333\n",
       " cylinders          6.000000\n",
       " displacement     172.000000\n",
       " weight          2857.666667\n",
       " acceleration      14.833333\n",
       " year              74.000000\n",
       " origin             1.666667\n",
       " dtype: float64, ('98', 4): mpg               22.0\n",
       " cylinders          4.0\n",
       " displacement     121.0\n",
       " weight          2945.0\n",
       " acceleration      14.5\n",
       " year              75.0\n",
       " origin             2.0\n",
       " dtype: float64, ('98', 6): mpg               18.5\n",
       " cylinders          6.0\n",
       " displacement     250.0\n",
       " weight          3525.0\n",
       " acceleration      19.0\n",
       " year              77.0\n",
       " origin             1.0\n",
       " dtype: float64, ('?', 4): mpg               31.00\n",
       " cylinders          4.00\n",
       " displacement     105.75\n",
       " weight          2276.50\n",
       " acceleration      16.60\n",
       " year              78.00\n",
       " origin             1.50\n",
       " dtype: float64, ('?', 6): mpg               21\n",
       " cylinders          6\n",
       " displacement     200\n",
       " weight          2875\n",
       " acceleration      17\n",
       " year              74\n",
       " origin             1\n",
       " dtype: float64}"
      ]
     },
     "execution_count": 254,
     "metadata": {},
     "output_type": "execute_result"
    }
   ],
   "source": [
    "dic = {}\n",
    "for (i,j), k in auto.groupby(['horsepower','cylinders']):\n",
    "    dic[i,j] = k.mean()\n",
    "    \n",
    "dic"
   ]
  },
  {
   "cell_type": "markdown",
   "metadata": {},
   "source": [
    "### Adding variables\n",
    "\n",
    "Adding a new variable to a data frame can be done similarly to accessing a variable. For instance, here is how to create a new variable in <code>data</code> that holds the <code>time</code> converted from seconds to units of minutes:"
   ]
  },
  {
   "cell_type": "code",
   "execution_count": 255,
   "metadata": {},
   "outputs": [],
   "source": [
    "data['minutes'] = data.time/60. # or data['time']/60."
   ]
  },
  {
   "cell_type": "markdown",
   "metadata": {},
   "source": [
    "By default, columns get inserted at the end. \n",
    "\n",
    "The <code>insert</code> function is available to insert at a particular location in the columns."
   ]
  },
  {
   "cell_type": "code",
   "execution_count": 256,
   "metadata": {},
   "outputs": [],
   "source": [
    "data.insert(1, 'mins', data.time/60.)"
   ]
  },
  {
   "cell_type": "markdown",
   "metadata": {},
   "source": [
    "You could also, if you want, redeﬁne an existing variable, for instance:"
   ]
  },
  {
   "cell_type": "code",
   "execution_count": 257,
   "metadata": {},
   "outputs": [
    {
     "data": {
      "text/html": [
       "<div>\n",
       "<table border=\"1\" class=\"dataframe\">\n",
       "  <thead>\n",
       "    <tr style=\"text-align: right;\">\n",
       "      <th></th>\n",
       "      <th>year</th>\n",
       "      <th>mins</th>\n",
       "      <th>time</th>\n",
       "      <th>sex</th>\n",
       "      <th>minutes</th>\n",
       "    </tr>\n",
       "  </thead>\n",
       "  <tbody>\n",
       "    <tr>\n",
       "      <th>0</th>\n",
       "      <td>1905</td>\n",
       "      <td>1.096667</td>\n",
       "      <td>1.096667</td>\n",
       "      <td>M</td>\n",
       "      <td>1.096667</td>\n",
       "    </tr>\n",
       "    <tr>\n",
       "      <th>1</th>\n",
       "      <td>1908</td>\n",
       "      <td>1.093333</td>\n",
       "      <td>1.093333</td>\n",
       "      <td>M</td>\n",
       "      <td>1.093333</td>\n",
       "    </tr>\n",
       "    <tr>\n",
       "      <th>2</th>\n",
       "      <td>1910</td>\n",
       "      <td>1.046667</td>\n",
       "      <td>1.046667</td>\n",
       "      <td>M</td>\n",
       "      <td>1.046667</td>\n",
       "    </tr>\n",
       "    <tr>\n",
       "      <th>3</th>\n",
       "      <td>1912</td>\n",
       "      <td>1.026667</td>\n",
       "      <td>1.026667</td>\n",
       "      <td>M</td>\n",
       "      <td>1.026667</td>\n",
       "    </tr>\n",
       "    <tr>\n",
       "      <th>4</th>\n",
       "      <td>1918</td>\n",
       "      <td>1.023333</td>\n",
       "      <td>1.023333</td>\n",
       "      <td>M</td>\n",
       "      <td>1.023333</td>\n",
       "    </tr>\n",
       "  </tbody>\n",
       "</table>\n",
       "</div>"
      ],
      "text/plain": [
       "   year      mins      time sex   minutes\n",
       "0  1905  1.096667  1.096667   M  1.096667\n",
       "1  1908  1.093333  1.093333   M  1.093333\n",
       "2  1910  1.046667  1.046667   M  1.046667\n",
       "3  1912  1.026667  1.026667   M  1.026667\n",
       "4  1918  1.023333  1.023333   M  1.023333"
      ]
     },
     "execution_count": 257,
     "metadata": {},
     "output_type": "execute_result"
    }
   ],
   "source": [
    "data['time'] = data.time/60.\n",
    "data.head()"
   ]
  },
  {
   "cell_type": "markdown",
   "metadata": {},
   "source": [
    "The <code>ix[]</code> can also be used to get a subset of the dataframe:"
   ]
  },
  {
   "cell_type": "code",
   "execution_count": 258,
   "metadata": {},
   "outputs": [
    {
     "data": {
      "text/plain": [
       "(39, 8)"
      ]
     },
     "execution_count": 258,
     "metadata": {},
     "output_type": "execute_result"
    }
   ],
   "source": [
    "kids = pd.read_csv(\"http://www.mosaic-web.org/go/datasets/kidsfeet.csv\")\n",
    "kids.shape"
   ]
  },
  {
   "cell_type": "code",
   "execution_count": 259,
   "metadata": {},
   "outputs": [
    {
     "data": {
      "text/plain": [
       "Int64Index([ 0,  1,  2,  3,  4,  5,  6,  7,  8,  9, 10, 11, 12, 13, 14, 15, 16,\n",
       "            17, 18, 19, 20, 21, 22, 23, 24, 25, 26, 27, 28, 29, 30, 31, 32, 33,\n",
       "            34, 35, 36, 37, 38],\n",
       "           dtype='int64')"
      ]
     },
     "execution_count": 259,
     "metadata": {},
     "output_type": "execute_result"
    }
   ],
   "source": [
    "kids.index"
   ]
  },
  {
   "cell_type": "code",
   "execution_count": 260,
   "metadata": {},
   "outputs": [
    {
     "data": {
      "text/html": [
       "<div>\n",
       "<table border=\"1\" class=\"dataframe\">\n",
       "  <thead>\n",
       "    <tr style=\"text-align: right;\">\n",
       "      <th></th>\n",
       "      <th>name</th>\n",
       "      <th>birthmonth</th>\n",
       "      <th>birthyear</th>\n",
       "      <th>length</th>\n",
       "      <th>width</th>\n",
       "      <th>sex</th>\n",
       "      <th>biggerfoot</th>\n",
       "      <th>domhand</th>\n",
       "    </tr>\n",
       "  </thead>\n",
       "  <tbody>\n",
       "    <tr>\n",
       "      <th>31</th>\n",
       "      <td>Caitlin</td>\n",
       "      <td>7</td>\n",
       "      <td>88</td>\n",
       "      <td>22.5</td>\n",
       "      <td>8.6</td>\n",
       "      <td>G</td>\n",
       "      <td>R</td>\n",
       "      <td>R</td>\n",
       "    </tr>\n",
       "    <tr>\n",
       "      <th>13</th>\n",
       "      <td>Cam</td>\n",
       "      <td>3</td>\n",
       "      <td>88</td>\n",
       "      <td>27.0</td>\n",
       "      <td>9.8</td>\n",
       "      <td>B</td>\n",
       "      <td>L</td>\n",
       "      <td>R</td>\n",
       "    </tr>\n",
       "    <tr>\n",
       "      <th>5</th>\n",
       "      <td>Scotty</td>\n",
       "      <td>3</td>\n",
       "      <td>88</td>\n",
       "      <td>25.7</td>\n",
       "      <td>9.7</td>\n",
       "      <td>B</td>\n",
       "      <td>R</td>\n",
       "      <td>R</td>\n",
       "    </tr>\n",
       "    <tr>\n",
       "      <th>38</th>\n",
       "      <td>Alisha</td>\n",
       "      <td>9</td>\n",
       "      <td>88</td>\n",
       "      <td>24.6</td>\n",
       "      <td>8.8</td>\n",
       "      <td>G</td>\n",
       "      <td>L</td>\n",
       "      <td>R</td>\n",
       "    </tr>\n",
       "    <tr>\n",
       "      <th>16</th>\n",
       "      <td>Caroline</td>\n",
       "      <td>12</td>\n",
       "      <td>87</td>\n",
       "      <td>24.0</td>\n",
       "      <td>8.7</td>\n",
       "      <td>G</td>\n",
       "      <td>R</td>\n",
       "      <td>L</td>\n",
       "    </tr>\n",
       "  </tbody>\n",
       "</table>\n",
       "</div>"
      ],
      "text/plain": [
       "        name  birthmonth  birthyear  length  width sex biggerfoot domhand\n",
       "31   Caitlin           7         88    22.5    8.6   G          R       R\n",
       "13       Cam           3         88    27.0    9.8   B          L       R\n",
       "5     Scotty           3         88    25.7    9.7   B          R       R\n",
       "38    Alisha           9         88    24.6    8.8   G          L       R\n",
       "16  Caroline          12         87    24.0    8.7   G          R       L"
      ]
     },
     "execution_count": 260,
     "metadata": {},
     "output_type": "execute_result"
    }
   ],
   "source": [
    "# random sample of 5 cases from this data frame\n",
    "rows = np.random.choice(kids.index, 5, replace=False) \n",
    "\n",
    "kids.ix[rows]"
   ]
  },
  {
   "cell_type": "markdown",
   "metadata": {},
   "source": [
    "The results returned by the above methods will never contain the same case more than once (because we told the function not to sample with replacement). \n",
    "\n",
    "In contrast, ‘re-sampling with replacement’ replaces each case after it is dealt so that it can appear more than once in the result. You wouldn’t want to do this to select from a sampling frame, but it turns out that there are valuable statistical uses for this sort of sampling with replacement."
   ]
  },
  {
   "cell_type": "markdown",
   "metadata": {},
   "source": [
    "### Droping rows and columns.\n",
    "\n",
    "We can delete entire rows and columns:"
   ]
  },
  {
   "cell_type": "code",
   "execution_count": 261,
   "metadata": {},
   "outputs": [
    {
     "data": {
      "text/html": [
       "<div>\n",
       "<table border=\"1\" class=\"dataframe\">\n",
       "  <thead>\n",
       "    <tr style=\"text-align: right;\">\n",
       "      <th></th>\n",
       "      <th>VarA</th>\n",
       "      <th>VarB</th>\n",
       "    </tr>\n",
       "  </thead>\n",
       "  <tbody>\n",
       "    <tr>\n",
       "      <th>Case2</th>\n",
       "      <td>bb</td>\n",
       "      <td>30</td>\n",
       "    </tr>\n",
       "  </tbody>\n",
       "</table>\n",
       "</div>"
      ],
      "text/plain": [
       "      VarA  VarB\n",
       "Case2   bb    30"
      ]
     },
     "execution_count": 261,
     "metadata": {},
     "output_type": "execute_result"
    }
   ],
   "source": [
    "c = pd.DataFrame({'VarA':['aa','bb'], 'VarB':[20,30]}, index = ['Case1','Case2'])\n",
    "c = c.drop(['Case1'])\n",
    "c"
   ]
  },
  {
   "cell_type": "code",
   "execution_count": 264,
   "metadata": {},
   "outputs": [],
   "source": [
    "c = pd.DataFrame({'VarA':['aa','bb'], 'VarB':[20,30]}, index = ['Case1','Case2'])\n",
    "c = c.drop(['VarA'], axis=1)"
   ]
  },
  {
   "cell_type": "markdown",
   "metadata": {},
   "source": [
    "### Handling missing values.\n",
    "\n",
    "Pandas considers that values ``NaN`` and ``None`` represents missing data. \n",
    "\n",
    "The ``pandas.isnull`` function can be used to tell whether or not a value is missing."
   ]
  },
  {
   "cell_type": "code",
   "execution_count": null,
   "metadata": {},
   "outputs": [],
   "source": [
    "c = pd.DataFrame({'VarA':['aa', None, 'cc'], 'VarB':[20,30,None], 'VarC':[1234, 3456, 6789]}, index = ['Case1','Case2','Case3'])\n",
    "c"
   ]
  },
  {
   "cell_type": "code",
   "execution_count": null,
   "metadata": {},
   "outputs": [],
   "source": [
    "empty = c.apply(lambda c: pd.isnull(c))\n",
    "empty     # Empty returns a boolean dataframe"
   ]
  },
  {
   "cell_type": "markdown",
   "metadata": {},
   "source": [
    "One option is to drop all rows with missing event values using the ``dropna`` function:"
   ]
  },
  {
   "cell_type": "code",
   "execution_count": null,
   "metadata": {},
   "outputs": [],
   "source": [
    "c.dropna(subset=[\"VarA\",\"VarB\", \"VarC\"])   # Returns a dataframe copy"
   ]
  },
  {
   "cell_type": "markdown",
   "metadata": {},
   "source": [
    "Another option od to use the ``fillna`` function to fillthem with empty strings:"
   ]
  },
  {
   "cell_type": "code",
   "execution_count": null,
   "metadata": {},
   "outputs": [],
   "source": [
    "c = pd.DataFrame({'VarA':['aa', None, 'cc'], 'VarB':[20,30,55], 'VarC':[1234, 3456, 6789]}, \\\n",
    "                 index = ['Case1','Case2','Case3'])\n",
    "c = c.fillna(\"\")\n",
    "c"
   ]
  },
  {
   "cell_type": "markdown",
   "metadata": {},
   "source": [
    "### Filtering\n",
    "\n",
    "One of the main tasks when analyzing a dataset is to select rows by using simple operators. "
   ]
  },
  {
   "cell_type": "code",
   "execution_count": null,
   "metadata": {},
   "outputs": [],
   "source": [
    "vc = c[c.VarC > c.VarC.mean()]\n",
    "vc"
   ]
  },
  {
   "cell_type": "markdown",
   "metadata": {},
   "source": [
    "By using Boolean operators we can build combinde filters."
   ]
  },
  {
   "cell_type": "code",
   "execution_count": null,
   "metadata": {},
   "outputs": [],
   "source": [
    "vc = c[(c.VarC < c.VarC.mean()) & (c.VarC >= 1000)]\n",
    "vc"
   ]
  },
  {
   "cell_type": "markdown",
   "metadata": {},
   "source": [
    "A filter is a ``Series`` object with Boolean values:"
   ]
  },
  {
   "cell_type": "code",
   "execution_count": null,
   "metadata": {},
   "outputs": [],
   "source": [
    "filt = c.VarC < c.VarC.mean()\n",
    "filt"
   ]
  },
  {
   "cell_type": "code",
   "execution_count": null,
   "metadata": {},
   "outputs": [],
   "source": [
    "vc = c[filt]\n",
    "vc"
   ]
  },
  {
   "cell_type": "markdown",
   "metadata": {},
   "source": [
    "We can use the ``any`` funtion to see if there is any ``True`` value in a filter:"
   ]
  },
  {
   "cell_type": "code",
   "execution_count": null,
   "metadata": {},
   "outputs": [],
   "source": [
    "filt.any()"
   ]
  },
  {
   "cell_type": "markdown",
   "metadata": {},
   "source": [
    "### Writting data"
   ]
  },
  {
   "cell_type": "code",
   "execution_count": null,
   "metadata": {},
   "outputs": [],
   "source": [
    "bedford.to_csv(\"files/bedford2.csv\")"
   ]
  },
  {
   "cell_type": "code",
   "execution_count": null,
   "metadata": {},
   "outputs": [],
   "source": [
    "bedford.to_csv(\"files/bedford3.csv\", sep=\"\\t\")"
   ]
  },
  {
   "cell_type": "markdown",
   "metadata": {},
   "source": [
    "**Exercise**\n",
    "\n",
    "+ Read the titanic dataset from ``files/titanic.xls`` and inspect the first records.\n",
    "+ Are there columns have NaN values? \n",
    "+ Drop those rows with NaN values in ``age``. \n",
    "+ What was the probability of survival? Get a variable with this value.\n",
    "+ What was the probability of survival for each ``pclass``? Get a varible with this value.\n",
    "+ What was the mean age for third class survivors? Get a variable with this value.\n"
   ]
  },
  {
   "cell_type": "code",
   "execution_count": null,
   "metadata": {
    "collapsed": true
   },
   "outputs": [],
   "source": [
    "### Your solution here\n",
    "\n",
    "#http://pandas.pydata.org/pandas-docs/stable/generated/pandas.read_excel.html"
   ]
  },
  {
   "cell_type": "markdown",
   "metadata": {},
   "source": [
    "# Visualization"
   ]
  },
  {
   "cell_type": "code",
   "execution_count": 6,
   "metadata": {},
   "outputs": [
    {
     "data": {
      "text/plain": [
       "<matplotlib.text.Text at 0x7f6cc4024610>"
      ]
     },
     "execution_count": 6,
     "metadata": {},
     "output_type": "execute_result"
    },
    {
     "data": {
      "image/png": "[encoded data removed]",
      "text/plain": [
       "<matplotlib.figure.Figure at 0x7f6cc40cc610>"
      ]
     },
     "metadata": {},
     "output_type": "display_data"
    }
   ],
   "source": [
    "import numpy as np\n",
    "x = np.linspace(0, 5, 10)\n",
    "y = x ** 2\n",
    "%matplotlib inline\n",
    "plt.figure()\n",
    "plt.plot(x, y, 'r')\n",
    "plt.xlabel('x')\n",
    "plt.ylabel('y')\n",
    "plt.title('title')\n"
   ]
  },
  {
   "cell_type": "code",
   "execution_count": 7,
   "metadata": {},
   "outputs": [
    {
     "data": {
      "image/png": "[encoded data removed]",
      "text/plain": [
       "<matplotlib.figure.Figure at 0x7f6cc40e6e50>"
      ]
     },
     "metadata": {},
     "output_type": "display_data"
    }
   ],
   "source": [
    "plt.subplot(1,2,1)\n",
    "plt.plot(x, y, 'r--')\n",
    "plt.subplot(1,2,2)\n",
    "plt.plot(y, x, 'g*-');"
   ]
  },
  {
   "cell_type": "code",
   "execution_count": 8,
   "metadata": {},
   "outputs": [
    {
     "data": {
      "image/png": "[encoded data removed]",
      "text/plain": [
       "<matplotlib.figure.Figure at 0x7f6cc40e6650>"
      ]
     },
     "metadata": {},
     "output_type": "display_data"
    }
   ],
   "source": [
    "fig = plt.figure()\n",
    "\n",
    "axes1 = fig.add_axes([0.1, 0.1, 0.8, 0.8]) # main axes\n",
    "axes2 = fig.add_axes([0.2, 0.5, 0.4, 0.3]) # inset axes\n",
    "\n",
    "# main figure\n",
    "axes1.plot(x, y, 'r')\n",
    "axes1.set_xlabel('x')\n",
    "axes1.set_ylabel('y')\n",
    "axes1.set_title('title')\n",
    "\n",
    "# insert\n",
    "axes2.plot(y, x, 'g')\n",
    "axes2.set_xlabel('y')\n",
    "axes2.set_ylabel('x')\n",
    "axes2.set_title('insert title');"
   ]
  },
  {
   "cell_type": "markdown",
   "metadata": {},
   "source": [
    "###Size"
   ]
  },
  {
   "cell_type": "code",
   "execution_count": 14,
   "metadata": {},
   "outputs": [
    {
     "data": {
      "text/plain": [
       "<matplotlib.figure.Figure at 0x7f6cb342b650>"
      ]
     },
     "metadata": {},
     "output_type": "display_data"
    }
   ],
   "source": [
    "fig = plt.figure(figsize=(8,4), dpi=100)\n"
   ]
  },
  {
   "cell_type": "code",
   "execution_count": 13,
   "metadata": {},
   "outputs": [
    {
     "data": {
      "text/plain": [
       "<matplotlib.figure.Figure at 0x7f6cc4060ed0>"
      ]
     },
     "metadata": {},
     "output_type": "display_data"
    },
    {
     "data": {
      "image/png": "[encoded data removed]",
      "text/plain": [
       "<matplotlib.figure.Figure at 0x7f6cb31cd090>"
      ]
     },
     "metadata": {},
     "output_type": "display_data"
    }
   ],
   "source": [
    "fig, axes = plt.subplots(figsize=(12,3))\n",
    "\n",
    "axes.plot(x, y, 'r')\n",
    "axes.set_xlabel('x')\n",
    "axes.set_ylabel('y')\n",
    "axes.set_title('title');"
   ]
  },
  {
   "cell_type": "code",
   "execution_count": 15,
   "metadata": {
    "collapsed": true
   },
   "outputs": [],
   "source": [
    "fig.savefig(\"filename.png\")"
   ]
  },
  {
   "cell_type": "code",
   "execution_count": 16,
   "metadata": {
    "collapsed": true
   },
   "outputs": [],
   "source": [
    "fig.savefig(\"filename.png\", dpi=200)"
   ]
  },
  {
   "cell_type": "code",
   "execution_count": 17,
   "metadata": {},
   "outputs": [
    {
     "data": {
      "text/plain": [
       "<matplotlib.text.Text at 0x7f6cb24b3910>"
      ]
     },
     "execution_count": 17,
     "metadata": {},
     "output_type": "execute_result"
    },
    {
     "data": {
      "image/png": "[encoded data removed]",
      "text/plain": [
       "<matplotlib.figure.Figure at 0x7f6cb31c4d10>"
      ]
     },
     "metadata": {},
     "output_type": "display_data"
    },
    {
     "data": {
      "text/plain": [
       "<matplotlib.figure.Figure at 0x7f6cb3420d10>"
      ]
     },
     "metadata": {},
     "output_type": "display_data"
    },
    {
     "data": {
      "image/png": "[encoded data removed]",
      "text/plain": [
       "<matplotlib.figure.Figure at 0x7f6cb24e5890>"
      ]
     },
     "metadata": {},
     "output_type": "display_data"
    }
   ],
   "source": [
    "import pandas as pd  \n",
    "\n",
    "# Load car dataset\n",
    "auto = pd.read_csv(\"http://www-bcf.usc.edu/~gareth/ISL/Auto.csv\")\n",
    "\n",
    "# create a scatterplot of weight vs \"miles per galone\"\n",
    "auto.plot(x='weight', y='mpg', style='bo', alpha=0.4)\n",
    "plt.title(\"Scatterplot of weight and mpg\")\n",
    "\n",
    "# create a histogram of \"miles per galone\"\n",
    "plt.figure()\n",
    "auto.hist('mpg', alpha=0.7)\n",
    "plt.title(\"Histogram of mpg (miles per galone)\")\n"
   ]
  },
  {
   "cell_type": "code",
   "execution_count": 18,
   "metadata": {
    "collapsed": true
   },
   "outputs": [],
   "source": [
    "#####Plot both plots in a same figure of two subplots side by side\n",
    "##\n",
    "\n",
    "\n",
    "\n",
    "\n",
    "##"
   ]
  },
  {
   "cell_type": "markdown",
   "metadata": {},
   "source": [
    "Scatterplots"
   ]
  },
  {
   "cell_type": "code",
   "execution_count": 36,
   "metadata": {},
   "outputs": [
    {
     "data": {
      "text/plain": [
       "<matplotlib.collections.PathCollection at 0x7f6cb30a15d0>"
      ]
     },
     "execution_count": 36,
     "metadata": {},
     "output_type": "execute_result"
    },
    {
     "data": {
      "image/png": "[encoded data removed]",
      "text/plain": [
       "<matplotlib.figure.Figure at 0x7f6cb1fd4550>"
      ]
     },
     "metadata": {},
     "output_type": "display_data"
    }
   ],
   "source": [
    "### scatter plot\n",
    "x=[0,1,2,3]\n",
    "y=[5,2,8,10]\n",
    "plt.scatter(x,y,s=30,color='r',alpha=0.5)\n"
   ]
  },
  {
   "cell_type": "code",
   "execution_count": 23,
   "metadata": {},
   "outputs": [
    {
     "data": {
      "text/html": [
       "<div>\n",
       "<table border=\"1\" class=\"dataframe\">\n",
       "  <thead>\n",
       "    <tr style=\"text-align: right;\">\n",
       "      <th></th>\n",
       "      <th>id</th>\n",
       "      <th>player</th>\n",
       "      <th>year</th>\n",
       "      <th>stint</th>\n",
       "      <th>team</th>\n",
       "      <th>lg</th>\n",
       "      <th>g</th>\n",
       "      <th>ab</th>\n",
       "      <th>r</th>\n",
       "      <th>h</th>\n",
       "      <th>...</th>\n",
       "      <th>rbi</th>\n",
       "      <th>sb</th>\n",
       "      <th>cs</th>\n",
       "      <th>bb</th>\n",
       "      <th>so</th>\n",
       "      <th>ibb</th>\n",
       "      <th>hbp</th>\n",
       "      <th>sh</th>\n",
       "      <th>sf</th>\n",
       "      <th>gidp</th>\n",
       "    </tr>\n",
       "  </thead>\n",
       "  <tbody>\n",
       "    <tr>\n",
       "      <th>0</th>\n",
       "      <td>88641</td>\n",
       "      <td>womacto01</td>\n",
       "      <td>2006</td>\n",
       "      <td>2</td>\n",
       "      <td>CHN</td>\n",
       "      <td>NL</td>\n",
       "      <td>19</td>\n",
       "      <td>50</td>\n",
       "      <td>6</td>\n",
       "      <td>14</td>\n",
       "      <td>...</td>\n",
       "      <td>2</td>\n",
       "      <td>1</td>\n",
       "      <td>1</td>\n",
       "      <td>4</td>\n",
       "      <td>4</td>\n",
       "      <td>0</td>\n",
       "      <td>0</td>\n",
       "      <td>3</td>\n",
       "      <td>0</td>\n",
       "      <td>0</td>\n",
       "    </tr>\n",
       "    <tr>\n",
       "      <th>1</th>\n",
       "      <td>88643</td>\n",
       "      <td>schilcu01</td>\n",
       "      <td>2006</td>\n",
       "      <td>1</td>\n",
       "      <td>BOS</td>\n",
       "      <td>AL</td>\n",
       "      <td>31</td>\n",
       "      <td>2</td>\n",
       "      <td>0</td>\n",
       "      <td>1</td>\n",
       "      <td>...</td>\n",
       "      <td>0</td>\n",
       "      <td>0</td>\n",
       "      <td>0</td>\n",
       "      <td>0</td>\n",
       "      <td>1</td>\n",
       "      <td>0</td>\n",
       "      <td>0</td>\n",
       "      <td>0</td>\n",
       "      <td>0</td>\n",
       "      <td>0</td>\n",
       "    </tr>\n",
       "    <tr>\n",
       "      <th>2</th>\n",
       "      <td>88645</td>\n",
       "      <td>myersmi01</td>\n",
       "      <td>2006</td>\n",
       "      <td>1</td>\n",
       "      <td>NYA</td>\n",
       "      <td>AL</td>\n",
       "      <td>62</td>\n",
       "      <td>0</td>\n",
       "      <td>0</td>\n",
       "      <td>0</td>\n",
       "      <td>...</td>\n",
       "      <td>0</td>\n",
       "      <td>0</td>\n",
       "      <td>0</td>\n",
       "      <td>0</td>\n",
       "      <td>0</td>\n",
       "      <td>0</td>\n",
       "      <td>0</td>\n",
       "      <td>0</td>\n",
       "      <td>0</td>\n",
       "      <td>0</td>\n",
       "    </tr>\n",
       "    <tr>\n",
       "      <th>3</th>\n",
       "      <td>88649</td>\n",
       "      <td>helliri01</td>\n",
       "      <td>2006</td>\n",
       "      <td>1</td>\n",
       "      <td>MIL</td>\n",
       "      <td>NL</td>\n",
       "      <td>20</td>\n",
       "      <td>3</td>\n",
       "      <td>0</td>\n",
       "      <td>0</td>\n",
       "      <td>...</td>\n",
       "      <td>0</td>\n",
       "      <td>0</td>\n",
       "      <td>0</td>\n",
       "      <td>0</td>\n",
       "      <td>2</td>\n",
       "      <td>0</td>\n",
       "      <td>0</td>\n",
       "      <td>0</td>\n",
       "      <td>0</td>\n",
       "      <td>0</td>\n",
       "    </tr>\n",
       "    <tr>\n",
       "      <th>4</th>\n",
       "      <td>88650</td>\n",
       "      <td>johnsra05</td>\n",
       "      <td>2006</td>\n",
       "      <td>1</td>\n",
       "      <td>NYA</td>\n",
       "      <td>AL</td>\n",
       "      <td>33</td>\n",
       "      <td>6</td>\n",
       "      <td>0</td>\n",
       "      <td>1</td>\n",
       "      <td>...</td>\n",
       "      <td>0</td>\n",
       "      <td>0</td>\n",
       "      <td>0</td>\n",
       "      <td>0</td>\n",
       "      <td>4</td>\n",
       "      <td>0</td>\n",
       "      <td>0</td>\n",
       "      <td>0</td>\n",
       "      <td>0</td>\n",
       "      <td>0</td>\n",
       "    </tr>\n",
       "  </tbody>\n",
       "</table>\n",
       "<p>5 rows × 23 columns</p>\n",
       "</div>"
      ],
      "text/plain": [
       "      id     player  year  stint team  lg   g  ab  r   h  ...   rbi  sb  cs  \\\n",
       "0  88641  womacto01  2006      2  CHN  NL  19  50  6  14  ...     2   1   1   \n",
       "1  88643  schilcu01  2006      1  BOS  AL  31   2  0   1  ...     0   0   0   \n",
       "2  88645  myersmi01  2006      1  NYA  AL  62   0  0   0  ...     0   0   0   \n",
       "3  88649  helliri01  2006      1  MIL  NL  20   3  0   0  ...     0   0   0   \n",
       "4  88650  johnsra05  2006      1  NYA  AL  33   6  0   1  ...     0   0   0   \n",
       "\n",
       "   bb  so  ibb  hbp  sh  sf  gidp  \n",
       "0   4   4    0    0   3   0     0  \n",
       "1   0   1    0    0   0   0     0  \n",
       "2   0   0    0    0   0   0     0  \n",
       "3   0   2    0    0   0   0     0  \n",
       "4   0   4    0    0   0   0     0  \n",
       "\n",
       "[5 rows x 23 columns]"
      ]
     },
     "execution_count": 23,
     "metadata": {},
     "output_type": "execute_result"
    }
   ],
   "source": [
    "baseball = pd.read_csv(\"files/baseball.csv\")\n",
    "baseball.head()"
   ]
  },
  {
   "cell_type": "code",
   "execution_count": 283,
   "metadata": {},
   "outputs": [
    {
     "data": {
      "text/plain": [
       "(0, 200)"
      ]
     },
     "execution_count": 283,
     "metadata": {},
     "output_type": "execute_result"
    },
    {
     "data": {
      "image/png": "[encoded data removed]",
      "text/plain": [
       "<matplotlib.figure.Figure at 0x7f5e5fe25d50>"
      ]
     },
     "metadata": {},
     "output_type": "display_data"
    }
   ],
   "source": [
    "#plot ab vs h\n",
    "\n",
    "\n",
    "####\n",
    "###"
   ]
  },
  {
   "cell_type": "code",
   "execution_count": 284,
   "metadata": {},
   "outputs": [
    {
     "data": {
      "text/plain": [
       "(0, 200)"
      ]
     },
     "execution_count": 284,
     "metadata": {},
     "output_type": "execute_result"
    },
    {
     "data": {
      "image/png": "[encoded data removed]",
      "text/plain": [
       "<matplotlib.figure.Figure at 0x7f5e5fc3c5d0>"
      ]
     },
     "metadata": {},
     "output_type": "display_data"
    }
   ],
   "source": [
    "###repeat but size of point proportional to hr*10"
   ]
  },
  {
   "cell_type": "code",
   "execution_count": null,
   "metadata": {},
   "outputs": [],
   "source": []
  },
  {
   "cell_type": "markdown",
   "metadata": {},
   "source": [
    "To view scatterplots of a large numbers of variables simultaneously, we can use the scatter_matrix function that was recently added to Pandas. It generates a matrix of pair-wise scatterplots, optiorally with histograms or kernel density estimates on the diagonal."
   ]
  },
  {
   "cell_type": "markdown",
   "metadata": {},
   "source": [
    "## Python Patterns and Anti-patterns"
   ]
  },
  {
   "cell_type": "markdown",
   "metadata": {},
   "source": [
    "#### Test for “truthy” and “falsy” values:\n",
    "\n",
    "+ Checking for truth doesn't tie the conditional expression to the type of object being checked.\n",
    "+ Checking for truth clearly shows the code's intention rather than drawing attention to a specific outcome."
   ]
  },
  {
   "cell_type": "code",
   "execution_count": 287,
   "metadata": {},
   "outputs": [
    {
     "name": "stdout",
     "output_type": "stream",
     "text": [
      "We have pets!\n",
      "We have pets!\n"
     ]
    }
   ],
   "source": [
    "# GOOD\n",
    "name = 'Safe'\n",
    "pets = ['Dog', 'Cat', 'Hamster']\n",
    "owners = {'Safe': 'Cat', 'George': 'Dog'}\n",
    "if name and pets and owners:\n",
    "    print('We have pets!')\n",
    "\n",
    "# NOT SO GOOD\n",
    "if name != '' and len(pets) > 0 and owners != {}:\n",
    "    print('We have pets!')"
   ]
  },
  {
   "cell_type": "markdown",
   "metadata": {},
   "source": [
    "####  Use <code>in</code> where possible:\n",
    "\n",
    "+ Using ``in`` to check if an item is in a sequence is clear and concise.\n",
    "+ Can be used on lists, dicts (keys), sets, strings, and your own classes by implementing the <code>__contains__<code> special method.\n"
   ]
  },
  {
   "cell_type": "code",
   "execution_count": 288,
   "metadata": {},
   "outputs": [
    {
     "name": "stdout",
     "output_type": "stream",
     "text": [
      "This name has an H in it!\n",
      "This name has an H in it!\n"
     ]
    }
   ],
   "source": [
    "# GOOD\n",
    "name = 'Safe Hammad'\n",
    "if 'H' in name:\n",
    "    print('This name has an H in it!')\n",
    "\n",
    "# NOT SO GOOD\n",
    "name = 'Safe Hammad'\n",
    "if name.find('H') != -1:\n",
    "    print('This name has an H in it!')\n"
   ]
  },
  {
   "cell_type": "markdown",
   "metadata": {},
   "source": [
    "+ Using ``in`` to for iteration over a sequence is clear and concise.\n",
    "+ Can be used on lists, dicts (keys), sets, strings, and your own classes by implementing the <code>__iter__</code> special method."
   ]
  },
  {
   "cell_type": "code",
   "execution_count": 289,
   "metadata": {},
   "outputs": [
    {
     "name": "stdout",
     "output_type": "stream",
     "text": [
      "('A', 'Dog', 'can be very cute!')\n",
      "('A', 'Cat', 'can be very cute!')\n",
      "('A', 'Hamster', 'can be very cute!')\n",
      "('A', 'Dog', 'can be very cute!')\n",
      "('A', 'Cat', 'can be very cute!')\n",
      "('A', 'Hamster', 'can be very cute!')\n"
     ]
    }
   ],
   "source": [
    "# GOOD\n",
    "pets = ['Dog', 'Cat', 'Hamster']\n",
    "for pet in pets:\n",
    "    print('A', pet, 'can be very cute!')\n",
    "    \n",
    "# NOT SO GOOD\n",
    "pets = ['Dog', 'Cat', 'Hamster']\n",
    "i = 0\n",
    "while i < len(pets):\n",
    "    print('A', pets[i], 'can be very cute!')\n",
    "    i += 1\n"
   ]
  },
  {
   "cell_type": "markdown",
   "metadata": {},
   "source": [
    "####  Swap values without temp variable: Avoids polluting namespace with temp variable used only once."
   ]
  },
  {
   "cell_type": "code",
   "execution_count": 290,
   "metadata": {},
   "outputs": [
    {
     "name": "stdout",
     "output_type": "stream",
     "text": [
      "(5, 6)\n",
      "(6, 5)\n",
      "(5, 6)\n",
      "(6, 5)\n"
     ]
    }
   ],
   "source": [
    "# GOOD\n",
    "a, b = 5, 6\n",
    "print(a, b) # 5, 6\n",
    "a, b = b, a\n",
    "print(a, b) # 6, 5\n",
    " \n",
    "# NOT SO GOOD\n",
    "a, b = 5, 6\n",
    "print(a, b) # 5, 6\n",
    " \n",
    "temp = a\n",
    "a = b\n",
    "b = temp\n",
    "print(a, b) # 6, 5\n"
   ]
  },
  {
   "cell_type": "markdown",
   "metadata": {},
   "source": [
    "####  Enumerate! "
   ]
  },
  {
   "cell_type": "code",
   "execution_count": 291,
   "metadata": {},
   "outputs": [
    {
     "name": "stdout",
     "output_type": "stream",
     "text": [
      "(0, 'Safe')\n",
      "(1, 'George')\n",
      "(2, 'Mildred')\n",
      "(2, 'Safe')\n",
      "(2, 'George')\n",
      "(2, 'Mildred')\n"
     ]
    }
   ],
   "source": [
    "# GOOD\n",
    "names = ['Safe', 'George', 'Mildred']\n",
    "for i, name in enumerate(names):\n",
    "    print(i, name) # 0 Safe, 1 George etc.\n",
    "\n",
    "# NOT SO GOOD\n",
    "names = ['Safe', 'George', 'Mildred']\n",
    "count = 0\n",
    "for name in names:\n",
    "    print(i, name) # 0 Safe, 1 George etc.\n",
    "    count += 1"
   ]
  },
  {
   "cell_type": "markdown",
   "metadata": {},
   "source": [
    "Build lists (dictionaries) using list (dictionaries) comprehensions!"
   ]
  },
  {
   "cell_type": "code",
   "execution_count": 292,
   "metadata": {},
   "outputs": [
    {
     "name": "stdout",
     "output_type": "stream",
     "text": [
      "[60, 45, 33]\n",
      "[60, 45, 33]\n"
     ]
    }
   ],
   "source": [
    "# GOOD\n",
    "data = [7, 20, 3, 15, 11]\n",
    "result = [i * 3 for i in data if i > 10]\n",
    "print(result) # [60, 45, 33]\n",
    "\n",
    "# NOT SO GOOD (MOST OF THE TIME)\n",
    "data = [7, 20, 3, 15, 11]\n",
    "result = [] \n",
    "for i in data:\n",
    "    if i > 10:\n",
    "        result.append(i * 3)\n",
    "print(result) # [60, 45, 33]"
   ]
  },
  {
   "cell_type": "markdown",
   "metadata": {},
   "source": [
    "####  Create dict from keys and values using zip."
   ]
  },
  {
   "cell_type": "code",
   "execution_count": 293,
   "metadata": {},
   "outputs": [
    {
     "ename": "TypeError",
     "evalue": "'dict' object is not callable",
     "output_type": "error",
     "traceback": [
      "\u001b[1;31m---------------------------------------------------------------------------\u001b[0m",
      "\u001b[1;31mTypeError\u001b[0m                                 Traceback (most recent call last)",
      "\u001b[1;32m<ipython-input-293-d7c6106bb5fb>\u001b[0m in \u001b[0;36m<module>\u001b[1;34m()\u001b[0m\n\u001b[0;32m      2\u001b[0m \u001b[0mkeys\u001b[0m \u001b[1;33m=\u001b[0m \u001b[1;33m[\u001b[0m\u001b[1;34m'Safe'\u001b[0m\u001b[1;33m,\u001b[0m \u001b[1;34m'Bob'\u001b[0m\u001b[1;33m,\u001b[0m \u001b[1;34m'Thomas'\u001b[0m\u001b[1;33m]\u001b[0m\u001b[1;33m\u001b[0m\u001b[0m\n\u001b[0;32m      3\u001b[0m \u001b[0mvalues\u001b[0m \u001b[1;33m=\u001b[0m \u001b[1;33m[\u001b[0m\u001b[1;34m'Hammad'\u001b[0m\u001b[1;33m,\u001b[0m \u001b[1;34m'Builder'\u001b[0m\u001b[1;33m,\u001b[0m \u001b[1;34m'Engine'\u001b[0m\u001b[1;33m]\u001b[0m\u001b[1;33m\u001b[0m\u001b[0m\n\u001b[1;32m----> 4\u001b[1;33m \u001b[0md\u001b[0m \u001b[1;33m=\u001b[0m \u001b[0mdict\u001b[0m\u001b[1;33m(\u001b[0m\u001b[0mzip\u001b[0m\u001b[1;33m(\u001b[0m\u001b[0mkeys\u001b[0m\u001b[1;33m,\u001b[0m \u001b[0mvalues\u001b[0m\u001b[1;33m)\u001b[0m\u001b[1;33m)\u001b[0m\u001b[1;33m\u001b[0m\u001b[0m\n\u001b[0m\u001b[0;32m      5\u001b[0m \u001b[1;32mprint\u001b[0m\u001b[1;33m(\u001b[0m\u001b[0md\u001b[0m\u001b[1;33m)\u001b[0m \u001b[1;31m# {'Bob': 'Builder','Safe': 'Hammad','Thomas': 'Engine'}\u001b[0m\u001b[1;33m\u001b[0m\u001b[0m\n\u001b[0;32m      6\u001b[0m \u001b[1;33m\u001b[0m\u001b[0m\n",
      "\u001b[1;31mTypeError\u001b[0m: 'dict' object is not callable"
     ]
    }
   ],
   "source": [
    "# GOOD\n",
    "keys = ['Safe', 'Bob', 'Thomas']\n",
    "values = ['Hammad', 'Builder', 'Engine'] \n",
    "d = dict(zip(keys, values))\n",
    "print(d) # {'Bob': 'Builder','Safe': 'Hammad','Thomas': 'Engine'}\n",
    "\n",
    "# NOT SO GOOD\n",
    "keys = ['Safe', 'Bob', 'Thomas']\n",
    "values = ['Hammad', 'Builder', 'Engine']\n",
    "d = {}\n",
    "for i, key in enumerate(keys):\n",
    "    d[key] = values[i]\n",
    "print(d) # {'Bob': 'Builder','Safe': 'Hammad','Thomas': 'Engine'}\n"
   ]
  },
  {
   "cell_type": "code",
   "execution_count": null,
   "metadata": {},
   "outputs": [],
   "source": [
    "def genChar2():\n",
    "    from random import randint\n",
    "    s = []\n",
    "    for i in xrange(100000000):\n",
    "        s.append('a')\n",
    "    return ''.join(s)\n",
    "\n",
    "%timeit genChar2()"
   ]
  },
  {
   "cell_type": "markdown",
   "metadata": {},
   "source": [
    "If you are interested in some values computed from a whole list, you can use generator comprehension to avoid the list:"
   ]
  },
  {
   "cell_type": "code",
   "execution_count": 37,
   "metadata": {},
   "outputs": [
    {
     "name": "stdout",
     "output_type": "stream",
     "text": [
      "1 loops, best of 3: 12.2 s per loop\n"
     ]
    }
   ],
   "source": [
    "%timeit sum([x * x for x in xrange(100000000)])"
   ]
  },
  {
   "cell_type": "code",
   "execution_count": 38,
   "metadata": {},
   "outputs": [
    {
     "name": "stdout",
     "output_type": "stream",
     "text": [
      "1 loops, best of 3: 14.4 s per loop\n"
     ]
    }
   ],
   "source": [
    "%timeit sum(x * x for x in xrange(100000000))"
   ]
  },
  {
   "cell_type": "markdown",
   "metadata": {},
   "source": [
    "If you need to search in items, dictionaries and sets are preferable to lists."
   ]
  },
  {
   "cell_type": "code",
   "execution_count": null,
   "metadata": {},
   "outputs": [],
   "source": [
    "a = range(1000000)\n",
    "b = set(range(1000000))\n",
    "%timeit 9 in a\n",
    "%timeit 9 in b"
   ]
  },
  {
   "cell_type": "markdown",
   "metadata": {},
   "source": [
    "# Python online resources\n",
    "\n",
    "+ Python Practice Book: [Link](http://anandology.com/python-practice-book/index.html)\n",
    "+ Python Online Course at Code Academy: [Link](http://www.codecademy.com/en/tracks/python)\n",
    "+ Think Python: How to Think Like a Computer Scientist Book: [Link](http://greenteapress.com/thinkpython/index.html)"
   ]
  }
 ],
 "metadata": {
  "kernelspec": {
   "display_name": "Python 2",
   "language": "python",
   "name": "python2"
  },
  "language_info": {
   "codemirror_mode": {
    "name": "ipython",
    "version": 2
   },
   "file_extension": ".py",
   "mimetype": "text/x-python",
   "name": "python",
   "nbconvert_exporter": "python",
   "pygments_lexer": "ipython2",
   "version": "2.7.14"
  }
 },
 "nbformat": 4,
 "nbformat_minor": 1
}
